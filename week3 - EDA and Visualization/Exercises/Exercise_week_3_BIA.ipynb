{
  "nbformat": 4,
  "nbformat_minor": 0,
  "metadata": {
    "colab": {
      "name": "Exercise week 3 BIA.ipynb",
      "provenance": [],
      "collapsed_sections": [],
      "authorship_tag": "ABX9TyN8Ava07ye9TP5orMLnTw72",
      "include_colab_link": true
    },
    "kernelspec": {
      "name": "python3",
      "display_name": "Python 3"
    }
  },
  "cells": [
    {
      "cell_type": "markdown",
      "metadata": {
        "id": "view-in-github",
        "colab_type": "text"
      },
      "source": [
        "<a href=\"https://colab.research.google.com/github/tbacha/DMML2019_Team_Apple/blob/master/week3%20-%20EDA%20and%20Visualization/Exercises/Exercise_week_3_BIA.ipynb\" target=\"_parent\"><img src=\"https://colab.research.google.com/assets/colab-badge.svg\" alt=\"Open In Colab\"/></a>"
      ]
    },
    {
      "cell_type": "markdown",
      "metadata": {
        "id": "AtYsn1mvhp4K",
        "colab_type": "text"
      },
      "source": [
        "\n",
        "# EDA and data visualization\n",
        "\n",
        "## Exercises\n",
        "\n",
        "In this exercise you're going to follow the walkthroughs seen before and creat the same types of charts.<br>\n",
        "Thoses chart will help you to answer questions.\n",
        "\n",
        "For this, we're going to use the same data-set we used in the walkthroughs.<br>\n",
        "\n",
        "***Beware ! You need to clean the data-set to be able to answer the questions ;)***"
      ]
    },
    {
      "cell_type": "markdown",
      "metadata": {
        "id": "JYocJ-4liOLV",
        "colab_type": "text"
      },
      "source": [
        "## 1. Imports, data set and cleaning"
      ]
    },
    {
      "cell_type": "markdown",
      "metadata": {
        "id": "RijUQ0qCjW8t",
        "colab_type": "text"
      },
      "source": [
        "###1.1 Imports"
      ]
    },
    {
      "cell_type": "code",
      "metadata": {
        "id": "cGLLr160hapX",
        "colab_type": "code",
        "colab": {}
      },
      "source": [
        "#do the imports here"
      ],
      "execution_count": 0,
      "outputs": []
    },
    {
      "cell_type": "markdown",
      "metadata": {
        "id": "XXOsSdIejaFv",
        "colab_type": "text"
      },
      "source": [
        "###1.2 Load the data-set"
      ]
    },
    {
      "cell_type": "code",
      "metadata": {
        "id": "xFyebb9sitQQ",
        "colab_type": "code",
        "colab": {}
      },
      "source": [
        "#\"https://raw.githubusercontent.com/michalis0/Business-Intelligence-and-Analytics/master/data/Telco-Customer-Churn.csv\")"
      ],
      "execution_count": 0,
      "outputs": []
    },
    {
      "cell_type": "markdown",
      "metadata": {
        "id": "kFaAuHmujjsG",
        "colab_type": "text"
      },
      "source": [
        "###1.2 Cleaning the NaN value"
      ]
    },
    {
      "cell_type": "code",
      "metadata": {
        "id": "Z3tQFRjAi4gZ",
        "colab_type": "code",
        "colab": {}
      },
      "source": [
        "#data.isnull().sum()"
      ],
      "execution_count": 0,
      "outputs": []
    },
    {
      "cell_type": "code",
      "metadata": {
        "id": "fNA0mpRwqZIj",
        "colab_type": "code",
        "outputId": "11fb861a-12ef-4aa0-82ab-1c6f9dbb562c",
        "colab": {
          "base_uri": "https://localhost:8080/",
          "height": 34
        }
      },
      "source": [
        "#data.shape"
      ],
      "execution_count": 4,
      "outputs": [
        {
          "output_type": "execute_result",
          "data": {
            "text/plain": [
              "(7043, 21)"
            ]
          },
          "metadata": {
            "tags": []
          },
          "execution_count": 4
        }
      ]
    },
    {
      "cell_type": "code",
      "metadata": {
        "id": "J4NOThwnvUmI",
        "colab_type": "code",
        "colab": {}
      },
      "source": [
        "#data.dtypes"
      ],
      "execution_count": 0,
      "outputs": []
    },
    {
      "cell_type": "markdown",
      "metadata": {
        "id": "k6QdzMDMykna",
        "colab_type": "text"
      },
      "source": [
        "transforme `TotalCharges` into float with:\n",
        "```python \n",
        "pd.to_numeric(data['TheColumnNeeded'],errors='coerce')\n",
        "```"
      ]
    },
    {
      "cell_type": "code",
      "metadata": {
        "id": "TDPWv-lFvhLN",
        "colab_type": "code",
        "colab": {}
      },
      "source": [
        "#here"
      ],
      "execution_count": 0,
      "outputs": []
    },
    {
      "cell_type": "markdown",
      "metadata": {
        "id": "hBAgHL0jjB-A",
        "colab_type": "text"
      },
      "source": [
        "##2. Pie chart\n",
        "**question:**\n",
        "\"What is the proportion of Female in the dataframe ?\""
      ]
    },
    {
      "cell_type": "code",
      "metadata": {
        "id": "4JJPX8QqkFY9",
        "colab_type": "code",
        "colab": {}
      },
      "source": [
        "#you can count the customerID"
      ],
      "execution_count": 0,
      "outputs": []
    },
    {
      "cell_type": "markdown",
      "metadata": {
        "id": "oQsmwPedkdiN",
        "colab_type": "text"
      },
      "source": [
        "##3. Barplot\n",
        "\n",
        "**question:** \"How many women are in the dataframe ?\"\n"
      ]
    },
    {
      "cell_type": "code",
      "metadata": {
        "id": "IR6u5OuflDfX",
        "colab_type": "code",
        "colab": {}
      },
      "source": [
        "#you can count the customerID"
      ],
      "execution_count": 0,
      "outputs": []
    },
    {
      "cell_type": "markdown",
      "metadata": {
        "id": "9RwCrAzLlPbx",
        "colab_type": "text"
      },
      "source": [
        "**Horizontally**"
      ]
    },
    {
      "cell_type": "code",
      "metadata": {
        "id": "2pSaYVh5lNJZ",
        "colab_type": "code",
        "colab": {}
      },
      "source": [
        "#you can count the customerID"
      ],
      "execution_count": 0,
      "outputs": []
    },
    {
      "cell_type": "markdown",
      "metadata": {
        "id": "uh7VdbP9qUhl",
        "colab_type": "text"
      },
      "source": [
        "##4. Barplot using Seaborn\n",
        "**question:** \"Which payement methode is the most represented  ?\"<br>\n"
      ]
    },
    {
      "cell_type": "code",
      "metadata": {
        "id": "9NsNpqJFqaR8",
        "colab_type": "code",
        "colab": {}
      },
      "source": [
        "#you can count the customerID"
      ],
      "execution_count": 0,
      "outputs": []
    },
    {
      "cell_type": "markdown",
      "metadata": {
        "id": "-F86Xg0erSRC",
        "colab_type": "text"
      },
      "source": [
        "##5. Boxplot\n",
        "\n",
        "**question:** \"What are the mean, median, min and the value of the third quartile of the `MonthlyCharges`  ?\"<br>\n"
      ]
    },
    {
      "cell_type": "code",
      "metadata": {
        "id": "251-kJdnrzxf",
        "colab_type": "code",
        "colab": {}
      },
      "source": [
        "#here for the visualization"
      ],
      "execution_count": 0,
      "outputs": []
    },
    {
      "cell_type": "code",
      "metadata": {
        "id": "gs2HcETer6S6",
        "colab_type": "code",
        "colab": {}
      },
      "source": [
        "#here for the numerical"
      ],
      "execution_count": 0,
      "outputs": []
    },
    {
      "cell_type": "markdown",
      "metadata": {
        "id": "GkBnjB1jsLyl",
        "colab_type": "text"
      },
      "source": [
        "## 6. Scatter Plot and lines\n"
      ]
    },
    {
      "cell_type": "markdown",
      "metadata": {
        "id": "vqIPh6zzsXqU",
        "colab_type": "text"
      },
      "source": [
        "### 6.1 Scatter plot\n",
        "**question:** \"Is there a correlation between the `MonthlyCharges` and the `TotalCharges` ?\""
      ]
    },
    {
      "cell_type": "code",
      "metadata": {
        "id": "ZbgTbWEltB0c",
        "colab_type": "code",
        "colab": {}
      },
      "source": [
        "#"
      ],
      "execution_count": 0,
      "outputs": []
    },
    {
      "cell_type": "markdown",
      "metadata": {
        "id": "WdjnIYDjtRiS",
        "colab_type": "text"
      },
      "source": [
        "###6.2 Distribution plot\n",
        "**question:** \"how shape the distribution of `TotalCharges` ? And what is the kernel density for a `TotalCharges`value of 2'000 ?\""
      ]
    },
    {
      "cell_type": "code",
      "metadata": {
        "id": "6deTWXL3ttxW",
        "colab_type": "code",
        "colab": {}
      },
      "source": [
        "#"
      ],
      "execution_count": 0,
      "outputs": []
    },
    {
      "cell_type": "code",
      "metadata": {
        "id": "o_vo1OTDtzVH",
        "colab_type": "code",
        "colab": {}
      },
      "source": [
        "#"
      ],
      "execution_count": 0,
      "outputs": []
    },
    {
      "cell_type": "markdown",
      "metadata": {
        "id": "9AFfnMivupSb",
        "colab_type": "text"
      },
      "source": [
        "## Pair Grid or \"how to find correlations ?\"\n",
        "**question:** \"could you find any correlation between one of those values: \" `tenure`, `MonthlyCharges`, `TotalCharges` ?\""
      ]
    },
    {
      "cell_type": "code",
      "metadata": {
        "id": "xePuV_YNwTeJ",
        "colab_type": "code",
        "colab": {}
      },
      "source": [
        "#"
      ],
      "execution_count": 0,
      "outputs": []
    }
  ]
}