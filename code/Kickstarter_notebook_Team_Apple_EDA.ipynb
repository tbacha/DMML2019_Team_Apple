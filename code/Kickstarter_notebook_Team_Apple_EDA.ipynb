{
  "nbformat": 4,
  "nbformat_minor": 0,
  "metadata": {
    "colab": {
      "name": "Kickstarter_notebook_Team_Apple.ipynb",
      "provenance": [],
      "toc_visible": true
    },
    "kernelspec": {
      "display_name": "Python 3",
      "language": "python",
      "name": "python3"
    },
    "language_info": {
      "codemirror_mode": {
        "name": "ipython",
        "version": 3
      },
      "file_extension": ".py",
      "mimetype": "text/x-python",
      "name": "python",
      "nbconvert_exporter": "python",
      "pygments_lexer": "ipython3",
      "version": "3.7.3"
    }
  },
  "cells": [
    {
      "cell_type": "markdown",
      "metadata": {
        "colab_type": "text",
        "id": "DtZI44k_gjGB"
      },
      "source": [
        "# Gathering Insight from Kickstarter Data: EDA\n",
        "\n",
        "_A project by Team Apple (Data Mining & Machine Learning, HEC Lausanne, Fall 2019)_"
      ]
    },
    {
      "cell_type": "markdown",
      "metadata": {
        "id": "LGdj8m8J203i",
        "colab_type": "text"
      },
      "source": [
        "With the rise of the social web, a new practice known as crowdfunding has appeared, allowing individuals or companies to ask people around the world to invest in their projects. Multiple crowdfunding platforms have emerged since then. Kickstarter is certainly among the most popular ones (especially in the US). In 2019, the company received more than 4 billion USD for 445 thousand different projects in categories such as technology, art, media, ... The idea behind our machine learning project is to gather insight from Kickstarter’s data in order to determine the key factors to a crowdfunding campaign’s success or failure.\n",
        "\n",
        "We will be using [this dataset](kaggle.com/kemical/kickstarter-projects) from Kaggle. It contains all Kickstarter projects until January 2018 (i.e. around 375’000 records). The data was collected directly from the Kickstarter website, probably by means of HTML parsing. For each record, the set provides several useful features such as the name of the project, its category, the launch date and deadline, the amount of money asked for, its state (failed, cancelled, suspended, succeeded or live), etc.\n",
        "\n",
        "With this project, we would like to address two questions, namely:\n",
        "* Which features can predict with accuracy the success or failure of a Kickstarter project?\n",
        "* Which are the relevant features to determine the amount of money one should ask in order to improve the chances of success of a campaign?\n",
        "\n",
        "**Contents**\n",
        "\n",
        "1. [Imports](#imports)\n",
        "2. [Loading the data](#loading)\n",
        "3. [Data cleaning](#cleaning)\n",
        "4. [Exploratory data analysis (EDA)](#eda)"
      ]
    },
    {
      "cell_type": "markdown",
      "metadata": {
        "id": "6A5EXcDD203k",
        "colab_type": "text"
      },
      "source": [
        "## 1. Imports<a name=\"imports\"></a>"
      ]
    },
    {
      "cell_type": "code",
      "metadata": {
        "colab_type": "code",
        "id": "pgSzZy5s_0iG",
        "colab": {
          "base_uri": "https://localhost:8080/",
          "height": 34
        },
        "outputId": "c25a513f-9edb-4f70-fd6c-cf1237f6a6e3"
      },
      "source": [
        "import numpy as np\n",
        "import pandas as pd\n",
        "import seaborn as sns\n",
        "import matplotlib\n",
        "import matplotlib.pyplot as plt\n",
        "!pip install squarify\n",
        "%matplotlib inline"
      ],
      "execution_count": 41,
      "outputs": [
        {
          "output_type": "stream",
          "text": [
            "Requirement already satisfied: squarify in /usr/local/lib/python3.6/dist-packages (0.4.3)\n"
          ],
          "name": "stdout"
        }
      ]
    },
    {
      "cell_type": "markdown",
      "metadata": {
        "colab_type": "text",
        "id": "gkmZVwKz_0iJ"
      },
      "source": [
        "## 2. Loading the data<a name=\"loading\"></a>"
      ]
    },
    {
      "cell_type": "code",
      "metadata": {
        "colab_type": "code",
        "id": "j2uwGpIz_0iK",
        "outputId": "e37ff691-5d6c-428a-bf93-076936b17b30",
        "colab": {
          "base_uri": "https://localhost:8080/",
          "height": 306
        }
      },
      "source": [
        "df = pd.read_csv(\"https://raw.githubusercontent.com/tbacha/DMML2019_Team_Apple/master/data/ks-projects-201801.csv\")\n",
        "df.head()"
      ],
      "execution_count": 2,
      "outputs": [
        {
          "output_type": "execute_result",
          "data": {
            "text/html": [
              "<div>\n",
              "<style scoped>\n",
              "    .dataframe tbody tr th:only-of-type {\n",
              "        vertical-align: middle;\n",
              "    }\n",
              "\n",
              "    .dataframe tbody tr th {\n",
              "        vertical-align: top;\n",
              "    }\n",
              "\n",
              "    .dataframe thead th {\n",
              "        text-align: right;\n",
              "    }\n",
              "</style>\n",
              "<table border=\"1\" class=\"dataframe\">\n",
              "  <thead>\n",
              "    <tr style=\"text-align: right;\">\n",
              "      <th></th>\n",
              "      <th>ID</th>\n",
              "      <th>name</th>\n",
              "      <th>category</th>\n",
              "      <th>main_category</th>\n",
              "      <th>currency</th>\n",
              "      <th>deadline</th>\n",
              "      <th>goal</th>\n",
              "      <th>launched</th>\n",
              "      <th>pledged</th>\n",
              "      <th>state</th>\n",
              "      <th>backers</th>\n",
              "      <th>country</th>\n",
              "      <th>usd pledged</th>\n",
              "      <th>usd_pledged_real</th>\n",
              "      <th>usd_goal_real</th>\n",
              "    </tr>\n",
              "  </thead>\n",
              "  <tbody>\n",
              "    <tr>\n",
              "      <th>0</th>\n",
              "      <td>1000002330</td>\n",
              "      <td>The Songs of Adelaide &amp; Abullah</td>\n",
              "      <td>Poetry</td>\n",
              "      <td>Publishing</td>\n",
              "      <td>GBP</td>\n",
              "      <td>2015-10-09</td>\n",
              "      <td>1000.0</td>\n",
              "      <td>2015-08-11 12:12:28</td>\n",
              "      <td>0.0</td>\n",
              "      <td>failed</td>\n",
              "      <td>0</td>\n",
              "      <td>GB</td>\n",
              "      <td>0.0</td>\n",
              "      <td>0.0</td>\n",
              "      <td>1533.95</td>\n",
              "    </tr>\n",
              "    <tr>\n",
              "      <th>1</th>\n",
              "      <td>1000003930</td>\n",
              "      <td>Greeting From Earth: ZGAC Arts Capsule For ET</td>\n",
              "      <td>Narrative Film</td>\n",
              "      <td>Film &amp; Video</td>\n",
              "      <td>USD</td>\n",
              "      <td>2017-11-01</td>\n",
              "      <td>30000.0</td>\n",
              "      <td>2017-09-02 04:43:57</td>\n",
              "      <td>2421.0</td>\n",
              "      <td>failed</td>\n",
              "      <td>15</td>\n",
              "      <td>US</td>\n",
              "      <td>100.0</td>\n",
              "      <td>2421.0</td>\n",
              "      <td>30000.00</td>\n",
              "    </tr>\n",
              "    <tr>\n",
              "      <th>2</th>\n",
              "      <td>1000004038</td>\n",
              "      <td>Where is Hank?</td>\n",
              "      <td>Narrative Film</td>\n",
              "      <td>Film &amp; Video</td>\n",
              "      <td>USD</td>\n",
              "      <td>2013-02-26</td>\n",
              "      <td>45000.0</td>\n",
              "      <td>2013-01-12 00:20:50</td>\n",
              "      <td>220.0</td>\n",
              "      <td>failed</td>\n",
              "      <td>3</td>\n",
              "      <td>US</td>\n",
              "      <td>220.0</td>\n",
              "      <td>220.0</td>\n",
              "      <td>45000.00</td>\n",
              "    </tr>\n",
              "    <tr>\n",
              "      <th>3</th>\n",
              "      <td>1000007540</td>\n",
              "      <td>ToshiCapital Rekordz Needs Help to Complete Album</td>\n",
              "      <td>Music</td>\n",
              "      <td>Music</td>\n",
              "      <td>USD</td>\n",
              "      <td>2012-04-16</td>\n",
              "      <td>5000.0</td>\n",
              "      <td>2012-03-17 03:24:11</td>\n",
              "      <td>1.0</td>\n",
              "      <td>failed</td>\n",
              "      <td>1</td>\n",
              "      <td>US</td>\n",
              "      <td>1.0</td>\n",
              "      <td>1.0</td>\n",
              "      <td>5000.00</td>\n",
              "    </tr>\n",
              "    <tr>\n",
              "      <th>4</th>\n",
              "      <td>1000011046</td>\n",
              "      <td>Community Film Project: The Art of Neighborhoo...</td>\n",
              "      <td>Film &amp; Video</td>\n",
              "      <td>Film &amp; Video</td>\n",
              "      <td>USD</td>\n",
              "      <td>2015-08-29</td>\n",
              "      <td>19500.0</td>\n",
              "      <td>2015-07-04 08:35:03</td>\n",
              "      <td>1283.0</td>\n",
              "      <td>canceled</td>\n",
              "      <td>14</td>\n",
              "      <td>US</td>\n",
              "      <td>1283.0</td>\n",
              "      <td>1283.0</td>\n",
              "      <td>19500.00</td>\n",
              "    </tr>\n",
              "  </tbody>\n",
              "</table>\n",
              "</div>"
            ],
            "text/plain": [
              "           ID  ... usd_goal_real\n",
              "0  1000002330  ...       1533.95\n",
              "1  1000003930  ...      30000.00\n",
              "2  1000004038  ...      45000.00\n",
              "3  1000007540  ...       5000.00\n",
              "4  1000011046  ...      19500.00\n",
              "\n",
              "[5 rows x 15 columns]"
            ]
          },
          "metadata": {
            "tags": []
          },
          "execution_count": 2
        }
      ]
    },
    {
      "cell_type": "markdown",
      "metadata": {
        "colab_type": "text",
        "id": "MhNron97_0iN"
      },
      "source": [
        "## 3. Data cleaning<a name=\"cleaning\"></a>"
      ]
    },
    {
      "cell_type": "markdown",
      "metadata": {
        "id": "FYujAt0z203v",
        "colab_type": "text"
      },
      "source": [
        "For several reasons, the dataset in its raw state is only partially usable within the scope of this project. This is why it will undergo several cleaning operations.\n",
        "\n",
        "In this notebook (EDA), the cleaning process is laid out piece by piece to highlight our reasoning, but the code can also be found in `cleaning.py`, which is imported as a module in the machine learning notebook (ML)."
      ]
    },
    {
      "cell_type": "markdown",
      "metadata": {
        "id": "x8VBD4tz203x",
        "colab_type": "text"
      },
      "source": [
        "### Data types"
      ]
    },
    {
      "cell_type": "markdown",
      "metadata": {
        "id": "CuNmWg-T203y",
        "colab_type": "text"
      },
      "source": [
        "The first set of operations concerns data types. Two of them, namely `deadline` and `launched`, are time features which were falsely interpreted as floating-point numbers by pandas. To rectify this, we are turning them into datetime objects.\n",
        "\n",
        "Other than that, all features have the correct type. Categorical features are considered as character strings, which is good enough for our purposes; there is no need to convert them into a `category` data type."
      ]
    },
    {
      "cell_type": "code",
      "metadata": {
        "colab_type": "code",
        "id": "cppfyu3p_0iO",
        "outputId": "649fc6ce-d14e-4c4d-e912-85e3231d43e4",
        "colab": {
          "base_uri": "https://localhost:8080/",
          "height": 289
        }
      },
      "source": [
        "df[\"deadline\"] = pd.to_datetime(df[\"deadline\"])\n",
        "df[\"launched\"] = pd.to_datetime(df[\"launched\"])\n",
        "df.dtypes"
      ],
      "execution_count": 3,
      "outputs": [
        {
          "output_type": "execute_result",
          "data": {
            "text/plain": [
              "ID                           int64\n",
              "name                        object\n",
              "category                    object\n",
              "main_category               object\n",
              "currency                    object\n",
              "deadline            datetime64[ns]\n",
              "goal                       float64\n",
              "launched            datetime64[ns]\n",
              "pledged                    float64\n",
              "state                       object\n",
              "backers                      int64\n",
              "country                     object\n",
              "usd pledged                float64\n",
              "usd_pledged_real           float64\n",
              "usd_goal_real              float64\n",
              "dtype: object"
            ]
          },
          "metadata": {
            "tags": []
          },
          "execution_count": 3
        }
      ]
    },
    {
      "cell_type": "markdown",
      "metadata": {
        "id": "OnoBUuux2031",
        "colab_type": "text"
      },
      "source": [
        "### `state` feature"
      ]
    },
    {
      "cell_type": "markdown",
      "metadata": {
        "id": "YXAL6hkn2032",
        "colab_type": "text"
      },
      "source": [
        "The second set of operations is related to project states. On the Kickstarter platform, they can take one of 6 possible values:"
      ]
    },
    {
      "cell_type": "code",
      "metadata": {
        "colab_type": "code",
        "id": "Tlq_myGvUEE1",
        "outputId": "a537bfcc-d3a0-45cc-f4cd-a48600fc9231",
        "colab": {
          "base_uri": "https://localhost:8080/",
          "height": 51
        }
      },
      "source": [
        "df[\"state\"].unique()"
      ],
      "execution_count": 4,
      "outputs": [
        {
          "output_type": "execute_result",
          "data": {
            "text/plain": [
              "array(['failed', 'canceled', 'successful', 'live', 'undefined',\n",
              "       'suspended'], dtype=object)"
            ]
          },
          "metadata": {
            "tags": []
          },
          "execution_count": 4
        }
      ]
    },
    {
      "cell_type": "markdown",
      "metadata": {
        "id": "ZQpeq9WK2036",
        "colab_type": "text"
      },
      "source": [
        "For our project, we are addressing the criteria for success or failure. This means we have to somehow deal with other values of `state`. Since we are unable to determine \"undefined\" projects actually represent, they are simply removed. Furthermore, the information of \"live\" and \"suspended\" projects are subject to change after the capture of this dataset (in January of 2018). Therefore, these observations are also discarded (we are only interested in historical data that can be relied upon)."
      ]
    },
    {
      "cell_type": "code",
      "metadata": {
        "colab_type": "code",
        "id": "KyN8qVEI_0iR",
        "colab": {}
      },
      "source": [
        "criteria = df[\"state\"].isin([\"failed\", \"successful\", \"canceled\"])\n",
        "df = df[criteria]"
      ],
      "execution_count": 0,
      "outputs": []
    },
    {
      "cell_type": "markdown",
      "metadata": {
        "id": "OA7tHaPW2039",
        "colab_type": "text"
      },
      "source": [
        "Since we would like to have only two classes to predict, we also have find a way to work with cancelled projects. There are around 700 projects marked as cancelled, but which actually reached their goal. For the sake of argument, we assume that these were succcessful; all others are considered as failures."
      ]
    },
    {
      "cell_type": "code",
      "metadata": {
        "id": "0jmpZ-hy203_",
        "colab_type": "code",
        "colab": {}
      },
      "source": [
        "df.loc[(df[\"state\"] == \"canceled\") & (df[\"usd_pledged_real\"] >= df[\"usd_goal_real\"]), \"state\"] = \"successful\"\n",
        "df.loc[(df[\"state\"] == \"canceled\") & (df[\"usd_pledged_real\"] < df[\"usd_goal_real\"]), \"state\"] = \"failed\""
      ],
      "execution_count": 0,
      "outputs": []
    },
    {
      "cell_type": "markdown",
      "metadata": {
        "id": "mNsWym5N204C",
        "colab_type": "text"
      },
      "source": [
        "Finally, to satisfy the prerequisites of some machine learning models, the \"successful\" and \"failed\" values are replaced by 1 and 0 respectively. "
      ]
    },
    {
      "cell_type": "code",
      "metadata": {
        "id": "8vgFXDvl204D",
        "colab_type": "code",
        "colab": {
          "base_uri": "https://localhost:8080/",
          "height": 34
        },
        "outputId": "af14014a-35cf-4b34-a33f-76a557f8d2e4"
      },
      "source": [
        "df.loc[(df[\"state\"] == \"successful\"), \"state\"] = 1\n",
        "df.loc[(df[\"state\"] == \"failed\"), \"state\"] = 0\n",
        "df[\"state\"].unique()"
      ],
      "execution_count": 7,
      "outputs": [
        {
          "output_type": "execute_result",
          "data": {
            "text/plain": [
              "array([0, 1])"
            ]
          },
          "metadata": {
            "tags": []
          },
          "execution_count": 7
        }
      ]
    },
    {
      "cell_type": "markdown",
      "metadata": {
        "id": "9Dkm4Ibq204G",
        "colab_type": "text"
      },
      "source": [
        "### Other features"
      ]
    },
    {
      "cell_type": "markdown",
      "metadata": {
        "colab_type": "text",
        "id": "evOI1HzXVTWA"
      },
      "source": [
        "When it comes to money features, the original dataset already came with normalized amounts in US dollars for `goal` and `pledged`. We are not taking into account currency exchange rate fluctuations over time, as this would needlessly raise the complexity of our task. Therefore, we have no need for those features anymore.\n",
        "\n",
        "Moreover, the `usd pledged` feature seems to serve no apparent purpose, and some of its values seem faulty. If one looks at the second row of the dataframe (see [above](#loading)), the pledged amount should be 2421.0 USD, but this feature contains a value of 100.0. Since `usd_pledged_real` has all the information we need, we are removing `usd pledged`."
      ]
    },
    {
      "cell_type": "code",
      "metadata": {
        "colab_type": "code",
        "id": "AqT5YbbgVUc3",
        "colab": {}
      },
      "source": [
        "df = df.drop([\"goal\", \"pledged\", \"usd pledged\"], axis=1)"
      ],
      "execution_count": 0,
      "outputs": []
    },
    {
      "cell_type": "markdown",
      "metadata": {
        "id": "cvVI6RNC204K",
        "colab_type": "text"
      },
      "source": [
        "### Additional features"
      ]
    },
    {
      "cell_type": "markdown",
      "metadata": {
        "colab_type": "text",
        "id": "pvGK7TaqB1ir"
      },
      "source": [
        "For analysis and machine learning purposes, we are adding two new features:\n",
        "\n",
        "* **Success rate**: this represents the percentage of the goal that was achieved;\n",
        "* **Elapsed time**: the time that passed between the launch date and the deadline."
      ]
    },
    {
      "cell_type": "code",
      "metadata": {
        "colab_type": "code",
        "id": "QY9TqA4gB31q",
        "outputId": "72120661-0ff6-4d4a-c205-19e107213409",
        "colab": {
          "base_uri": "https://localhost:8080/",
          "height": 204
        }
      },
      "source": [
        "df[\"pct_reached\"] = round(df[\"usd_pledged_real\"] / df[\"usd_goal_real\"], 2)\n",
        "df[\"elapsed_time\"] = df[\"deadline\"] - df[\"launched\"]\n",
        "df[[\"pct_reached\", \"elapsed_time\"]].head()"
      ],
      "execution_count": 9,
      "outputs": [
        {
          "output_type": "execute_result",
          "data": {
            "text/html": [
              "<div>\n",
              "<style scoped>\n",
              "    .dataframe tbody tr th:only-of-type {\n",
              "        vertical-align: middle;\n",
              "    }\n",
              "\n",
              "    .dataframe tbody tr th {\n",
              "        vertical-align: top;\n",
              "    }\n",
              "\n",
              "    .dataframe thead th {\n",
              "        text-align: right;\n",
              "    }\n",
              "</style>\n",
              "<table border=\"1\" class=\"dataframe\">\n",
              "  <thead>\n",
              "    <tr style=\"text-align: right;\">\n",
              "      <th></th>\n",
              "      <th>pct_reached</th>\n",
              "      <th>elapsed_time</th>\n",
              "    </tr>\n",
              "  </thead>\n",
              "  <tbody>\n",
              "    <tr>\n",
              "      <th>0</th>\n",
              "      <td>0.00</td>\n",
              "      <td>58 days 11:47:32</td>\n",
              "    </tr>\n",
              "    <tr>\n",
              "      <th>1</th>\n",
              "      <td>0.08</td>\n",
              "      <td>59 days 19:16:03</td>\n",
              "    </tr>\n",
              "    <tr>\n",
              "      <th>2</th>\n",
              "      <td>0.00</td>\n",
              "      <td>44 days 23:39:10</td>\n",
              "    </tr>\n",
              "    <tr>\n",
              "      <th>3</th>\n",
              "      <td>0.00</td>\n",
              "      <td>29 days 20:35:49</td>\n",
              "    </tr>\n",
              "    <tr>\n",
              "      <th>4</th>\n",
              "      <td>0.07</td>\n",
              "      <td>55 days 15:24:57</td>\n",
              "    </tr>\n",
              "  </tbody>\n",
              "</table>\n",
              "</div>"
            ],
            "text/plain": [
              "   pct_reached     elapsed_time\n",
              "0         0.00 58 days 11:47:32\n",
              "1         0.08 59 days 19:16:03\n",
              "2         0.00 44 days 23:39:10\n",
              "3         0.00 29 days 20:35:49\n",
              "4         0.07 55 days 15:24:57"
            ]
          },
          "metadata": {
            "tags": []
          },
          "execution_count": 9
        }
      ]
    },
    {
      "cell_type": "markdown",
      "metadata": {
        "id": "dgwlbNKn204P",
        "colab_type": "text"
      },
      "source": [
        "### Noisy values"
      ]
    },
    {
      "cell_type": "markdown",
      "metadata": {
        "colab_type": "text",
        "id": "h3l9uuOsZ8FS"
      },
      "source": [
        "In the search for noisy values, we find that there are 201 projects which somehow managed to raise money without the support of any backers. This also revealed a noisy value for `country` (N,0\"). Since those records seem to be corrupted, we are removing them."
      ]
    },
    {
      "cell_type": "code",
      "metadata": {
        "colab_type": "code",
        "id": "VA8k6t5KVmNS",
        "colab": {}
      },
      "source": [
        "criteria = (((df[\"backers\"]==0) & (df[\"usd_pledged_real\"] > 0) | (df[\"country\"] == 'N,0\"')))\n",
        "df = df[~criteria]"
      ],
      "execution_count": 0,
      "outputs": []
    },
    {
      "cell_type": "markdown",
      "metadata": {
        "colab_type": "text",
        "id": "DAi_eJTSUSUS"
      },
      "source": [
        "We also find that there are 3 projects for which no name was entered. Since the values of the other features make sense, and since the role played by a project's name in its success is only marginal, we decide to keep those records."
      ]
    },
    {
      "cell_type": "code",
      "metadata": {
        "colab_type": "code",
        "id": "1G9oKoUfURr9",
        "outputId": "d925c4f7-5cdb-4bbe-aa71-b8ed7c326552",
        "colab": {
          "base_uri": "https://localhost:8080/",
          "height": 142
        }
      },
      "source": [
        "df[pd.isnull(df).any(axis=1)]"
      ],
      "execution_count": 11,
      "outputs": [
        {
          "output_type": "execute_result",
          "data": {
            "text/html": [
              "<div>\n",
              "<style scoped>\n",
              "    .dataframe tbody tr th:only-of-type {\n",
              "        vertical-align: middle;\n",
              "    }\n",
              "\n",
              "    .dataframe tbody tr th {\n",
              "        vertical-align: top;\n",
              "    }\n",
              "\n",
              "    .dataframe thead th {\n",
              "        text-align: right;\n",
              "    }\n",
              "</style>\n",
              "<table border=\"1\" class=\"dataframe\">\n",
              "  <thead>\n",
              "    <tr style=\"text-align: right;\">\n",
              "      <th></th>\n",
              "      <th>ID</th>\n",
              "      <th>name</th>\n",
              "      <th>category</th>\n",
              "      <th>main_category</th>\n",
              "      <th>currency</th>\n",
              "      <th>deadline</th>\n",
              "      <th>launched</th>\n",
              "      <th>state</th>\n",
              "      <th>backers</th>\n",
              "      <th>country</th>\n",
              "      <th>usd_pledged_real</th>\n",
              "      <th>usd_goal_real</th>\n",
              "      <th>pct_reached</th>\n",
              "      <th>elapsed_time</th>\n",
              "    </tr>\n",
              "  </thead>\n",
              "  <tbody>\n",
              "    <tr>\n",
              "      <th>166851</th>\n",
              "      <td>1848699072</td>\n",
              "      <td>NaN</td>\n",
              "      <td>Narrative Film</td>\n",
              "      <td>Film &amp; Video</td>\n",
              "      <td>USD</td>\n",
              "      <td>2012-02-29</td>\n",
              "      <td>2012-01-01 12:35:31</td>\n",
              "      <td>0</td>\n",
              "      <td>1</td>\n",
              "      <td>US</td>\n",
              "      <td>100.00</td>\n",
              "      <td>200000.00</td>\n",
              "      <td>0.00</td>\n",
              "      <td>58 days 11:24:29</td>\n",
              "    </tr>\n",
              "    <tr>\n",
              "      <th>307234</th>\n",
              "      <td>634871725</td>\n",
              "      <td>NaN</td>\n",
              "      <td>Video Games</td>\n",
              "      <td>Games</td>\n",
              "      <td>GBP</td>\n",
              "      <td>2013-01-06</td>\n",
              "      <td>2012-12-19 23:57:48</td>\n",
              "      <td>0</td>\n",
              "      <td>12</td>\n",
              "      <td>GB</td>\n",
              "      <td>316.05</td>\n",
              "      <td>3224.97</td>\n",
              "      <td>0.10</td>\n",
              "      <td>17 days 00:02:12</td>\n",
              "    </tr>\n",
              "    <tr>\n",
              "      <th>338931</th>\n",
              "      <td>796533179</td>\n",
              "      <td>NaN</td>\n",
              "      <td>Painting</td>\n",
              "      <td>Art</td>\n",
              "      <td>USD</td>\n",
              "      <td>2011-12-05</td>\n",
              "      <td>2011-11-06 23:55:55</td>\n",
              "      <td>0</td>\n",
              "      <td>5</td>\n",
              "      <td>US</td>\n",
              "      <td>220.00</td>\n",
              "      <td>35000.00</td>\n",
              "      <td>0.01</td>\n",
              "      <td>28 days 00:04:05</td>\n",
              "    </tr>\n",
              "  </tbody>\n",
              "</table>\n",
              "</div>"
            ],
            "text/plain": [
              "                ID name  ... pct_reached     elapsed_time\n",
              "166851  1848699072  NaN  ...        0.00 58 days 11:24:29\n",
              "307234   634871725  NaN  ...        0.10 17 days 00:02:12\n",
              "338931   796533179  NaN  ...        0.01 28 days 00:04:05\n",
              "\n",
              "[3 rows x 14 columns]"
            ]
          },
          "metadata": {
            "tags": []
          },
          "execution_count": 11
        }
      ]
    },
    {
      "cell_type": "markdown",
      "metadata": {
        "id": "MyS_pPWX204W",
        "colab_type": "text"
      },
      "source": [
        "### Final cleaning"
      ]
    },
    {
      "cell_type": "markdown",
      "metadata": {
        "id": "_2ewSwG1204W",
        "colab_type": "text"
      },
      "source": [
        "The index is updated in order to avoid further complications during the data analysis and machine learning processes (especially for the concatenation of dataframes)."
      ]
    },
    {
      "cell_type": "code",
      "metadata": {
        "id": "KPm-JK9F204X",
        "colab_type": "code",
        "colab": {
          "base_uri": "https://localhost:8080/",
          "height": 97
        },
        "outputId": "a862b7fc-5f4d-44af-b79c-1bf325571d1a"
      },
      "source": [
        "df.reset_index(inplace=True, drop=True)\n",
        "df.tail(1)"
      ],
      "execution_count": 12,
      "outputs": [
        {
          "output_type": "execute_result",
          "data": {
            "text/html": [
              "<div>\n",
              "<style scoped>\n",
              "    .dataframe tbody tr th:only-of-type {\n",
              "        vertical-align: middle;\n",
              "    }\n",
              "\n",
              "    .dataframe tbody tr th {\n",
              "        vertical-align: top;\n",
              "    }\n",
              "\n",
              "    .dataframe thead th {\n",
              "        text-align: right;\n",
              "    }\n",
              "</style>\n",
              "<table border=\"1\" class=\"dataframe\">\n",
              "  <thead>\n",
              "    <tr style=\"text-align: right;\">\n",
              "      <th></th>\n",
              "      <th>ID</th>\n",
              "      <th>name</th>\n",
              "      <th>category</th>\n",
              "      <th>main_category</th>\n",
              "      <th>currency</th>\n",
              "      <th>deadline</th>\n",
              "      <th>launched</th>\n",
              "      <th>state</th>\n",
              "      <th>backers</th>\n",
              "      <th>country</th>\n",
              "      <th>usd_pledged_real</th>\n",
              "      <th>usd_goal_real</th>\n",
              "      <th>pct_reached</th>\n",
              "      <th>elapsed_time</th>\n",
              "    </tr>\n",
              "  </thead>\n",
              "  <tbody>\n",
              "    <tr>\n",
              "      <th>370218</th>\n",
              "      <td>999988282</td>\n",
              "      <td>Nou Renmen Ayiti!  We Love Haiti!</td>\n",
              "      <td>Performance Art</td>\n",
              "      <td>Art</td>\n",
              "      <td>USD</td>\n",
              "      <td>2011-08-16</td>\n",
              "      <td>2011-07-19 09:07:47</td>\n",
              "      <td>0</td>\n",
              "      <td>17</td>\n",
              "      <td>US</td>\n",
              "      <td>524.0</td>\n",
              "      <td>2000.0</td>\n",
              "      <td>0.26</td>\n",
              "      <td>27 days 14:52:13</td>\n",
              "    </tr>\n",
              "  </tbody>\n",
              "</table>\n",
              "</div>"
            ],
            "text/plain": [
              "               ID  ...     elapsed_time\n",
              "370218  999988282  ... 27 days 14:52:13\n",
              "\n",
              "[1 rows x 14 columns]"
            ]
          },
          "metadata": {
            "tags": []
          },
          "execution_count": 12
        }
      ]
    },
    {
      "cell_type": "code",
      "metadata": {
        "colab_type": "code",
        "id": "hbMWJEvZgjH1",
        "outputId": "334805da-b837-4dfc-efdb-228eacfead05",
        "colab": {
          "base_uri": "https://localhost:8080/",
          "height": 34
        }
      },
      "source": [
        "df.shape"
      ],
      "execution_count": 13,
      "outputs": [
        {
          "output_type": "execute_result",
          "data": {
            "text/plain": [
              "(370219, 14)"
            ]
          },
          "metadata": {
            "tags": []
          },
          "execution_count": 13
        }
      ]
    },
    {
      "cell_type": "markdown",
      "metadata": {
        "colab_type": "text",
        "id": "81fd59WM_0iT"
      },
      "source": [
        "## 4. Exploratory data analysis (EDA)<a name=\"eda\"></a>"
      ]
    },
    {
      "cell_type": "markdown",
      "metadata": {
        "id": "5RFaCgTt204d",
        "colab_type": "text"
      },
      "source": [
        "Our cleaned version of the dataset contains 370'219 records and 14 features.\n",
        "\n",
        "The features we suspect to have the most impact on the success of projects are:\n",
        "* `main_category`\n",
        "* `category`\n",
        "* `usd_goal_real`\n",
        "* `country`\n",
        "* `launched`, `deadline` and `elapsed_time`\n",
        "\n",
        "Therefore we will focus on these for the EDA. Also, since the number of backers can also be an indicator of the level of success, part of the EDA is dedicated to it."
      ]
    },
    {
      "cell_type": "markdown",
      "metadata": {
        "id": "fRcywmfn204e",
        "colab_type": "text"
      },
      "source": [
        "###The base rate\n",
        "The following graph gives us our base rates."
      ]
    },
    {
      "cell_type": "code",
      "metadata": {
        "colab_type": "code",
        "id": "GFpB0njn_0iU",
        "outputId": "936f0ada-2013-4da4-8ccc-5329c06e85ce",
        "colab": {
          "base_uri": "https://localhost:8080/",
          "height": 498
        }
      },
      "source": [
        "df_state = df[(df[\"state\"] != \"undefined\")].groupby([\"state\"])[\"ID\"].nunique()\n",
        "ax = df_state.plot(kind=\"pie\", figsize=(7,7), autopct=\"%1.1f%%\")\n",
        "ax.set_title(\"Distribution of states\")\n",
        "ax.set_ylabel(\"\")"
      ],
      "execution_count": 15,
      "outputs": [
        {
          "output_type": "stream",
          "text": [
            "/usr/local/lib/python3.6/dist-packages/pandas/core/ops/__init__.py:1115: FutureWarning: elementwise comparison failed; returning scalar instead, but in the future will perform elementwise comparison\n",
            "  result = method(y)\n"
          ],
          "name": "stderr"
        },
        {
          "output_type": "execute_result",
          "data": {
            "text/plain": [
              "Text(0, 0.5, '')"
            ]
          },
          "metadata": {
            "tags": []
          },
          "execution_count": 15
        },
        {
          "output_type": "display_data",
          "data": {
            "image/png": "[encoded data removed]",
            "text/plain": [
              "<Figure size 504x504 with 1 Axes>"
            ]
          },
          "metadata": {
            "tags": []
          }
        }
      ]
    },
    {
      "cell_type": "markdown",
      "metadata": {
        "colab_type": "text",
        "id": "E4Oa1MrBCYBb"
      },
      "source": [
        "On average, failed and canceled projects tend to ask for a much higher amount of money than successful ones."
      ]
    },
    {
      "cell_type": "code",
      "metadata": {
        "colab_type": "code",
        "id": "puEoZw2-_0iY",
        "outputId": "924c4963-4c9f-4fdc-86e2-45478531b8e8",
        "colab": {
          "base_uri": "https://localhost:8080/",
          "height": 315
        }
      },
      "source": [
        "df_goal_state = df.groupby([\"state\"])[\"usd_goal_real\"].mean()\n",
        "ax = df_goal_state.plot(kind=\"bar\")\n",
        "ax.set_title(\"Average goal set by resulting state\", size=16)\n",
        "ax.set_xlabel(\"Result\", size=14)\n",
        "ax.set_ylabel(\"Goal (USD)\", size=14)"
      ],
      "execution_count": 16,
      "outputs": [
        {
          "output_type": "execute_result",
          "data": {
            "text/plain": [
              "Text(0, 0.5, 'Goal (USD)')"
            ]
          },
          "metadata": {
            "tags": []
          },
          "execution_count": 16
        },
        {
          "output_type": "display_data",
          "data": {
            "image/png": "[encoded data removed]",
            "text/plain": [
              "<Figure size 432x288 with 1 Axes>"
            ]
          },
          "metadata": {
            "tags": []
          }
        }
      ]
    },
    {
      "cell_type": "markdown",
      "metadata": {
        "colab_type": "text",
        "id": "dodDdBsTCgZO"
      },
      "source": [
        "The bulk of the data has reached 100% of its goal or less. The more successful projects can generate up to 2.5 times the amount they asked for.\n",
        "\n",
        "There is an non-negligible number of outliers above the upper bound (about 18,000), the best ones having a ridiculously high percentage of success (max = 104,277.89 %). This is typically when the project owner asked only for a low amount of money, like 1 or 10 USD, and then met with tremendous success.\n",
        "\n",
        "in the following graphics we represent the repartition of the `pct_reached`. \n",
        "As we can see on the figure below, the `pct_reached` values are very stretch. On the right figure we zoome on a repartition without the outliers.\n",
        "Then it looks like a **log-normal** distribution. "
      ]
    },
    {
      "cell_type": "code",
      "metadata": {
        "colab_type": "code",
        "id": "OWPy_NTA_0ia",
        "outputId": "53d4e69a-8505-4743-9e2e-1fe7f9549b99",
        "colab": {
          "base_uri": "https://localhost:8080/",
          "height": 604
        }
      },
      "source": [
        "f, axes = plt.subplots(1, 2, figsize=(14, 7), sharex=False)\n",
        "sns.despine(left=True)\n",
        "sns.boxenplot(x=\"pct_reached\",color=\"b\", scale=\"linear\", data=df,ax=axes[0])\n",
        "sns.boxenplot(x=\"pct_reached\",color=\"b\", scale=\"linear\", data=df[df[\"pct_reached\"]<2.57],ax=axes[1])\n",
        "plt.show()\n",
        "print(\"repartition is the following :\\n\",df[\"pct_reached\"].quantile([0.25,0.5,0.75,0.95]))"
      ],
      "execution_count": 34,
      "outputs": [
        {
          "output_type": "stream",
          "text": [
            "'c' argument looks like a single numeric RGB or RGBA sequence, which should be avoided as value-mapping will have precedence in case its length matches with 'x' & 'y'.  Please use a 2-D array with a single row if you really want to specify the same RGB or RGBA value for all points.\n",
            "'c' argument looks like a single numeric RGB or RGBA sequence, which should be avoided as value-mapping will have precedence in case its length matches with 'x' & 'y'.  Please use a 2-D array with a single row if you really want to specify the same RGB or RGBA value for all points.\n"
          ],
          "name": "stderr"
        },
        {
          "output_type": "display_data",
          "data": {
            "image/png": "[encoded data removed]",
            "text/plain": [
              "<Figure size 1008x504 with 2 Axes>"
            ]
          },
          "metadata": {
            "tags": []
          }
        },
        {
          "output_type": "stream",
          "text": [
            "repartition is the following :\n",
            " 0.25    0.00\n",
            "0.50    0.14\n",
            "0.75    1.07\n",
            "0.95    2.57\n",
            "Name: pct_reached, dtype: float64\n"
          ],
          "name": "stdout"
        }
      ]
    },
    {
      "cell_type": "markdown",
      "metadata": {
        "id": "a3DwNXzMhTrA",
        "colab_type": "text"
      },
      "source": [
        "The figure below is the ploting to control if the `pct_reached` belong to a **log-normal** distribution.\n",
        "On the left side it's still looks like a **log-normal** but with noise. The zoom part of the right side, 95% of the data, show that's it'isn't noise. It's shape more like a signal activation.\n",
        "\n"
      ]
    },
    {
      "cell_type": "code",
      "metadata": {
        "id": "hwdGhMOBIKi4",
        "colab_type": "code",
        "colab": {
          "base_uri": "https://localhost:8080/",
          "height": 459
        },
        "outputId": "13812c5d-f99b-4cfb-9f66-cd14a7e4a221"
      },
      "source": [
        "f, axes = plt.subplots(1, 2, figsize=(14, 7), sharex=False)\n",
        "sns.despine(left=True)\n",
        "sns.distplot(df[\"pct_reached\"], hist=False, color=\"b\", kde_kws={\"shade\": True},ax=axes[0])\n",
        "sns.distplot(df[df[\"pct_reached\"]<2.7][\"pct_reached\"], hist=False, color=\"b\", kde_kws={\"shade\": True},ax=axes[1])\n",
        "plt.show()"
      ],
      "execution_count": 36,
      "outputs": [
        {
          "output_type": "display_data",
          "data": {
            "image/png": "[encoded data removed]",
            "text/plain": [
              "<Figure size 1008x504 with 2 Axes>"
            ]
          },
          "metadata": {
            "tags": []
          }
        }
      ]
    },
    {
      "cell_type": "markdown",
      "metadata": {
        "id": "p1joLEha8q7h",
        "colab_type": "text"
      },
      "source": [
        "#### Base-rate conclusion\n",
        "Our first conclusion is: \n",
        "***if you are successfull, the pledge on your project will be close to the amout you ask for.***"
      ]
    },
    {
      "cell_type": "markdown",
      "metadata": {
        "id": "k_P2UOC7204v",
        "colab_type": "text"
      },
      "source": [
        "### Main categories\n",
        "In this chapter we wanted to know the repartition of `main_category`.\n",
        "\n",
        "Close to a third of all projects are either related to the movie or the music industry."
      ]
    },
    {
      "cell_type": "code",
      "metadata": {
        "colab_type": "code",
        "id": "6qZ_UcP9Cy-z",
        "outputId": "d45b0cb7-f18c-4414-863d-ad5ca0e71b22",
        "colab": {
          "base_uri": "https://localhost:8080/",
          "height": 34
        }
      },
      "source": [
        "print(\"Percentage of projects in the film and music industries:\", round(((df_main_cat.iloc[-1] + df_main_cat.iloc[-2]) / df.shape[0] * 100),2),\"%\")"
      ],
      "execution_count": 64,
      "outputs": [
        {
          "output_type": "stream",
          "text": [
            "Percentage of projects in the film and music industries: 30.08 %\n"
          ],
          "name": "stdout"
        }
      ]
    },
    {
      "cell_type": "markdown",
      "metadata": {
        "id": "8bGmpJXTrf3U",
        "colab_type": "text"
      },
      "source": [
        "The figure below present all the main categorie of project with the number of success and fail."
      ]
    },
    {
      "cell_type": "code",
      "metadata": {
        "id": "5US1QpMf2044",
        "colab_type": "code",
        "colab": {
          "base_uri": "https://localhost:8080/",
          "height": 406
        },
        "outputId": "3ec37e5a-469f-4b4c-e426-4fe0013b5c6f"
      },
      "source": [
        "df_ordered_cat = df.sort_values(by=[\"main_category\"],ascending=True)\n",
        "listeOrder = df.groupby([\"main_category\"])[\"ID\"].nunique().sort_values(ascending=False).index.tolist()\n",
        "fig = plt.gcf()\n",
        "fig.set_size_inches(16, 12)\n",
        "sns.catplot(kind=\"count\", data=df_ordered_cat, x=\"main_category\", hue=\"state\", height=5, aspect=4, order=listeOrder )\n",
        "plt.show()"
      ],
      "execution_count": 85,
      "outputs": [
        {
          "output_type": "display_data",
          "data": {
            "text/plain": [
              "<Figure size 1152x864 with 0 Axes>"
            ]
          },
          "metadata": {
            "tags": []
          }
        },
        {
          "output_type": "display_data",
          "data": {
            "image/png": "[encoded data removed]",
            "text/plain": [
              "<Figure size 1486.6x360 with 1 Axes>"
            ]
          },
          "metadata": {
            "tags": []
          }
        }
      ]
    },
    {
      "cell_type": "code",
      "metadata": {
        "id": "PsPfun5VykuO",
        "colab_type": "code",
        "colab": {}
      },
      "source": [
        "df[\"pct_success\"] = round(df[\"usd_pledged_real\"] / df[\"usd_goal_real\"], 2)"
      ],
      "execution_count": 0,
      "outputs": []
    },
    {
      "cell_type": "code",
      "metadata": {
        "id": "oEpAM3C5zDLC",
        "colab_type": "code",
        "colab": {}
      },
      "source": [
        " df[['state']==1].groupby([\"main_category\"])['ID'].count()"
      ],
      "execution_count": 0,
      "outputs": []
    },
    {
      "cell_type": "markdown",
      "metadata": {
        "id": "QqjqjE7D7EUX",
        "colab_type": "text"
      },
      "source": [
        "#### Main categories conclusion\n",
        "Our first conclusion is that the ***mosts valuables*** `main_category` and the only with a higher successful than a failed rate are:\n",
        "\n",
        "\n",
        "*   **Theater**\n",
        "*   **Dance**\n",
        "*   **Comics**"
      ]
    },
    {
      "cell_type": "markdown",
      "metadata": {
        "id": "ut15aD766AvX",
        "colab_type": "text"
      },
      "source": [
        "###Categories\n",
        "In this chapter we wanted to know the repartition of `category`. In a first time, we choose to be interested in the ***mosts valuables*** `main_category`.<br>\n",
        "We choose to illustrate those `category` because of the number of them.\n",
        "\n",
        "in a second time, we're going to analyse the `category` of the 3 biggest `main_category`.\n",
        "\n",
        "\n",
        "\n",
        "**COMPTER LE NOMBRE DE CATEGORIES**"
      ]
    },
    {
      "cell_type": "code",
      "metadata": {
        "id": "o-ziSQ5f8dvL",
        "colab_type": "code",
        "colab": {
          "base_uri": "https://localhost:8080/",
          "height": 430
        },
        "outputId": "9911de5c-7665-4e8d-9d96-e6393bd0cbb0"
      },
      "source": [
        "df1 = df[(df[\"main_category\"]=='Theater') | (df[\"main_category\"]=='Dance') | (df[\"main_category\"]=='Comics')]\n",
        "df_ordered_cat = df1.sort_values(by=[\"category\"],ascending=True)\n",
        "listeOrder = df1.groupby([\"category\"])[\"ID\"].nunique().sort_values(ascending=False).index.tolist()\n",
        "fig = plt.gcf()\n",
        "fig.set_size_inches(16, 12)\n",
        "sns.catplot(kind=\"count\", data=df_ordered_cat, x=\"category\", hue=\"state\", height=5, aspect=4, order=listeOrder )\n",
        "plt.title(\"Sub-categories of the M.V. 'Main Categories'\",fontsize=23,fontweight=\"bold\")\n",
        "plt.show()"
      ],
      "execution_count": 126,
      "outputs": [
        {
          "output_type": "display_data",
          "data": {
            "text/plain": [
              "<Figure size 1152x864 with 0 Axes>"
            ]
          },
          "metadata": {
            "tags": []
          }
        },
        {
          "output_type": "display_data",
          "data": {
            "image/png": "[encoded data removed]",
            "text/plain": [
              "<Figure size 1486.6x360 with 1 Axes>"
            ]
          },
          "metadata": {
            "tags": []
          }
        }
      ]
    },
    {
      "cell_type": "code",
      "metadata": {
        "id": "COGqQeokCj75",
        "colab_type": "code",
        "colab": {
          "base_uri": "https://localhost:8080/",
          "height": 516
        },
        "outputId": "c6ee23bb-a317-4254-ee72-4177fa68dad8"
      },
      "source": [
        "df2 = df[(df[\"main_category\"]=='Film & Video') | (df[\"main_category\"]=='Music') | (df[\"main_category\"]=='Publishing')]\n",
        "df_ordered_cat = df2.sort_values(by=[\"category\"],ascending=True)\n",
        "listeOrder = df2.groupby([\"category\"])[\"ID\"].nunique().sort_values(ascending=False).index.tolist()\n",
        "fig = plt.gcf()\n",
        "fig.set_size_inches(60, 12)\n",
        "P=sns.catplot(kind=\"count\", data=df_ordered_cat, x=\"category\", hue=\"state\", height=5, aspect=4, order=listeOrder )\n",
        "P.set_xticklabels(rotation=90)\n",
        "plt.title(\"Sub-categories of the biggest. 'Main Categories'\",fontsize=23,fontweight=\"bold\")\n",
        "plt.show()"
      ],
      "execution_count": 136,
      "outputs": [
        {
          "output_type": "display_data",
          "data": {
            "text/plain": [
              "<Figure size 4320x864 with 0 Axes>"
            ]
          },
          "metadata": {
            "tags": []
          }
        },
        {
          "output_type": "display_data",
          "data": {
            "image/png": "[encoded data removed]",
            "text/plain": [
              "<Figure size 1486.6x360 with 1 Axes>"
            ]
          },
          "metadata": {
            "tags": []
          }
        }
      ]
    },
    {
      "cell_type": "markdown",
      "metadata": {
        "id": "7pAEG7eHAmzQ",
        "colab_type": "text"
      },
      "source": [
        "#### Categories conclusion\n",
        "Suprisingly, the ***most valuable*** `category` of the \"M.V. `main_category`\" is **Anthologies**. This could be explain of the small number of project and a subject who speak to an audiance of experts.<br>\n",
        "\n",
        "As expected, the music is the `main_category` with the best sub-categories. Once again the ***most valuable*** `category` are not \"main stream\" categorie and target more experts.\n",
        "<br>\n",
        "<br>\n",
        "\n",
        "So we can think that the \"best way\" to have a project successful is to haven't a \"main stream\" subjet for the project."
      ]
    },
    {
      "cell_type": "markdown",
      "metadata": {
        "id": "on7kkgJF204_",
        "colab_type": "text"
      },
      "source": [
        "### Countries"
      ]
    },
    {
      "cell_type": "markdown",
      "metadata": {
        "colab_type": "text",
        "id": "eieyjOGIC2cp"
      },
      "source": [
        "Non surprisingly, Kickstarter being first and foremost an English-speaking platform, the top 3 most represented countries are the US (by a large margin), the UK and Canada. Then come German and French countries."
      ]
    },
    {
      "cell_type": "code",
      "metadata": {
        "id": "QLtsHASC1Jh7",
        "colab_type": "code",
        "colab": {
          "base_uri": "https://localhost:8080/",
          "height": 707
        },
        "outputId": "3b603ede-3c80-410b-e1e5-e68483ab62e2"
      },
      "source": [
        "fig = plt.gcf()\n",
        "fig.set_size_inches(16, 12)\n",
        "df_country = df.groupby([\"country\"])[\"ID\"].count().sort_values()\n",
        "forMap = df_country.tail(6)\n",
        "Numb = forMap.values.tolist()\n",
        "Title = forMap.index.tolist()\n",
        "squarify.plot(sizes=Numb, label=Title, alpha= 0.4)\n",
        "plt.title(\"Top 6 country\",fontsize=23,fontweight=\"bold\")\n",
        "plt.axis('off')\n",
        "plt.show()"
      ],
      "execution_count": 100,
      "outputs": [
        {
          "output_type": "display_data",
          "data": {
            "image/png": "[encoded data removed]",
            "text/plain": [
              "<Figure size 1152x864 with 1 Axes>"
            ]
          },
          "metadata": {
            "tags": []
          }
        }
      ]
    },
    {
      "cell_type": "markdown",
      "metadata": {
        "id": "xyJCP8IL3-GG",
        "colab_type": "text"
      },
      "source": [
        "In the figure below we can see that the countries with the best success rate are:\n",
        "\n",
        "*   **USA**\n",
        "*   **Great Britain**\n",
        "*  **France**\n",
        "\n"
      ]
    },
    {
      "cell_type": "code",
      "metadata": {
        "id": "H676ljFw205E",
        "colab_type": "code",
        "colab": {
          "base_uri": "https://localhost:8080/",
          "height": 389
        },
        "outputId": "3fe083ca-5002-4f90-ebc1-4dc71f153320"
      },
      "source": [
        "df_selected_countries = df[(df[\"country\"].isin([\"US\", \"GB\", \"CA\", \"AU\", \"DE\", \"FR\", \"CH\"]))]\n",
        "df_new = df_selected_countries.groupby(['country'])['state'].value_counts(normalize=True).rename('percentage').reset_index().sort_values('percentage', ascending=True)\n",
        "sns.catplot(kind=\"bar\", data=df_new, x=\"country\", y=\"percentage\", hue=\"state\", height=5, aspect=4)\n",
        "plt.show()"
      ],
      "execution_count": 142,
      "outputs": [
        {
          "output_type": "display_data",
          "data": {
            "image/png": "[encoded data removed]",
            "text/plain": [
              "<Figure size 1486.6x360 with 1 Axes>"
            ]
          },
          "metadata": {
            "tags": []
          }
        }
      ]
    },
    {
      "cell_type": "markdown",
      "metadata": {
        "id": "qjLAECdkJVpy",
        "colab_type": "text"
      },
      "source": [
        "The figure below show us in wich country the successful project are the most profitable."
      ]
    },
    {
      "cell_type": "code",
      "metadata": {
        "colab_type": "code",
        "id": "bdJCGbOOgjJr",
        "outputId": "1b9dfc98-570a-4284-8269-98a6b33765aa",
        "colab": {
          "base_uri": "https://localhost:8080/",
          "height": 491
        }
      },
      "source": [
        "df_without_na = df[(~df[\"country\"].isin([\"US\", \"CA\"]))].groupby([\"country\"])[\"pct_reached\"].mean().sort_values(ascending= False)\n",
        "fig.set_size_inches(16, 12)\n",
        "ax = df_without_na.plot(kind=\"bar\", width=0.9, figsize=(14, 7))\n",
        "ax.set_title(\"'amount for a success' rate for non-NA countries\", size=16)\n",
        "ax.set_xlabel(\"Country\", size=14)"
      ],
      "execution_count": 152,
      "outputs": [
        {
          "output_type": "execute_result",
          "data": {
            "text/plain": [
              "Text(0.5, 0, 'Country')"
            ]
          },
          "metadata": {
            "tags": []
          },
          "execution_count": 152
        },
        {
          "output_type": "display_data",
          "data": {
            "image/png": "[encoded data removed]",
            "text/plain": [
              "<Figure size 1008x504 with 1 Axes>"
            ]
          },
          "metadata": {
            "tags": []
          }
        }
      ]
    },
    {
      "cell_type": "markdown",
      "metadata": {
        "id": "oihYrXxu205J",
        "colab_type": "text"
      },
      "source": [
        "To end with this chapter, we wanted to answer two question:\n",
        " wich categories is the most successful in Switzerland and \n",
        "\n",
        "1.   Wich categories is the most successful in Switzerland\n",
        "2.   How much are the asked amout on average\n",
        "\n"
      ]
    },
    {
      "cell_type": "code",
      "metadata": {
        "id": "Zy45iYgx205K",
        "colab_type": "code",
        "colab": {
          "base_uri": "https://localhost:8080/",
          "height": 525
        },
        "outputId": "f50c36b4-6627-4d7e-ae5b-e1d9acc5ca30"
      },
      "source": [
        "df_switzerland = df[(df[\"country\"] == \"CH\") & (df[\"state\"] == 1)].groupby([\"main_category\"])[[\"ID\", \"usd_goal_real\"]].agg({\"ID\":\"count\", \"usd_goal_real\":\"mean\"}).sort_values(by=\"usd_goal_real\", ascending=False)\n",
        "df_switzerland[\"usd_goal_real\"].plot(kind=\"bar\", width=0.9, figsize=(14, 7))"
      ],
      "execution_count": 155,
      "outputs": [
        {
          "output_type": "execute_result",
          "data": {
            "text/plain": [
              "<matplotlib.axes._subplots.AxesSubplot at 0x7f615243dc88>"
            ]
          },
          "metadata": {
            "tags": []
          },
          "execution_count": 155
        },
        {
          "output_type": "display_data",
          "data": {
            "image/png": "[encoded data removed]",
            "text/plain": [
              "<Figure size 1008x504 with 1 Axes>"
            ]
          },
          "metadata": {
            "tags": []
          }
        }
      ]
    },
    {
      "cell_type": "markdown",
      "metadata": {
        "id": "KmNBNgMLMMgG",
        "colab_type": "text"
      },
      "source": [
        "#### Countries conclusion\n",
        "\n",
        "The most represented country are the english-speaker ones. But, surprisingly, the most profitable with an interessant success rate is **France**. \n",
        "\n",
        "Another interesting thing is the most interesting `main_catergory` in Switzerland. They are pretty different from the \"standard\" ones. \n",
        "to see \n",
        "[Main categories](#Main categories)"
      ]
    },
    {
      "cell_type": "markdown",
      "metadata": {
        "colab_type": "text",
        "id": "WItwMyVYb98I"
      },
      "source": [
        "### Backers\n",
        "Analyse des backers selon plusieurs paramètre:</br>\n",
        "\n",
        "\n",
        "1.   Quantité de bakers selon les statuts finaux (mean, max, min, median, mode)\n",
        "2.   Quantité de bakers selon le type de projet (mean, max, min, median, mode)\n",
        "3.   Quantité de bakers selon le pays (mean, max, min, median, mode)\n",
        "4.   etc....\n",
        "\n",
        "\n"
      ]
    },
    {
      "cell_type": "markdown",
      "metadata": {
        "colab_type": "text",
        "id": "fO4Q_4UUcAJz"
      },
      "source": [
        "#### Value of Bakers depending of the final state\n",
        "\n",
        "as we can see below, the numbers of backers is pretty random and the spread is really big. \n",
        "The number of outliers seem to be really big with a mean at 263, a median at 71 and a mode at 19.\n"
      ]
    },
    {
      "cell_type": "code",
      "metadata": {
        "colab_type": "code",
        "id": "jHfp8U0JdMnl",
        "outputId": "7e3f600f-7a1a-474f-a78a-4a37c11f7471",
        "colab": {
          "base_uri": "https://localhost:8080/",
          "height": 142
        }
      },
      "source": [
        "df.groupby(['state'])['backers'].agg(['mean','min','max','median',('mode',lambda x: x.mode()[0])])"
      ],
      "execution_count": 157,
      "outputs": [
        {
          "output_type": "execute_result",
          "data": {
            "text/html": [
              "<div>\n",
              "<style scoped>\n",
              "    .dataframe tbody tr th:only-of-type {\n",
              "        vertical-align: middle;\n",
              "    }\n",
              "\n",
              "    .dataframe tbody tr th {\n",
              "        vertical-align: top;\n",
              "    }\n",
              "\n",
              "    .dataframe thead th {\n",
              "        text-align: right;\n",
              "    }\n",
              "</style>\n",
              "<table border=\"1\" class=\"dataframe\">\n",
              "  <thead>\n",
              "    <tr style=\"text-align: right;\">\n",
              "      <th></th>\n",
              "      <th>mean</th>\n",
              "      <th>min</th>\n",
              "      <th>max</th>\n",
              "      <th>median</th>\n",
              "      <th>mode</th>\n",
              "    </tr>\n",
              "    <tr>\n",
              "      <th>state</th>\n",
              "      <th></th>\n",
              "      <th></th>\n",
              "      <th></th>\n",
              "      <th></th>\n",
              "      <th></th>\n",
              "    </tr>\n",
              "  </thead>\n",
              "  <tbody>\n",
              "    <tr>\n",
              "      <th>0</th>\n",
              "      <td>17.514853</td>\n",
              "      <td>0</td>\n",
              "      <td>9326</td>\n",
              "      <td>3</td>\n",
              "      <td>0</td>\n",
              "    </tr>\n",
              "    <tr>\n",
              "      <th>1</th>\n",
              "      <td>263.704277</td>\n",
              "      <td>1</td>\n",
              "      <td>219382</td>\n",
              "      <td>71</td>\n",
              "      <td>19</td>\n",
              "    </tr>\n",
              "  </tbody>\n",
              "</table>\n",
              "</div>"
            ],
            "text/plain": [
              "             mean  min     max  median  mode\n",
              "state                                       \n",
              "0       17.514853    0    9326       3     0\n",
              "1      263.704277    1  219382      71    19"
            ]
          },
          "metadata": {
            "tags": []
          },
          "execution_count": 157
        }
      ]
    },
    {
      "cell_type": "markdown",
      "metadata": {
        "id": "qxfCoNeuQKAe",
        "colab_type": "text"
      },
      "source": [
        "On the figue below, we ploted the repartition of backer. In the first row it's for all the states, on the second only the successful projet."
      ]
    },
    {
      "cell_type": "code",
      "metadata": {
        "colab_type": "code",
        "id": "P_gETbTZmDMc",
        "outputId": "b2383bca-19d0-4c4f-b49d-e4b81773bce5",
        "colab": {
          "base_uri": "https://localhost:8080/",
          "height": 536
        }
      },
      "source": [
        "f, axes = plt.subplots(2, 2, figsize=(14, 7), sharex=False)\n",
        "df1 = df[df['state']==1]\n",
        "sns.despine(left=True)\n",
        "sns.boxenplot(x=\"backers\",color=\"b\", scale=\"linear\", data=df, ax=axes[0,0])\n",
        "sns.boxenplot(x=\"backers\",color=\"b\", scale=\"linear\", data=df[df[\"backers\"]<338], ax=axes[0,1])\n",
        "sns.boxenplot(x=\"backers\",color=\"b\", scale=\"linear\", data=df1, ax=axes[1,0])\n",
        "sns.boxenplot(x=\"backers\",color=\"b\", scale=\"linear\", data=df1[df1[\"backers\"]<883], ax=axes[1,1])\n",
        "plt.show()\n",
        "stat1 = df[\"backers\"].quantile([0.25,0.5,0.75,0.95])\n",
        "stat2 = df1[\"backers\"].quantile([0.25,0.5,0.75,0.95])"
      ],
      "execution_count": 169,
      "outputs": [
        {
          "output_type": "stream",
          "text": [
            "'c' argument looks like a single numeric RGB or RGBA sequence, which should be avoided as value-mapping will have precedence in case its length matches with 'x' & 'y'.  Please use a 2-D array with a single row if you really want to specify the same RGB or RGBA value for all points.\n",
            "'c' argument looks like a single numeric RGB or RGBA sequence, which should be avoided as value-mapping will have precedence in case its length matches with 'x' & 'y'.  Please use a 2-D array with a single row if you really want to specify the same RGB or RGBA value for all points.\n",
            "'c' argument looks like a single numeric RGB or RGBA sequence, which should be avoided as value-mapping will have precedence in case its length matches with 'x' & 'y'.  Please use a 2-D array with a single row if you really want to specify the same RGB or RGBA value for all points.\n",
            "'c' argument looks like a single numeric RGB or RGBA sequence, which should be avoided as value-mapping will have precedence in case its length matches with 'x' & 'y'.  Please use a 2-D array with a single row if you really want to specify the same RGB or RGBA value for all points.\n"
          ],
          "name": "stderr"
        },
        {
          "output_type": "display_data",
          "data": {
            "image/png": "[encoded data removed]",
            "text/plain": [
              "<Figure size 1008x504 with 4 Axes>"
            ]
          },
          "metadata": {
            "tags": []
          }
        }
      ]
    },
    {
      "cell_type": "markdown",
      "metadata": {
        "colab_type": "text",
        "id": "sici0iaAncnX"
      },
      "source": [
        "As we thought the spread is super huge and the number of outliers is super huge too. Then we will represente in the result of the logarithme of those value"
      ]
    },
    {
      "cell_type": "markdown",
      "metadata": {
        "colab_type": "text",
        "id": "iMJxjkBdduCR"
      },
      "source": [
        "#### Bakers selon la main_category\n"
      ]
    },
    {
      "cell_type": "code",
      "metadata": {
        "colab_type": "code",
        "id": "GBIrP1bldQeF",
        "outputId": "9c37fb71-632b-4014-ec63-dc39f7b4ad23",
        "colab": {
          "base_uri": "https://localhost:8080/",
          "height": 545
        }
      },
      "source": [
        "df.groupby(['main_category'])['backers'].agg(['mean','min','max','median', ('mode',lambda x: x.mode()[0])])"
      ],
      "execution_count": 158,
      "outputs": [
        {
          "output_type": "execute_result",
          "data": {
            "text/html": [
              "<div>\n",
              "<style scoped>\n",
              "    .dataframe tbody tr th:only-of-type {\n",
              "        vertical-align: middle;\n",
              "    }\n",
              "\n",
              "    .dataframe tbody tr th {\n",
              "        vertical-align: top;\n",
              "    }\n",
              "\n",
              "    .dataframe thead th {\n",
              "        text-align: right;\n",
              "    }\n",
              "</style>\n",
              "<table border=\"1\" class=\"dataframe\">\n",
              "  <thead>\n",
              "    <tr style=\"text-align: right;\">\n",
              "      <th></th>\n",
              "      <th>mean</th>\n",
              "      <th>min</th>\n",
              "      <th>max</th>\n",
              "      <th>median</th>\n",
              "      <th>mode</th>\n",
              "    </tr>\n",
              "    <tr>\n",
              "      <th>main_category</th>\n",
              "      <th></th>\n",
              "      <th></th>\n",
              "      <th></th>\n",
              "      <th></th>\n",
              "      <th></th>\n",
              "    </tr>\n",
              "  </thead>\n",
              "  <tbody>\n",
              "    <tr>\n",
              "      <th>Art</th>\n",
              "      <td>42.378925</td>\n",
              "      <td>0</td>\n",
              "      <td>22834</td>\n",
              "      <td>10</td>\n",
              "      <td>0</td>\n",
              "    </tr>\n",
              "    <tr>\n",
              "      <th>Comics</th>\n",
              "      <td>135.629198</td>\n",
              "      <td>0</td>\n",
              "      <td>14952</td>\n",
              "      <td>40</td>\n",
              "      <td>0</td>\n",
              "    </tr>\n",
              "    <tr>\n",
              "      <th>Crafts</th>\n",
              "      <td>27.629258</td>\n",
              "      <td>0</td>\n",
              "      <td>12705</td>\n",
              "      <td>3</td>\n",
              "      <td>0</td>\n",
              "    </tr>\n",
              "    <tr>\n",
              "      <th>Dance</th>\n",
              "      <td>43.097430</td>\n",
              "      <td>0</td>\n",
              "      <td>4133</td>\n",
              "      <td>27</td>\n",
              "      <td>0</td>\n",
              "    </tr>\n",
              "    <tr>\n",
              "      <th>Design</th>\n",
              "      <td>241.609948</td>\n",
              "      <td>0</td>\n",
              "      <td>154926</td>\n",
              "      <td>29</td>\n",
              "      <td>0</td>\n",
              "    </tr>\n",
              "    <tr>\n",
              "      <th>Fashion</th>\n",
              "      <td>61.903987</td>\n",
              "      <td>0</td>\n",
              "      <td>15129</td>\n",
              "      <td>5</td>\n",
              "      <td>0</td>\n",
              "    </tr>\n",
              "    <tr>\n",
              "      <th>Film &amp; Video</th>\n",
              "      <td>67.325804</td>\n",
              "      <td>0</td>\n",
              "      <td>91585</td>\n",
              "      <td>12</td>\n",
              "      <td>0</td>\n",
              "    </tr>\n",
              "    <tr>\n",
              "      <th>Food</th>\n",
              "      <td>54.408317</td>\n",
              "      <td>0</td>\n",
              "      <td>13116</td>\n",
              "      <td>6</td>\n",
              "      <td>0</td>\n",
              "    </tr>\n",
              "    <tr>\n",
              "      <th>Games</th>\n",
              "      <td>325.597753</td>\n",
              "      <td>0</td>\n",
              "      <td>219382</td>\n",
              "      <td>30</td>\n",
              "      <td>0</td>\n",
              "    </tr>\n",
              "    <tr>\n",
              "      <th>Journalism</th>\n",
              "      <td>38.771783</td>\n",
              "      <td>0</td>\n",
              "      <td>3136</td>\n",
              "      <td>3</td>\n",
              "      <td>0</td>\n",
              "    </tr>\n",
              "    <tr>\n",
              "      <th>Music</th>\n",
              "      <td>55.000224</td>\n",
              "      <td>0</td>\n",
              "      <td>24883</td>\n",
              "      <td>19</td>\n",
              "      <td>0</td>\n",
              "    </tr>\n",
              "    <tr>\n",
              "      <th>Photography</th>\n",
              "      <td>39.912974</td>\n",
              "      <td>0</td>\n",
              "      <td>5582</td>\n",
              "      <td>6</td>\n",
              "      <td>0</td>\n",
              "    </tr>\n",
              "    <tr>\n",
              "      <th>Publishing</th>\n",
              "      <td>56.840391</td>\n",
              "      <td>0</td>\n",
              "      <td>21808</td>\n",
              "      <td>7</td>\n",
              "      <td>0</td>\n",
              "    </tr>\n",
              "    <tr>\n",
              "      <th>Technology</th>\n",
              "      <td>163.762382</td>\n",
              "      <td>0</td>\n",
              "      <td>105857</td>\n",
              "      <td>7</td>\n",
              "      <td>0</td>\n",
              "    </tr>\n",
              "    <tr>\n",
              "      <th>Theater</th>\n",
              "      <td>47.222488</td>\n",
              "      <td>0</td>\n",
              "      <td>3722</td>\n",
              "      <td>25</td>\n",
              "      <td>0</td>\n",
              "    </tr>\n",
              "  </tbody>\n",
              "</table>\n",
              "</div>"
            ],
            "text/plain": [
              "                     mean  min     max  median  mode\n",
              "main_category                                       \n",
              "Art             42.378925    0   22834      10     0\n",
              "Comics         135.629198    0   14952      40     0\n",
              "Crafts          27.629258    0   12705       3     0\n",
              "Dance           43.097430    0    4133      27     0\n",
              "Design         241.609948    0  154926      29     0\n",
              "Fashion         61.903987    0   15129       5     0\n",
              "Film & Video    67.325804    0   91585      12     0\n",
              "Food            54.408317    0   13116       6     0\n",
              "Games          325.597753    0  219382      30     0\n",
              "Journalism      38.771783    0    3136       3     0\n",
              "Music           55.000224    0   24883      19     0\n",
              "Photography     39.912974    0    5582       6     0\n",
              "Publishing      56.840391    0   21808       7     0\n",
              "Technology     163.762382    0  105857       7     0\n",
              "Theater         47.222488    0    3722      25     0"
            ]
          },
          "metadata": {
            "tags": []
          },
          "execution_count": 158
        }
      ]
    },
    {
      "cell_type": "code",
      "metadata": {
        "colab_type": "code",
        "id": "j3JZqQUMBU1a",
        "colab": {}
      },
      "source": [
        "g = sns.PairGrid(df, vars=['deadline', 'usd_pledged_real', 'usd_goal_real', 'backers'],\n",
        "                 hue='state', palette='RdBu_r')\n",
        "g.map(plt.scatter, alpha=0.9)\n",
        "g.add_legend();"
      ],
      "execution_count": 0,
      "outputs": []
    },
    {
      "cell_type": "markdown",
      "metadata": {
        "colab_type": "text",
        "id": "9X83cmsU1XiU"
      },
      "source": [
        "The relation between the backers and the pledge are realy close.\n",
        "One other thing, we could we focus on the goal less than 20'000'000"
      ]
    },
    {
      "cell_type": "code",
      "metadata": {
        "id": "Xn5TDo3k205d",
        "colab_type": "code",
        "colab": {}
      },
      "source": [
        "df[df['state']==1]['usd_goal_real'].max()"
      ],
      "execution_count": 0,
      "outputs": []
    },
    {
      "cell_type": "code",
      "metadata": {
        "id": "D2_8C6iO205h",
        "colab_type": "code",
        "colab": {}
      },
      "source": [
        "g = sns.PairGrid(df[df[\"usd_goal_real\"]<2015608.88], vars=['deadline', 'usd_pledged_real', 'usd_goal_real', 'backers'],\n",
        "                 hue='state', palette='RdBu_r')\n",
        "g.map(plt.scatter, alpha=0.9)\n",
        "g.add_legend();"
      ],
      "execution_count": 0,
      "outputs": []
    },
    {
      "cell_type": "code",
      "metadata": {
        "id": "Zfn4bCgwx3DO",
        "colab_type": "code",
        "colab": {}
      },
      "source": [
        "\n",
        "#forMap = df[(df[\"state\"] != \"undefined\")].groupby([\"state\"])[\"ID\"].count()\n",
        "fig = plt.gcf()\n",
        "fig.set_size_inches(16, 12)\n",
        "forMap = df.groupby([\"main_category\"])[\"ID\"].nunique().sort_values(ascending=True)\n",
        "Numb = forMap.values.tolist()\n",
        "Title = forMap.index.tolist()\n",
        "\n",
        "squarify.plot(sizes=Numb, label=Title, alpha= 0.2)\n",
        "plt.axis('off')\n",
        "plt.show()"
      ],
      "execution_count": 0,
      "outputs": []
    }
  ]
}