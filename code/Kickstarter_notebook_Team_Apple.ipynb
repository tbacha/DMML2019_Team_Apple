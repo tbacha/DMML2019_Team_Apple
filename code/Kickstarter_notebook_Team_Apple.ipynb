{
  "nbformat": 4,
  "nbformat_minor": 0,
  "metadata": {
    "colab": {
      "name": "Kickstarter_notebook_Team_Apple.ipynb",
      "provenance": [],
      "toc_visible": true
    },
    "kernelspec": {
      "display_name": "Python 3",
      "language": "python",
      "name": "python3"
    },
    "language_info": {
      "codemirror_mode": {
        "name": "ipython",
        "version": 3
      },
      "file_extension": ".py",
      "mimetype": "text/x-python",
      "name": "python",
      "nbconvert_exporter": "python",
      "pygments_lexer": "ipython3",
      "version": "3.7.3"
    }
  },
  "cells": [
    {
      "cell_type": "markdown",
      "metadata": {
        "colab_type": "text",
        "id": "DtZI44k_gjGB"
      },
      "source": [
        "# Gathering Insight from Kickstarter Data\n",
        "\n",
        "_A machine learning project by Team Apple (Data Mining & Machine Learning, HEC Lausanne, Fall 2019)_"
      ]
    },
    {
      "cell_type": "markdown",
      "metadata": {
        "id": "xIZR0EkhyKRd",
        "colab_type": "text"
      },
      "source": [
        "With the rise of the social web, a new practice known as crowdfunding has appeared, allowing individuals or companies to ask people around the world to invest in their projects. Multiple crowdfunding platforms have emerged since then. Kickstarter is certainly among the most popular ones (especially in the US). In 2019, the company received more than 4 billion USD for 445 thousand different projects in categories such as technology, art, media, ... The idea behind our machine learning project is to gather insight from Kickstarter’s data in order to determine the key factors to a crowdfunding campaign’s success or failure.\n",
        "\n",
        "We will be using [this dataset](kaggle.com/kemical/kickstarter-projects) from Kaggle. It contains all Kickstarter projects until January 2018 (i.e. around 375’000 records). The data was collected directly from the Kickstarter website, probably by means of HTML parsing. For each record, the set provides several useful features such as the name of the project, its category, the launch date and deadline, the amount of money asked for, its state (failed, cancelled, suspended, succeeded or live), etc.\n",
        "\n",
        "With this project, we would like to address two questions, namely:\n",
        "* Which features can predict with accuracy the success or failure of a Kickstarter project?\n",
        "* Which are the relevant features to determine the amount of money one should ask in order to improve the chances of success of a campaign?\n",
        "\n",
        "Whenever applicable, we will also be mindful of how the situation looks like in Switzerland, since this could potentially be relevant for us, were we to start a crowdfunding campagin using the Kickstarter platform.\n",
        "\n",
        "**Contents**\n",
        "\n",
        "1. [Imports](#imports)\n",
        "2. [Loading the data](#loading)\n",
        "3. [Data cleaning](#cleaning)\n",
        "4. [Exploratory data analysis (EDA)](#eda)\n",
        "5. [Machine learning models](#ml)"
      ]
    },
    {
      "cell_type": "markdown",
      "metadata": {
        "id": "kAf9MuwmyKRh",
        "colab_type": "text"
      },
      "source": [
        "## Imports<a name=\"imports\"></a>"
      ]
    },
    {
      "cell_type": "code",
      "metadata": {
        "colab_type": "code",
        "id": "pgSzZy5s_0iG",
        "colab": {}
      },
      "source": [
        "import numpy as np\n",
        "import pandas as pd\n",
        "import matplotlib.pyplot as plt\n",
        "import seaborn as sns\n",
        "\n",
        "%matplotlib inline"
      ],
      "execution_count": 0,
      "outputs": []
    },
    {
      "cell_type": "markdown",
      "metadata": {
        "colab_type": "text",
        "id": "gkmZVwKz_0iJ"
      },
      "source": [
        "## Loading the data<a name=\"loading\"></a>"
      ]
    },
    {
      "cell_type": "code",
      "metadata": {
        "colab_type": "code",
        "id": "j2uwGpIz_0iK",
        "outputId": "93396c0b-42df-434c-9194-ecbec1892a54",
        "colab": {
          "base_uri": "https://localhost:8080/",
          "height": 306
        }
      },
      "source": [
        "df = pd.read_csv(\"https://raw.githubusercontent.com/tbacha/DMML2019_Team_Apple/master/data/ks-projects-201801.csv\")\n",
        "df.head()"
      ],
      "execution_count": 11,
      "outputs": [
        {
          "output_type": "execute_result",
          "data": {
            "text/html": [
              "<div>\n",
              "<style scoped>\n",
              "    .dataframe tbody tr th:only-of-type {\n",
              "        vertical-align: middle;\n",
              "    }\n",
              "\n",
              "    .dataframe tbody tr th {\n",
              "        vertical-align: top;\n",
              "    }\n",
              "\n",
              "    .dataframe thead th {\n",
              "        text-align: right;\n",
              "    }\n",
              "</style>\n",
              "<table border=\"1\" class=\"dataframe\">\n",
              "  <thead>\n",
              "    <tr style=\"text-align: right;\">\n",
              "      <th></th>\n",
              "      <th>ID</th>\n",
              "      <th>name</th>\n",
              "      <th>category</th>\n",
              "      <th>main_category</th>\n",
              "      <th>currency</th>\n",
              "      <th>deadline</th>\n",
              "      <th>goal</th>\n",
              "      <th>launched</th>\n",
              "      <th>pledged</th>\n",
              "      <th>state</th>\n",
              "      <th>backers</th>\n",
              "      <th>country</th>\n",
              "      <th>usd pledged</th>\n",
              "      <th>usd_pledged_real</th>\n",
              "      <th>usd_goal_real</th>\n",
              "    </tr>\n",
              "  </thead>\n",
              "  <tbody>\n",
              "    <tr>\n",
              "      <th>0</th>\n",
              "      <td>1000002330</td>\n",
              "      <td>The Songs of Adelaide &amp; Abullah</td>\n",
              "      <td>Poetry</td>\n",
              "      <td>Publishing</td>\n",
              "      <td>GBP</td>\n",
              "      <td>2015-10-09</td>\n",
              "      <td>1000.0</td>\n",
              "      <td>2015-08-11 12:12:28</td>\n",
              "      <td>0.0</td>\n",
              "      <td>failed</td>\n",
              "      <td>0</td>\n",
              "      <td>GB</td>\n",
              "      <td>0.0</td>\n",
              "      <td>0.0</td>\n",
              "      <td>1533.95</td>\n",
              "    </tr>\n",
              "    <tr>\n",
              "      <th>1</th>\n",
              "      <td>1000003930</td>\n",
              "      <td>Greeting From Earth: ZGAC Arts Capsule For ET</td>\n",
              "      <td>Narrative Film</td>\n",
              "      <td>Film &amp; Video</td>\n",
              "      <td>USD</td>\n",
              "      <td>2017-11-01</td>\n",
              "      <td>30000.0</td>\n",
              "      <td>2017-09-02 04:43:57</td>\n",
              "      <td>2421.0</td>\n",
              "      <td>failed</td>\n",
              "      <td>15</td>\n",
              "      <td>US</td>\n",
              "      <td>100.0</td>\n",
              "      <td>2421.0</td>\n",
              "      <td>30000.00</td>\n",
              "    </tr>\n",
              "    <tr>\n",
              "      <th>2</th>\n",
              "      <td>1000004038</td>\n",
              "      <td>Where is Hank?</td>\n",
              "      <td>Narrative Film</td>\n",
              "      <td>Film &amp; Video</td>\n",
              "      <td>USD</td>\n",
              "      <td>2013-02-26</td>\n",
              "      <td>45000.0</td>\n",
              "      <td>2013-01-12 00:20:50</td>\n",
              "      <td>220.0</td>\n",
              "      <td>failed</td>\n",
              "      <td>3</td>\n",
              "      <td>US</td>\n",
              "      <td>220.0</td>\n",
              "      <td>220.0</td>\n",
              "      <td>45000.00</td>\n",
              "    </tr>\n",
              "    <tr>\n",
              "      <th>3</th>\n",
              "      <td>1000007540</td>\n",
              "      <td>ToshiCapital Rekordz Needs Help to Complete Album</td>\n",
              "      <td>Music</td>\n",
              "      <td>Music</td>\n",
              "      <td>USD</td>\n",
              "      <td>2012-04-16</td>\n",
              "      <td>5000.0</td>\n",
              "      <td>2012-03-17 03:24:11</td>\n",
              "      <td>1.0</td>\n",
              "      <td>failed</td>\n",
              "      <td>1</td>\n",
              "      <td>US</td>\n",
              "      <td>1.0</td>\n",
              "      <td>1.0</td>\n",
              "      <td>5000.00</td>\n",
              "    </tr>\n",
              "    <tr>\n",
              "      <th>4</th>\n",
              "      <td>1000011046</td>\n",
              "      <td>Community Film Project: The Art of Neighborhoo...</td>\n",
              "      <td>Film &amp; Video</td>\n",
              "      <td>Film &amp; Video</td>\n",
              "      <td>USD</td>\n",
              "      <td>2015-08-29</td>\n",
              "      <td>19500.0</td>\n",
              "      <td>2015-07-04 08:35:03</td>\n",
              "      <td>1283.0</td>\n",
              "      <td>canceled</td>\n",
              "      <td>14</td>\n",
              "      <td>US</td>\n",
              "      <td>1283.0</td>\n",
              "      <td>1283.0</td>\n",
              "      <td>19500.00</td>\n",
              "    </tr>\n",
              "  </tbody>\n",
              "</table>\n",
              "</div>"
            ],
            "text/plain": [
              "           ID  ... usd_goal_real\n",
              "0  1000002330  ...       1533.95\n",
              "1  1000003930  ...      30000.00\n",
              "2  1000004038  ...      45000.00\n",
              "3  1000007540  ...       5000.00\n",
              "4  1000011046  ...      19500.00\n",
              "\n",
              "[5 rows x 15 columns]"
            ]
          },
          "metadata": {
            "tags": []
          },
          "execution_count": 11
        }
      ]
    },
    {
      "cell_type": "markdown",
      "metadata": {
        "colab_type": "text",
        "id": "MhNron97_0iN"
      },
      "source": [
        "## Data cleaning<a name=\"cleaning\"></a>"
      ]
    },
    {
      "cell_type": "markdown",
      "metadata": {
        "id": "_TRBBHg-yKSN",
        "colab_type": "text"
      },
      "source": [
        "For several reasons, the dataset in its raw state is only partially usable within the scope of this project. This is why it will undergo several cleaning operations."
      ]
    },
    {
      "cell_type": "markdown",
      "metadata": {
        "id": "aKYci2q_yKSQ",
        "colab_type": "text"
      },
      "source": [
        "### Data types"
      ]
    },
    {
      "cell_type": "markdown",
      "metadata": {
        "id": "yJjPbVBEyKSU",
        "colab_type": "text"
      },
      "source": [
        "The first set of operations concerns data types. Two of them, namely `deadline` and `launched`, are time features which were falsely interpreted as floating-point numbers by pandas. To rectify this, we are turning them into datetime objects.\n",
        "\n",
        "Other than that, all features have the correct type. Categorical features are considered as character strings, which is good enough for our purposes; there is no need to convert them into a `category` data type."
      ]
    },
    {
      "cell_type": "code",
      "metadata": {
        "colab_type": "code",
        "id": "cppfyu3p_0iO",
        "outputId": "da298201-4d8c-4380-d616-8ad7ac80c91a",
        "colab": {
          "base_uri": "https://localhost:8080/",
          "height": 289
        }
      },
      "source": [
        "df[\"deadline\"] = pd.to_datetime(df[\"deadline\"])\n",
        "df[\"launched\"] = pd.to_datetime(df[\"launched\"])\n",
        "df.dtypes"
      ],
      "execution_count": 12,
      "outputs": [
        {
          "output_type": "execute_result",
          "data": {
            "text/plain": [
              "ID                           int64\n",
              "name                        object\n",
              "category                    object\n",
              "main_category               object\n",
              "currency                    object\n",
              "deadline            datetime64[ns]\n",
              "goal                       float64\n",
              "launched            datetime64[ns]\n",
              "pledged                    float64\n",
              "state                       object\n",
              "backers                      int64\n",
              "country                     object\n",
              "usd pledged                float64\n",
              "usd_pledged_real           float64\n",
              "usd_goal_real              float64\n",
              "dtype: object"
            ]
          },
          "metadata": {
            "tags": []
          },
          "execution_count": 12
        }
      ]
    },
    {
      "cell_type": "markdown",
      "metadata": {
        "id": "Z_RQBWxyyKSo",
        "colab_type": "text"
      },
      "source": [
        "### `state` feature"
      ]
    },
    {
      "cell_type": "markdown",
      "metadata": {
        "id": "gl-Qee8MyKSr",
        "colab_type": "text"
      },
      "source": [
        "The second set of operations is related to project states. On the Kickstarter platform, they can take one of 6 possible values:"
      ]
    },
    {
      "cell_type": "code",
      "metadata": {
        "colab_type": "code",
        "id": "Tlq_myGvUEE1",
        "outputId": "c3fc6ef2-bb8b-43e7-e71a-c5d044e0dffd",
        "colab": {
          "base_uri": "https://localhost:8080/",
          "height": 51
        }
      },
      "source": [
        "df[\"state\"].unique()"
      ],
      "execution_count": 13,
      "outputs": [
        {
          "output_type": "execute_result",
          "data": {
            "text/plain": [
              "array(['failed', 'canceled', 'successful', 'live', 'undefined',\n",
              "       'suspended'], dtype=object)"
            ]
          },
          "metadata": {
            "tags": []
          },
          "execution_count": 13
        }
      ]
    },
    {
      "cell_type": "markdown",
      "metadata": {
        "id": "6IneWfn-yKS6",
        "colab_type": "text"
      },
      "source": [
        "For our project, we are addressing the criteria for success or failure. This means we have to somehow deal with other values of `state`. Since we are unable to determine \"undefined\" projects actually represent, they are simply removed. Furthermore, the information of \"live\" and \"suspended\" projects are subject to change after the capture of this dataset (in January of 2018). Therefore, these observations are also discarded (we are only interested in historical data that can be relied upon)."
      ]
    },
    {
      "cell_type": "code",
      "metadata": {
        "colab_type": "code",
        "id": "KyN8qVEI_0iR",
        "colab": {}
      },
      "source": [
        "criteria = df[\"state\"].isin([\"failed\", \"successful\", \"canceled\"])\n",
        "df = df[criteria]"
      ],
      "execution_count": 0,
      "outputs": []
    },
    {
      "cell_type": "markdown",
      "metadata": {
        "id": "9f4C0zF5yKS-",
        "colab_type": "text"
      },
      "source": [
        "Since we would like to have only two classes to predict, we also have find a way to work with cancelled projects. There are around 700 projects marked as cancelled, but which actually reached their goal. For the sake of argument, we assume that these were succcessful; all others are considered as failures."
      ]
    },
    {
      "cell_type": "code",
      "metadata": {
        "id": "GgJqmfkJyKS_",
        "colab_type": "code",
        "colab": {}
      },
      "source": [
        "df.loc[(df[\"state\"] == \"canceled\") & (df[\"usd_pledged_real\"] >= df[\"usd_goal_real\"]), \"state\"] = \"successful\"\n",
        "df.loc[(df[\"state\"] == \"canceled\") & (df[\"usd_pledged_real\"] < df[\"usd_goal_real\"]), \"state\"] = \"failed\""
      ],
      "execution_count": 0,
      "outputs": []
    },
    {
      "cell_type": "markdown",
      "metadata": {
        "id": "ZI1ogCobyKTC",
        "colab_type": "text"
      },
      "source": [
        "Finally, to satisfy the prerequisites of some machine learning models, the \"successful\" and \"failed\" values are replaced by 1 and 0 respectively. "
      ]
    },
    {
      "cell_type": "code",
      "metadata": {
        "id": "F98Uo7pYyKTC",
        "colab_type": "code",
        "colab": {
          "base_uri": "https://localhost:8080/",
          "height": 34
        },
        "outputId": "25c6239e-9b79-499c-8d79-4b6b13d8e0f2"
      },
      "source": [
        "df[\"state\"] = df[\"state\"].map({\"successful\": 1, \"failed\": 0})\n",
        "df[\"state\"].unique()"
      ],
      "execution_count": 16,
      "outputs": [
        {
          "output_type": "execute_result",
          "data": {
            "text/plain": [
              "array([0, 1])"
            ]
          },
          "metadata": {
            "tags": []
          },
          "execution_count": 16
        }
      ]
    },
    {
      "cell_type": "markdown",
      "metadata": {
        "id": "CtdttHX2yKTH",
        "colab_type": "text"
      },
      "source": [
        "### Other features"
      ]
    },
    {
      "cell_type": "markdown",
      "metadata": {
        "colab_type": "text",
        "id": "evOI1HzXVTWA"
      },
      "source": [
        "When it comes to money features, the original dataset already came with normalized amounts in US dollars for `goal` and `pledged`. We are not taking into account currency exchange rate fluctuations over time, as this would needlessly raise the complexity of our task. Therefore, we have no need for those features anymore.\n",
        "\n",
        "Moreover, the `usd pledged` feature seems to serve no apparent purpose, and some of its values seem faulty. If one looks at the second row of the dataframe (see [above](#loading)), the pledged amount should be 2421.0 USD, but this feature contains a value of 100.0. Since `usd_pledged_real` has all the information we need, we are removing `usd pledged`."
      ]
    },
    {
      "cell_type": "code",
      "metadata": {
        "colab_type": "code",
        "id": "AqT5YbbgVUc3",
        "colab": {}
      },
      "source": [
        "df = df.drop([\"goal\", \"pledged\", \"usd pledged\"], axis=1)"
      ],
      "execution_count": 0,
      "outputs": []
    },
    {
      "cell_type": "markdown",
      "metadata": {
        "id": "ammssCROyKTM",
        "colab_type": "text"
      },
      "source": [
        "### Additional features"
      ]
    },
    {
      "cell_type": "markdown",
      "metadata": {
        "colab_type": "text",
        "id": "pvGK7TaqB1ir"
      },
      "source": [
        "For analysis purposes, we are adding two new features:\n",
        "\n",
        "* **Success rate**: this represents the percentage of the goal that was achieved;\n",
        "* **Elapsed time**: the time that passed between the launch date and the deadline."
      ]
    },
    {
      "cell_type": "code",
      "metadata": {
        "colab_type": "code",
        "id": "QY9TqA4gB31q",
        "outputId": "4bda6549-25c5-434c-a431-fc8a8bca290c",
        "colab": {
          "base_uri": "https://localhost:8080/",
          "height": 204
        }
      },
      "source": [
        "df[\"pct_reached\"] = round(df[\"usd_pledged_real\"] / df[\"usd_goal_real\"], 2)\n",
        "df[\"elapsed_time\"] = df[\"deadline\"] - df[\"launched\"]\n",
        "df[[\"pct_reached\", \"elapsed_time\"]].head()"
      ],
      "execution_count": 18,
      "outputs": [
        {
          "output_type": "execute_result",
          "data": {
            "text/html": [
              "<div>\n",
              "<style scoped>\n",
              "    .dataframe tbody tr th:only-of-type {\n",
              "        vertical-align: middle;\n",
              "    }\n",
              "\n",
              "    .dataframe tbody tr th {\n",
              "        vertical-align: top;\n",
              "    }\n",
              "\n",
              "    .dataframe thead th {\n",
              "        text-align: right;\n",
              "    }\n",
              "</style>\n",
              "<table border=\"1\" class=\"dataframe\">\n",
              "  <thead>\n",
              "    <tr style=\"text-align: right;\">\n",
              "      <th></th>\n",
              "      <th>pct_reached</th>\n",
              "      <th>elapsed_time</th>\n",
              "    </tr>\n",
              "  </thead>\n",
              "  <tbody>\n",
              "    <tr>\n",
              "      <th>0</th>\n",
              "      <td>0.00</td>\n",
              "      <td>58 days 11:47:32</td>\n",
              "    </tr>\n",
              "    <tr>\n",
              "      <th>1</th>\n",
              "      <td>0.08</td>\n",
              "      <td>59 days 19:16:03</td>\n",
              "    </tr>\n",
              "    <tr>\n",
              "      <th>2</th>\n",
              "      <td>0.00</td>\n",
              "      <td>44 days 23:39:10</td>\n",
              "    </tr>\n",
              "    <tr>\n",
              "      <th>3</th>\n",
              "      <td>0.00</td>\n",
              "      <td>29 days 20:35:49</td>\n",
              "    </tr>\n",
              "    <tr>\n",
              "      <th>4</th>\n",
              "      <td>0.07</td>\n",
              "      <td>55 days 15:24:57</td>\n",
              "    </tr>\n",
              "  </tbody>\n",
              "</table>\n",
              "</div>"
            ],
            "text/plain": [
              "   pct_reached     elapsed_time\n",
              "0         0.00 58 days 11:47:32\n",
              "1         0.08 59 days 19:16:03\n",
              "2         0.00 44 days 23:39:10\n",
              "3         0.00 29 days 20:35:49\n",
              "4         0.07 55 days 15:24:57"
            ]
          },
          "metadata": {
            "tags": []
          },
          "execution_count": 18
        }
      ]
    },
    {
      "cell_type": "markdown",
      "metadata": {
        "id": "OeDhQMEuyKTR",
        "colab_type": "text"
      },
      "source": [
        "### Noisy values"
      ]
    },
    {
      "cell_type": "markdown",
      "metadata": {
        "colab_type": "text",
        "id": "h3l9uuOsZ8FS"
      },
      "source": [
        "In the search for noisy values, we find that there are 201 projects which somehow managed to raise money without the support of any backers. This also revealed a noisy value for `country` (N,0\"). Since those records seem to be corrupted, we are removing them."
      ]
    },
    {
      "cell_type": "code",
      "metadata": {
        "colab_type": "code",
        "id": "VA8k6t5KVmNS",
        "outputId": "d690bd67-f7f0-4458-bb5c-c64925cb2e8c",
        "colab": {
          "base_uri": "https://localhost:8080/",
          "height": 145
        }
      },
      "source": [
        "criteria = (((df[\"backers\"]==0) & (df[\"usd_pledged_real\"] > 0) | (df[\"country\"] == 'N,0\"')))\n",
        "df[criteria].head(2)"
      ],
      "execution_count": 19,
      "outputs": [
        {
          "output_type": "execute_result",
          "data": {
            "text/html": [
              "<div>\n",
              "<style scoped>\n",
              "    .dataframe tbody tr th:only-of-type {\n",
              "        vertical-align: middle;\n",
              "    }\n",
              "\n",
              "    .dataframe tbody tr th {\n",
              "        vertical-align: top;\n",
              "    }\n",
              "\n",
              "    .dataframe thead th {\n",
              "        text-align: right;\n",
              "    }\n",
              "</style>\n",
              "<table border=\"1\" class=\"dataframe\">\n",
              "  <thead>\n",
              "    <tr style=\"text-align: right;\">\n",
              "      <th></th>\n",
              "      <th>ID</th>\n",
              "      <th>name</th>\n",
              "      <th>category</th>\n",
              "      <th>main_category</th>\n",
              "      <th>currency</th>\n",
              "      <th>deadline</th>\n",
              "      <th>launched</th>\n",
              "      <th>state</th>\n",
              "      <th>backers</th>\n",
              "      <th>country</th>\n",
              "      <th>usd_pledged_real</th>\n",
              "      <th>usd_goal_real</th>\n",
              "      <th>pct_reached</th>\n",
              "      <th>elapsed_time</th>\n",
              "    </tr>\n",
              "  </thead>\n",
              "  <tbody>\n",
              "    <tr>\n",
              "      <th>2457</th>\n",
              "      <td>1012744036</td>\n",
              "      <td>An Oratorio for our Time - Last Stop Cafe</td>\n",
              "      <td>Music</td>\n",
              "      <td>Music</td>\n",
              "      <td>USD</td>\n",
              "      <td>2016-05-26</td>\n",
              "      <td>2016-04-26 19:46:26</td>\n",
              "      <td>1</td>\n",
              "      <td>0</td>\n",
              "      <td>N,0\"</td>\n",
              "      <td>5170.0</td>\n",
              "      <td>5000.0</td>\n",
              "      <td>1.03</td>\n",
              "      <td>29 days 04:13:34</td>\n",
              "    </tr>\n",
              "    <tr>\n",
              "      <th>4338</th>\n",
              "      <td>1022254171</td>\n",
              "      <td>Help OrphanSporks Record Our Fourth Album!</td>\n",
              "      <td>Music</td>\n",
              "      <td>Music</td>\n",
              "      <td>USD</td>\n",
              "      <td>2016-05-14</td>\n",
              "      <td>2016-04-11 07:20:59</td>\n",
              "      <td>0</td>\n",
              "      <td>0</td>\n",
              "      <td>N,0\"</td>\n",
              "      <td>1375.0</td>\n",
              "      <td>2500.0</td>\n",
              "      <td>0.55</td>\n",
              "      <td>32 days 16:39:01</td>\n",
              "    </tr>\n",
              "  </tbody>\n",
              "</table>\n",
              "</div>"
            ],
            "text/plain": [
              "              ID  ...     elapsed_time\n",
              "2457  1012744036  ... 29 days 04:13:34\n",
              "4338  1022254171  ... 32 days 16:39:01\n",
              "\n",
              "[2 rows x 14 columns]"
            ]
          },
          "metadata": {
            "tags": []
          },
          "execution_count": 19
        }
      ]
    },
    {
      "cell_type": "code",
      "metadata": {
        "id": "Un_hDqo1yKTV",
        "colab_type": "code",
        "colab": {}
      },
      "source": [
        "df = df[~criteria]"
      ],
      "execution_count": 0,
      "outputs": []
    },
    {
      "cell_type": "markdown",
      "metadata": {
        "colab_type": "text",
        "id": "DAi_eJTSUSUS"
      },
      "source": [
        "We also find that there are 3 projects for which no name was entered. Since the values of the other features make sense, and since the role played by a project's name in its success is only marginal, we decide to keep those records."
      ]
    },
    {
      "cell_type": "code",
      "metadata": {
        "colab_type": "code",
        "id": "1G9oKoUfURr9",
        "outputId": "82cf49ec-85f9-4e46-dbb1-43c8d9031ea1",
        "colab": {
          "base_uri": "https://localhost:8080/",
          "height": 142
        }
      },
      "source": [
        "df[pd.isnull(df).any(axis=1)]"
      ],
      "execution_count": 21,
      "outputs": [
        {
          "output_type": "execute_result",
          "data": {
            "text/html": [
              "<div>\n",
              "<style scoped>\n",
              "    .dataframe tbody tr th:only-of-type {\n",
              "        vertical-align: middle;\n",
              "    }\n",
              "\n",
              "    .dataframe tbody tr th {\n",
              "        vertical-align: top;\n",
              "    }\n",
              "\n",
              "    .dataframe thead th {\n",
              "        text-align: right;\n",
              "    }\n",
              "</style>\n",
              "<table border=\"1\" class=\"dataframe\">\n",
              "  <thead>\n",
              "    <tr style=\"text-align: right;\">\n",
              "      <th></th>\n",
              "      <th>ID</th>\n",
              "      <th>name</th>\n",
              "      <th>category</th>\n",
              "      <th>main_category</th>\n",
              "      <th>currency</th>\n",
              "      <th>deadline</th>\n",
              "      <th>launched</th>\n",
              "      <th>state</th>\n",
              "      <th>backers</th>\n",
              "      <th>country</th>\n",
              "      <th>usd_pledged_real</th>\n",
              "      <th>usd_goal_real</th>\n",
              "      <th>pct_reached</th>\n",
              "      <th>elapsed_time</th>\n",
              "    </tr>\n",
              "  </thead>\n",
              "  <tbody>\n",
              "    <tr>\n",
              "      <th>166851</th>\n",
              "      <td>1848699072</td>\n",
              "      <td>NaN</td>\n",
              "      <td>Narrative Film</td>\n",
              "      <td>Film &amp; Video</td>\n",
              "      <td>USD</td>\n",
              "      <td>2012-02-29</td>\n",
              "      <td>2012-01-01 12:35:31</td>\n",
              "      <td>0</td>\n",
              "      <td>1</td>\n",
              "      <td>US</td>\n",
              "      <td>100.00</td>\n",
              "      <td>200000.00</td>\n",
              "      <td>0.00</td>\n",
              "      <td>58 days 11:24:29</td>\n",
              "    </tr>\n",
              "    <tr>\n",
              "      <th>307234</th>\n",
              "      <td>634871725</td>\n",
              "      <td>NaN</td>\n",
              "      <td>Video Games</td>\n",
              "      <td>Games</td>\n",
              "      <td>GBP</td>\n",
              "      <td>2013-01-06</td>\n",
              "      <td>2012-12-19 23:57:48</td>\n",
              "      <td>0</td>\n",
              "      <td>12</td>\n",
              "      <td>GB</td>\n",
              "      <td>316.05</td>\n",
              "      <td>3224.97</td>\n",
              "      <td>0.10</td>\n",
              "      <td>17 days 00:02:12</td>\n",
              "    </tr>\n",
              "    <tr>\n",
              "      <th>338931</th>\n",
              "      <td>796533179</td>\n",
              "      <td>NaN</td>\n",
              "      <td>Painting</td>\n",
              "      <td>Art</td>\n",
              "      <td>USD</td>\n",
              "      <td>2011-12-05</td>\n",
              "      <td>2011-11-06 23:55:55</td>\n",
              "      <td>0</td>\n",
              "      <td>5</td>\n",
              "      <td>US</td>\n",
              "      <td>220.00</td>\n",
              "      <td>35000.00</td>\n",
              "      <td>0.01</td>\n",
              "      <td>28 days 00:04:05</td>\n",
              "    </tr>\n",
              "  </tbody>\n",
              "</table>\n",
              "</div>"
            ],
            "text/plain": [
              "                ID name  ... pct_reached     elapsed_time\n",
              "166851  1848699072  NaN  ...        0.00 58 days 11:24:29\n",
              "307234   634871725  NaN  ...        0.10 17 days 00:02:12\n",
              "338931   796533179  NaN  ...        0.01 28 days 00:04:05\n",
              "\n",
              "[3 rows x 14 columns]"
            ]
          },
          "metadata": {
            "tags": []
          },
          "execution_count": 21
        }
      ]
    },
    {
      "cell_type": "markdown",
      "metadata": {
        "id": "qEEZaEggyKTd",
        "colab_type": "text"
      },
      "source": [
        "### Final cleaning"
      ]
    },
    {
      "cell_type": "markdown",
      "metadata": {
        "id": "rYzMuF_3yKTe",
        "colab_type": "text"
      },
      "source": [
        "The index is updated in order to avoid further complications during the data analysis and machine learning processes (especially for the concatenation of dataframes)."
      ]
    },
    {
      "cell_type": "code",
      "metadata": {
        "id": "EJrdFsZ4yKTf",
        "colab_type": "code",
        "colab": {
          "base_uri": "https://localhost:8080/",
          "height": 97
        },
        "outputId": "e0dbeea9-4aa1-445d-a8f7-5ebc50d442cd"
      },
      "source": [
        "df.reset_index(inplace=True, drop=True)\n",
        "df.tail(1)"
      ],
      "execution_count": 22,
      "outputs": [
        {
          "output_type": "execute_result",
          "data": {
            "text/html": [
              "<div>\n",
              "<style scoped>\n",
              "    .dataframe tbody tr th:only-of-type {\n",
              "        vertical-align: middle;\n",
              "    }\n",
              "\n",
              "    .dataframe tbody tr th {\n",
              "        vertical-align: top;\n",
              "    }\n",
              "\n",
              "    .dataframe thead th {\n",
              "        text-align: right;\n",
              "    }\n",
              "</style>\n",
              "<table border=\"1\" class=\"dataframe\">\n",
              "  <thead>\n",
              "    <tr style=\"text-align: right;\">\n",
              "      <th></th>\n",
              "      <th>ID</th>\n",
              "      <th>name</th>\n",
              "      <th>category</th>\n",
              "      <th>main_category</th>\n",
              "      <th>currency</th>\n",
              "      <th>deadline</th>\n",
              "      <th>launched</th>\n",
              "      <th>state</th>\n",
              "      <th>backers</th>\n",
              "      <th>country</th>\n",
              "      <th>usd_pledged_real</th>\n",
              "      <th>usd_goal_real</th>\n",
              "      <th>pct_reached</th>\n",
              "      <th>elapsed_time</th>\n",
              "    </tr>\n",
              "  </thead>\n",
              "  <tbody>\n",
              "    <tr>\n",
              "      <th>370218</th>\n",
              "      <td>999988282</td>\n",
              "      <td>Nou Renmen Ayiti!  We Love Haiti!</td>\n",
              "      <td>Performance Art</td>\n",
              "      <td>Art</td>\n",
              "      <td>USD</td>\n",
              "      <td>2011-08-16</td>\n",
              "      <td>2011-07-19 09:07:47</td>\n",
              "      <td>0</td>\n",
              "      <td>17</td>\n",
              "      <td>US</td>\n",
              "      <td>524.0</td>\n",
              "      <td>2000.0</td>\n",
              "      <td>0.26</td>\n",
              "      <td>27 days 14:52:13</td>\n",
              "    </tr>\n",
              "  </tbody>\n",
              "</table>\n",
              "</div>"
            ],
            "text/plain": [
              "               ID  ...     elapsed_time\n",
              "370218  999988282  ... 27 days 14:52:13\n",
              "\n",
              "[1 rows x 14 columns]"
            ]
          },
          "metadata": {
            "tags": []
          },
          "execution_count": 22
        }
      ]
    },
    {
      "cell_type": "code",
      "metadata": {
        "colab_type": "code",
        "id": "hbMWJEvZgjH1",
        "outputId": "278a4c0c-8cbd-4241-95e1-c10b267ae66e",
        "colab": {
          "base_uri": "https://localhost:8080/",
          "height": 34
        }
      },
      "source": [
        "df.shape"
      ],
      "execution_count": 23,
      "outputs": [
        {
          "output_type": "execute_result",
          "data": {
            "text/plain": [
              "(370219, 14)"
            ]
          },
          "metadata": {
            "tags": []
          },
          "execution_count": 23
        }
      ]
    },
    {
      "cell_type": "markdown",
      "metadata": {
        "colab_type": "text",
        "id": "81fd59WM_0iT"
      },
      "source": [
        "## Exploratory data analysis (EDA)<a name=\"eda\"></a>"
      ]
    },
    {
      "cell_type": "markdown",
      "metadata": {
        "id": "Ff8aLTkNyKTq",
        "colab_type": "text"
      },
      "source": [
        "Our cleaned version of the dataset contains 370'219 records and 14 features.\n",
        "\n",
        "**Note to Ahmad and Michalis**: most of the EDA commentary hasn't been written yet, but we are satisfied with the metrics we are tracking (at least for now).\n",
        "\n",
        "The features we suspect to have the most impact on the success of projects are:\n",
        "* `main_category`\n",
        "* `country`\n",
        "* `usd_goal_real`\n",
        "* `launched`, `deadline` and `elapsed_time`\n",
        "\n",
        "Therefore we will focus on these for the EDA. Also, since the number of backers can also be an indicator of the level of success, part of the EDA is dedicated to it."
      ]
    },
    {
      "cell_type": "markdown",
      "metadata": {
        "id": "ekIes8fkyKTs",
        "colab_type": "text"
      },
      "source": [
        "The following graph gives us our base rates."
      ]
    },
    {
      "cell_type": "code",
      "metadata": {
        "colab_type": "code",
        "id": "GFpB0njn_0iU",
        "outputId": "ff2a09fa-25a0-442d-e9b4-db4ca6d3d910",
        "colab": {
          "base_uri": "https://localhost:8080/",
          "height": 498
        }
      },
      "source": [
        "df_state = df[(df[\"state\"] != \"undefined\")].groupby([\"state\"])[\"ID\"].nunique()\n",
        "ax = df_state.plot(kind=\"pie\", figsize=(7,7), autopct=\"%1.1f%%\")\n",
        "ax.set_title(\"Distribution of states\")\n",
        "ax.set_ylabel(\"\")"
      ],
      "execution_count": 24,
      "outputs": [
        {
          "output_type": "stream",
          "text": [
            "/usr/local/lib/python3.6/dist-packages/pandas/core/ops/__init__.py:1115: FutureWarning: elementwise comparison failed; returning scalar instead, but in the future will perform elementwise comparison\n",
            "  result = method(y)\n"
          ],
          "name": "stderr"
        },
        {
          "output_type": "execute_result",
          "data": {
            "text/plain": [
              "Text(0, 0.5, '')"
            ]
          },
          "metadata": {
            "tags": []
          },
          "execution_count": 24
        },
        {
          "output_type": "display_data",
          "data": {
            "image/png": "[encoded data removed]",
            "text/plain": [
              "<Figure size 504x504 with 1 Axes>"
            ]
          },
          "metadata": {
            "tags": []
          }
        }
      ]
    },
    {
      "cell_type": "markdown",
      "metadata": {
        "colab_type": "text",
        "id": "E4Oa1MrBCYBb"
      },
      "source": [
        "On average, failed and canceled projects tend to ask for a much higher amount of money than successful ones."
      ]
    },
    {
      "cell_type": "code",
      "metadata": {
        "colab_type": "code",
        "id": "puEoZw2-_0iY",
        "outputId": "a397c1ee-b1c3-4b73-ec33-5bfce25d3892",
        "colab": {
          "base_uri": "https://localhost:8080/",
          "height": 315
        }
      },
      "source": [
        "df_goal_state = df.groupby([\"state\"])[\"usd_goal_real\"].mean()\n",
        "ax = df_goal_state.plot(kind=\"bar\")\n",
        "ax.set_title(\"Average goal set by resulting state\", size=16)\n",
        "ax.set_xlabel(\"Result\", size=14)\n",
        "ax.set_ylabel(\"Goal (USD)\", size=14)"
      ],
      "execution_count": 25,
      "outputs": [
        {
          "output_type": "execute_result",
          "data": {
            "text/plain": [
              "Text(0, 0.5, 'Goal (USD)')"
            ]
          },
          "metadata": {
            "tags": []
          },
          "execution_count": 25
        },
        {
          "output_type": "display_data",
          "data": {
            "image/png": "[encoded data removed]",
            "text/plain": [
              "<Figure size 432x288 with 1 Axes>"
            ]
          },
          "metadata": {
            "tags": []
          }
        }
      ]
    },
    {
      "cell_type": "markdown",
      "metadata": {
        "colab_type": "text",
        "id": "dodDdBsTCgZO"
      },
      "source": [
        "The bulk of the data has reached 100% of its goal or less. The more successful projects can generate up to 2.5 times the amount they asked for.\n",
        "\n",
        "There is an non-negligible number of outliers above the upper bound (about 18,000), the best ones having a ridiculously high percentage of success (max = 104,277.89 %). This is typically when the project owner asked only for a low amount of money, like 1 or 10 USD, and then met with tremendous success."
      ]
    },
    {
      "cell_type": "code",
      "metadata": {
        "colab_type": "code",
        "id": "OWPy_NTA_0ia",
        "outputId": "ff8d683f-3653-4ec4-c3ba-852fb34bfc5c",
        "colab": {
          "base_uri": "https://localhost:8080/",
          "height": 301
        }
      },
      "source": [
        "ax = df[\"pct_reached\"].plot(kind=\"box\", ylim=(0,4))\n",
        "ax.set_title(\"Distribution of percentage of success\", size=16)\n",
        "ax.set_ylabel(\"% Success\", size=14)"
      ],
      "execution_count": 26,
      "outputs": [
        {
          "output_type": "execute_result",
          "data": {
            "text/plain": [
              "Text(0, 0.5, '% Success')"
            ]
          },
          "metadata": {
            "tags": []
          },
          "execution_count": 26
        },
        {
          "output_type": "display_data",
          "data": {
            "image/png": "[encoded data removed]",
            "text/plain": [
              "<Figure size 432x288 with 1 Axes>"
            ]
          },
          "metadata": {
            "tags": []
          }
        }
      ]
    },
    {
      "cell_type": "code",
      "metadata": {
        "colab_type": "code",
        "id": "ehWGVm-2_0ie",
        "outputId": "bfd91846-b4ac-4ff7-98fa-ea9322e80638",
        "colab": {
          "base_uri": "https://localhost:8080/",
          "height": 204
        }
      },
      "source": [
        "df[\"pct_reached\"].sort_values().tail(10)"
      ],
      "execution_count": 27,
      "outputs": [
        {
          "output_type": "execute_result",
          "data": {
            "text/plain": [
              "160805     16970.86\n",
              "14937      22603.00\n",
              "284515     23036.07\n",
              "361002     24675.00\n",
              "279115     27588.23\n",
              "79574      32843.00\n",
              "74607      41535.01\n",
              "352689     55266.57\n",
              "181965     68764.10\n",
              "360966    104277.89\n",
              "Name: pct_reached, dtype: float64"
            ]
          },
          "metadata": {
            "tags": []
          },
          "execution_count": 27
        }
      ]
    },
    {
      "cell_type": "code",
      "metadata": {
        "colab_type": "code",
        "id": "aAPiGZGcCqvN",
        "outputId": "7be69eb7-f850-40a6-ee59-25d9005e7cf3",
        "colab": {
          "base_uri": "https://localhost:8080/",
          "height": 34
        }
      },
      "source": [
        "df[df[\"pct_reached\"] > 2.7].shape[0]"
      ],
      "execution_count": 28,
      "outputs": [
        {
          "output_type": "execute_result",
          "data": {
            "text/plain": [
              "17496"
            ]
          },
          "metadata": {
            "tags": []
          },
          "execution_count": 28
        }
      ]
    },
    {
      "cell_type": "markdown",
      "metadata": {
        "id": "tc6JYpdYyKUC",
        "colab_type": "text"
      },
      "source": [
        "### Main categories"
      ]
    },
    {
      "cell_type": "markdown",
      "metadata": {
        "colab_type": "text",
        "id": "Qe8lLT7LCtwo"
      },
      "source": [
        "Close to a third of all projects are either related to the movie or the music industry."
      ]
    },
    {
      "cell_type": "code",
      "metadata": {
        "colab_type": "code",
        "id": "zeJVeIyoCuka",
        "outputId": "a316b821-e5d2-48e1-b668-2cde56c20967",
        "colab": {
          "base_uri": "https://localhost:8080/",
          "height": 300
        }
      },
      "source": [
        "df_main_cat = df.groupby([\"main_category\"])[\"ID\"].nunique().sort_values(ascending=True)\n",
        "ax = df_main_cat.plot(kind=\"barh\", x=\"main_category\", width=0.9)\n",
        "ax.set_title(\"Category representation\", size=16)\n",
        "ax.set_ylabel(\"Category\", size=14)"
      ],
      "execution_count": 29,
      "outputs": [
        {
          "output_type": "execute_result",
          "data": {
            "text/plain": [
              "Text(0, 0.5, 'Category')"
            ]
          },
          "metadata": {
            "tags": []
          },
          "execution_count": 29
        },
        {
          "output_type": "display_data",
          "data": {
            "image/png": "[encoded data removed]",
            "text/plain": [
              "<Figure size 432x288 with 1 Axes>"
            ]
          },
          "metadata": {
            "tags": []
          }
        }
      ]
    },
    {
      "cell_type": "code",
      "metadata": {
        "colab_type": "code",
        "id": "6qZ_UcP9Cy-z",
        "outputId": "8599d97a-adf4-4cb2-8c01-c5d895c9d69e",
        "colab": {
          "base_uri": "https://localhost:8080/",
          "height": 34
        }
      },
      "source": [
        "print(\"Percentage of projects in the film and music industries:\", (df_main_cat.iloc[-1] + df_main_cat.iloc[-2]) / df.shape[0] * 100)"
      ],
      "execution_count": 30,
      "outputs": [
        {
          "output_type": "stream",
          "text": [
            "Percentage of projects in the film and music industries: 30.075982053865413\n"
          ],
          "name": "stdout"
        }
      ]
    },
    {
      "cell_type": "code",
      "metadata": {
        "id": "G3XHqu3_yKUN",
        "colab_type": "code",
        "colab": {
          "base_uri": "https://localhost:8080/",
          "height": 389
        },
        "outputId": "9e609e70-c7ae-4358-dff3-59dcfb04f3e9"
      },
      "source": [
        "df_ordered_cat = df.sort_values(by=[\"main_category\"])\n",
        "ax = sns.catplot(kind=\"count\", data=df_ordered_cat, x=\"main_category\", hue=\"state\", height=5, aspect=4)"
      ],
      "execution_count": 31,
      "outputs": [
        {
          "output_type": "display_data",
          "data": {
            "image/png": "[encoded data removed]",
            "text/plain": [
              "<Figure size 1482.38x360 with 1 Axes>"
            ]
          },
          "metadata": {
            "tags": []
          }
        }
      ]
    },
    {
      "cell_type": "code",
      "metadata": {
        "id": "NdFTwHonyKUV",
        "colab_type": "code",
        "colab": {
          "base_uri": "https://localhost:8080/",
          "height": 300
        },
        "outputId": "472aaa85-617b-4e00-929f-066439055e72"
      },
      "source": [
        "df_avg_goal = df.groupby([\"main_category\"])[\"usd_goal_real\"].mean().sort_values(ascending=True)\n",
        "ax = df_avg_goal.plot(kind=\"barh\", width=0.9)\n",
        "ax.set_title(\"Average goal (USD) per category\", size=16)\n",
        "ax.set_ylabel(\"Category\", size=14)"
      ],
      "execution_count": 32,
      "outputs": [
        {
          "output_type": "execute_result",
          "data": {
            "text/plain": [
              "Text(0, 0.5, 'Category')"
            ]
          },
          "metadata": {
            "tags": []
          },
          "execution_count": 32
        },
        {
          "output_type": "display_data",
          "data": {
            "image/png": "[encoded data removed]",
            "text/plain": [
              "<Figure size 432x288 with 1 Axes>"
            ]
          },
          "metadata": {
            "tags": []
          }
        }
      ]
    },
    {
      "cell_type": "markdown",
      "metadata": {
        "id": "exRx3Su_yKUc",
        "colab_type": "text"
      },
      "source": [
        "### Countries"
      ]
    },
    {
      "cell_type": "markdown",
      "metadata": {
        "colab_type": "text",
        "id": "eieyjOGIC2cp"
      },
      "source": [
        "Non surprisingly, Kickstarter being first and foremost an English-speaking platform, the top 3 most represented countries are the US (by a large margin), the UK and Canada. Then come German and French countries."
      ]
    },
    {
      "cell_type": "code",
      "metadata": {
        "colab_type": "code",
        "id": "YU5b3-wUC3WG",
        "outputId": "3f12a423-14ef-4cec-c9c4-affc6725ffb1",
        "colab": {
          "base_uri": "https://localhost:8080/",
          "height": 446
        }
      },
      "source": [
        "df_country = df.groupby([\"country\"])[\"ID\"].count().sort_values()\n",
        "ax = df_country.tail(6).plot(kind=\"pie\", figsize=(7,7), autopct=\"%1.1f%%\")\n",
        "ax.set_title(\"6 most represented countries\", size=16)\n",
        "ax.set_ylabel(\"\")"
      ],
      "execution_count": 33,
      "outputs": [
        {
          "output_type": "execute_result",
          "data": {
            "text/plain": [
              "Text(0, 0.5, '')"
            ]
          },
          "metadata": {
            "tags": []
          },
          "execution_count": 33
        },
        {
          "output_type": "display_data",
          "data": {
            "image/png": "[encoded data removed]",
            "text/plain": [
              "<Figure size 504x504 with 1 Axes>"
            ]
          },
          "metadata": {
            "tags": []
          }
        }
      ]
    },
    {
      "cell_type": "code",
      "metadata": {
        "id": "8zm34CWPyKUi",
        "colab_type": "code",
        "colab": {
          "base_uri": "https://localhost:8080/",
          "height": 389
        },
        "outputId": "caf59339-662c-49fe-869c-c4a56411bf3a"
      },
      "source": [
        "df_selected_countries = df[(df[\"country\"].isin([\"US\", \"GB\", \"CA\", \"AU\", \"DE\", \"FR\", \"CH\"]))]\n",
        "df_new = df_selected_countries.groupby(['country'])['state'].value_counts(normalize=True).rename('percentage').reset_index().sort_values('percentage', ascending=False)\n",
        "ax = sns.catplot(kind=\"bar\", data=df_new, x=\"country\", y=\"percentage\", hue=\"state\", height=5, aspect=4)"
      ],
      "execution_count": 34,
      "outputs": [
        {
          "output_type": "display_data",
          "data": {
            "image/png": "[encoded data removed]",
            "text/plain": [
              "<Figure size 1482.38x360 with 1 Axes>"
            ]
          },
          "metadata": {
            "tags": []
          }
        }
      ]
    },
    {
      "cell_type": "code",
      "metadata": {
        "colab_type": "code",
        "id": "bdJCGbOOgjJr",
        "outputId": "2062013f-4a44-40dc-c061-f28bb71132c9",
        "colab": {
          "base_uri": "https://localhost:8080/",
          "height": 324
        }
      },
      "source": [
        "df_without_na = df[(~df[\"country\"].isin([\"US\", \"CA\"]))].groupby([\"country\"])[\"pct_reached\"].mean().sort_values()\n",
        "df_without_na\n",
        "ax = df_without_na.plot(kind=\"bar\", width=0.9)\n",
        "ax.set_title(\"Success rate for non-NA countries\", size=16)\n",
        "ax.set_xlabel(\"Country\", size=14)"
      ],
      "execution_count": 35,
      "outputs": [
        {
          "output_type": "execute_result",
          "data": {
            "text/plain": [
              "Text(0.5, 0, 'Country')"
            ]
          },
          "metadata": {
            "tags": []
          },
          "execution_count": 35
        },
        {
          "output_type": "display_data",
          "data": {
            "image/png": "[encoded data removed]",
            "text/plain": [
              "<Figure size 432x288 with 1 Axes>"
            ]
          },
          "metadata": {
            "tags": []
          }
        }
      ]
    },
    {
      "cell_type": "markdown",
      "metadata": {
        "id": "43o4DXuLyKUp",
        "colab_type": "text"
      },
      "source": [
        "Most successful categories in Switzerland? How much money do they ask for on average?"
      ]
    },
    {
      "cell_type": "code",
      "metadata": {
        "id": "i6tUbeGwyKUq",
        "colab_type": "code",
        "colab": {
          "base_uri": "https://localhost:8080/",
          "height": 483
        },
        "outputId": "3a543b71-a827-4133-d262-abda14a0045e"
      },
      "source": [
        "df_switzerland = df[(df[\"country\"] == \"CH\") & (df[\"state\"] == 1)].groupby([\"main_category\"])[[\"ID\", \"usd_goal_real\"]].agg({\"ID\":\"count\", \"usd_goal_real\":\"mean\"}).sort_values(by=\"ID\", ascending=False)\n",
        "df_switzerland"
      ],
      "execution_count": 36,
      "outputs": [
        {
          "output_type": "execute_result",
          "data": {
            "text/html": [
              "<div>\n",
              "<style scoped>\n",
              "    .dataframe tbody tr th:only-of-type {\n",
              "        vertical-align: middle;\n",
              "    }\n",
              "\n",
              "    .dataframe tbody tr th {\n",
              "        vertical-align: top;\n",
              "    }\n",
              "\n",
              "    .dataframe thead th {\n",
              "        text-align: right;\n",
              "    }\n",
              "</style>\n",
              "<table border=\"1\" class=\"dataframe\">\n",
              "  <thead>\n",
              "    <tr style=\"text-align: right;\">\n",
              "      <th></th>\n",
              "      <th>ID</th>\n",
              "      <th>usd_goal_real</th>\n",
              "    </tr>\n",
              "    <tr>\n",
              "      <th>main_category</th>\n",
              "      <th></th>\n",
              "      <th></th>\n",
              "    </tr>\n",
              "  </thead>\n",
              "  <tbody>\n",
              "    <tr>\n",
              "      <th>Design</th>\n",
              "      <td>53</td>\n",
              "      <td>35231.027925</td>\n",
              "    </tr>\n",
              "    <tr>\n",
              "      <th>Technology</th>\n",
              "      <td>37</td>\n",
              "      <td>27529.069730</td>\n",
              "    </tr>\n",
              "    <tr>\n",
              "      <th>Fashion</th>\n",
              "      <td>20</td>\n",
              "      <td>18541.223000</td>\n",
              "    </tr>\n",
              "    <tr>\n",
              "      <th>Games</th>\n",
              "      <td>18</td>\n",
              "      <td>15451.385556</td>\n",
              "    </tr>\n",
              "    <tr>\n",
              "      <th>Art</th>\n",
              "      <td>15</td>\n",
              "      <td>2548.498000</td>\n",
              "    </tr>\n",
              "    <tr>\n",
              "      <th>Music</th>\n",
              "      <td>12</td>\n",
              "      <td>5438.137500</td>\n",
              "    </tr>\n",
              "    <tr>\n",
              "      <th>Film &amp; Video</th>\n",
              "      <td>10</td>\n",
              "      <td>6591.980000</td>\n",
              "    </tr>\n",
              "    <tr>\n",
              "      <th>Food</th>\n",
              "      <td>7</td>\n",
              "      <td>15925.568571</td>\n",
              "    </tr>\n",
              "    <tr>\n",
              "      <th>Crafts</th>\n",
              "      <td>5</td>\n",
              "      <td>18074.582000</td>\n",
              "    </tr>\n",
              "    <tr>\n",
              "      <th>Publishing</th>\n",
              "      <td>4</td>\n",
              "      <td>10809.502500</td>\n",
              "    </tr>\n",
              "    <tr>\n",
              "      <th>Comics</th>\n",
              "      <td>3</td>\n",
              "      <td>5575.440000</td>\n",
              "    </tr>\n",
              "    <tr>\n",
              "      <th>Photography</th>\n",
              "      <td>3</td>\n",
              "      <td>6241.780000</td>\n",
              "    </tr>\n",
              "    <tr>\n",
              "      <th>Theater</th>\n",
              "      <td>2</td>\n",
              "      <td>4258.905000</td>\n",
              "    </tr>\n",
              "  </tbody>\n",
              "</table>\n",
              "</div>"
            ],
            "text/plain": [
              "               ID  usd_goal_real\n",
              "main_category                   \n",
              "Design         53   35231.027925\n",
              "Technology     37   27529.069730\n",
              "Fashion        20   18541.223000\n",
              "Games          18   15451.385556\n",
              "Art            15    2548.498000\n",
              "Music          12    5438.137500\n",
              "Film & Video   10    6591.980000\n",
              "Food            7   15925.568571\n",
              "Crafts          5   18074.582000\n",
              "Publishing      4   10809.502500\n",
              "Comics          3    5575.440000\n",
              "Photography     3    6241.780000\n",
              "Theater         2    4258.905000"
            ]
          },
          "metadata": {
            "tags": []
          },
          "execution_count": 36
        }
      ]
    },
    {
      "cell_type": "markdown",
      "metadata": {
        "colab_type": "text",
        "id": "WItwMyVYb98I"
      },
      "source": [
        "### Backers\n",
        "Analyse des backers selon plusieurs paramètre:</br>\n",
        "\n",
        "\n",
        "1.   Quantité de bakers selon les statuts finaux (mean, max, min, median, mode)\n",
        "2.   Quantité de bakers selon le type de projet (mean, max, min, median, mode)\n",
        "3.   Quantité de bakers selon le pays (mean, max, min, median, mode)\n",
        "4.   etc....\n",
        "\n",
        "\n"
      ]
    },
    {
      "cell_type": "markdown",
      "metadata": {
        "colab_type": "text",
        "id": "fO4Q_4UUcAJz"
      },
      "source": [
        "## Value of Bakers depending of the final state\n",
        "\n",
        "as we can see below, the numbers of backers is pretty random and the spread is really big. \n",
        "The number of outliers seem to be really big with a mean at 263, a median at 71 and a mode at 19.\n"
      ]
    },
    {
      "cell_type": "code",
      "metadata": {
        "colab_type": "code",
        "id": "jHfp8U0JdMnl",
        "outputId": "c820531b-63d9-4e55-ce31-2f9d392b6c51",
        "colab": {
          "base_uri": "https://localhost:8080/",
          "height": 142
        }
      },
      "source": [
        "df.groupby(['state'])['backers'].agg(['mean','min','max','median',('mode',lambda x: x.mode()[0])])"
      ],
      "execution_count": 37,
      "outputs": [
        {
          "output_type": "execute_result",
          "data": {
            "text/html": [
              "<div>\n",
              "<style scoped>\n",
              "    .dataframe tbody tr th:only-of-type {\n",
              "        vertical-align: middle;\n",
              "    }\n",
              "\n",
              "    .dataframe tbody tr th {\n",
              "        vertical-align: top;\n",
              "    }\n",
              "\n",
              "    .dataframe thead th {\n",
              "        text-align: right;\n",
              "    }\n",
              "</style>\n",
              "<table border=\"1\" class=\"dataframe\">\n",
              "  <thead>\n",
              "    <tr style=\"text-align: right;\">\n",
              "      <th></th>\n",
              "      <th>mean</th>\n",
              "      <th>min</th>\n",
              "      <th>max</th>\n",
              "      <th>median</th>\n",
              "      <th>mode</th>\n",
              "    </tr>\n",
              "    <tr>\n",
              "      <th>state</th>\n",
              "      <th></th>\n",
              "      <th></th>\n",
              "      <th></th>\n",
              "      <th></th>\n",
              "      <th></th>\n",
              "    </tr>\n",
              "  </thead>\n",
              "  <tbody>\n",
              "    <tr>\n",
              "      <th>0</th>\n",
              "      <td>17.514853</td>\n",
              "      <td>0</td>\n",
              "      <td>9326</td>\n",
              "      <td>3</td>\n",
              "      <td>0</td>\n",
              "    </tr>\n",
              "    <tr>\n",
              "      <th>1</th>\n",
              "      <td>263.704277</td>\n",
              "      <td>1</td>\n",
              "      <td>219382</td>\n",
              "      <td>71</td>\n",
              "      <td>19</td>\n",
              "    </tr>\n",
              "  </tbody>\n",
              "</table>\n",
              "</div>"
            ],
            "text/plain": [
              "             mean  min     max  median  mode\n",
              "state                                       \n",
              "0       17.514853    0    9326       3     0\n",
              "1      263.704277    1  219382      71    19"
            ]
          },
          "metadata": {
            "tags": []
          },
          "execution_count": 37
        }
      ]
    },
    {
      "cell_type": "code",
      "metadata": {
        "colab_type": "code",
        "id": "P_gETbTZmDMc",
        "outputId": "b5ca95fc-1d4d-4365-94e5-c0abe9d41864",
        "colab": {
          "base_uri": "https://localhost:8080/",
          "height": 279
        }
      },
      "source": [
        "ax = sns.boxplot(x='state', y='backers', data=df)"
      ],
      "execution_count": 38,
      "outputs": [
        {
          "output_type": "display_data",
          "data": {
            "image/png": "[encoded data removed]",
            "text/plain": [
              "<Figure size 432x288 with 1 Axes>"
            ]
          },
          "metadata": {
            "tags": []
          }
        }
      ]
    },
    {
      "cell_type": "markdown",
      "metadata": {
        "colab_type": "text",
        "id": "sici0iaAncnX"
      },
      "source": [
        "As we thought the spread is super huge and the number of outliers is super huge too. Then we will represente in the result of the logarithme of those value"
      ]
    },
    {
      "cell_type": "markdown",
      "metadata": {
        "colab_type": "text",
        "id": "iMJxjkBdduCR"
      },
      "source": [
        "## Bakers selon la main_category\n"
      ]
    },
    {
      "cell_type": "code",
      "metadata": {
        "colab_type": "code",
        "id": "GBIrP1bldQeF",
        "outputId": "4db08bd4-48ea-4910-bbd3-fc6ca3422dac",
        "colab": {
          "base_uri": "https://localhost:8080/",
          "height": 545
        }
      },
      "source": [
        "df.groupby(['main_category'])['backers'].agg(['mean','min','max','median', ('mode',lambda x: x.mode()[0])])"
      ],
      "execution_count": 39,
      "outputs": [
        {
          "output_type": "execute_result",
          "data": {
            "text/html": [
              "<div>\n",
              "<style scoped>\n",
              "    .dataframe tbody tr th:only-of-type {\n",
              "        vertical-align: middle;\n",
              "    }\n",
              "\n",
              "    .dataframe tbody tr th {\n",
              "        vertical-align: top;\n",
              "    }\n",
              "\n",
              "    .dataframe thead th {\n",
              "        text-align: right;\n",
              "    }\n",
              "</style>\n",
              "<table border=\"1\" class=\"dataframe\">\n",
              "  <thead>\n",
              "    <tr style=\"text-align: right;\">\n",
              "      <th></th>\n",
              "      <th>mean</th>\n",
              "      <th>min</th>\n",
              "      <th>max</th>\n",
              "      <th>median</th>\n",
              "      <th>mode</th>\n",
              "    </tr>\n",
              "    <tr>\n",
              "      <th>main_category</th>\n",
              "      <th></th>\n",
              "      <th></th>\n",
              "      <th></th>\n",
              "      <th></th>\n",
              "      <th></th>\n",
              "    </tr>\n",
              "  </thead>\n",
              "  <tbody>\n",
              "    <tr>\n",
              "      <th>Art</th>\n",
              "      <td>42.378925</td>\n",
              "      <td>0</td>\n",
              "      <td>22834</td>\n",
              "      <td>10</td>\n",
              "      <td>0</td>\n",
              "    </tr>\n",
              "    <tr>\n",
              "      <th>Comics</th>\n",
              "      <td>135.629198</td>\n",
              "      <td>0</td>\n",
              "      <td>14952</td>\n",
              "      <td>40</td>\n",
              "      <td>0</td>\n",
              "    </tr>\n",
              "    <tr>\n",
              "      <th>Crafts</th>\n",
              "      <td>27.629258</td>\n",
              "      <td>0</td>\n",
              "      <td>12705</td>\n",
              "      <td>3</td>\n",
              "      <td>0</td>\n",
              "    </tr>\n",
              "    <tr>\n",
              "      <th>Dance</th>\n",
              "      <td>43.097430</td>\n",
              "      <td>0</td>\n",
              "      <td>4133</td>\n",
              "      <td>27</td>\n",
              "      <td>0</td>\n",
              "    </tr>\n",
              "    <tr>\n",
              "      <th>Design</th>\n",
              "      <td>241.609948</td>\n",
              "      <td>0</td>\n",
              "      <td>154926</td>\n",
              "      <td>29</td>\n",
              "      <td>0</td>\n",
              "    </tr>\n",
              "    <tr>\n",
              "      <th>Fashion</th>\n",
              "      <td>61.903987</td>\n",
              "      <td>0</td>\n",
              "      <td>15129</td>\n",
              "      <td>5</td>\n",
              "      <td>0</td>\n",
              "    </tr>\n",
              "    <tr>\n",
              "      <th>Film &amp; Video</th>\n",
              "      <td>67.325804</td>\n",
              "      <td>0</td>\n",
              "      <td>91585</td>\n",
              "      <td>12</td>\n",
              "      <td>0</td>\n",
              "    </tr>\n",
              "    <tr>\n",
              "      <th>Food</th>\n",
              "      <td>54.408317</td>\n",
              "      <td>0</td>\n",
              "      <td>13116</td>\n",
              "      <td>6</td>\n",
              "      <td>0</td>\n",
              "    </tr>\n",
              "    <tr>\n",
              "      <th>Games</th>\n",
              "      <td>325.597753</td>\n",
              "      <td>0</td>\n",
              "      <td>219382</td>\n",
              "      <td>30</td>\n",
              "      <td>0</td>\n",
              "    </tr>\n",
              "    <tr>\n",
              "      <th>Journalism</th>\n",
              "      <td>38.771783</td>\n",
              "      <td>0</td>\n",
              "      <td>3136</td>\n",
              "      <td>3</td>\n",
              "      <td>0</td>\n",
              "    </tr>\n",
              "    <tr>\n",
              "      <th>Music</th>\n",
              "      <td>55.000224</td>\n",
              "      <td>0</td>\n",
              "      <td>24883</td>\n",
              "      <td>19</td>\n",
              "      <td>0</td>\n",
              "    </tr>\n",
              "    <tr>\n",
              "      <th>Photography</th>\n",
              "      <td>39.912974</td>\n",
              "      <td>0</td>\n",
              "      <td>5582</td>\n",
              "      <td>6</td>\n",
              "      <td>0</td>\n",
              "    </tr>\n",
              "    <tr>\n",
              "      <th>Publishing</th>\n",
              "      <td>56.840391</td>\n",
              "      <td>0</td>\n",
              "      <td>21808</td>\n",
              "      <td>7</td>\n",
              "      <td>0</td>\n",
              "    </tr>\n",
              "    <tr>\n",
              "      <th>Technology</th>\n",
              "      <td>163.762382</td>\n",
              "      <td>0</td>\n",
              "      <td>105857</td>\n",
              "      <td>7</td>\n",
              "      <td>0</td>\n",
              "    </tr>\n",
              "    <tr>\n",
              "      <th>Theater</th>\n",
              "      <td>47.222488</td>\n",
              "      <td>0</td>\n",
              "      <td>3722</td>\n",
              "      <td>25</td>\n",
              "      <td>0</td>\n",
              "    </tr>\n",
              "  </tbody>\n",
              "</table>\n",
              "</div>"
            ],
            "text/plain": [
              "                     mean  min     max  median  mode\n",
              "main_category                                       \n",
              "Art             42.378925    0   22834      10     0\n",
              "Comics         135.629198    0   14952      40     0\n",
              "Crafts          27.629258    0   12705       3     0\n",
              "Dance           43.097430    0    4133      27     0\n",
              "Design         241.609948    0  154926      29     0\n",
              "Fashion         61.903987    0   15129       5     0\n",
              "Film & Video    67.325804    0   91585      12     0\n",
              "Food            54.408317    0   13116       6     0\n",
              "Games          325.597753    0  219382      30     0\n",
              "Journalism      38.771783    0    3136       3     0\n",
              "Music           55.000224    0   24883      19     0\n",
              "Photography     39.912974    0    5582       6     0\n",
              "Publishing      56.840391    0   21808       7     0\n",
              "Technology     163.762382    0  105857       7     0\n",
              "Theater         47.222488    0    3722      25     0"
            ]
          },
          "metadata": {
            "tags": []
          },
          "execution_count": 39
        }
      ]
    },
    {
      "cell_type": "code",
      "metadata": {
        "colab_type": "code",
        "id": "j3JZqQUMBU1a",
        "outputId": "a7eb5473-071e-42b0-a2c0-51229c35b83b",
        "colab": {
          "base_uri": "https://localhost:8080/",
          "height": 725
        }
      },
      "source": [
        "g = sns.PairGrid(df, vars=['deadline', 'usd_pledged_real', 'usd_goal_real', 'backers'],\n",
        "                 hue='state', palette='RdBu_r')\n",
        "g.map(plt.scatter, alpha=0.9)\n",
        "g.add_legend();"
      ],
      "execution_count": 40,
      "outputs": [
        {
          "output_type": "display_data",
          "data": {
            "image/png": "[encoded data removed]",
            "text/plain": [
              "<Figure size 762.375x720 with 16 Axes>"
            ]
          },
          "metadata": {
            "tags": []
          }
        }
      ]
    },
    {
      "cell_type": "code",
      "metadata": {
        "id": "FaMsHuEuyKVI",
        "colab_type": "code",
        "colab": {
          "base_uri": "https://localhost:8080/",
          "height": 34
        },
        "outputId": "3dec8647-450b-40dd-9741-94c93ed1236f"
      },
      "source": [
        "df[df['state']==1]['usd_goal_real'].max()"
      ],
      "execution_count": 41,
      "outputs": [
        {
          "output_type": "execute_result",
          "data": {
            "text/plain": [
              "2015608.88"
            ]
          },
          "metadata": {
            "tags": []
          },
          "execution_count": 41
        }
      ]
    },
    {
      "cell_type": "markdown",
      "metadata": {
        "colab_type": "text",
        "id": "9X83cmsU1XiU"
      },
      "source": [
        "The relation between the backers and the pledge are realy close.\n",
        "One other thing, we could we focus on the goal less than 2'015'608.88"
      ]
    },
    {
      "cell_type": "code",
      "metadata": {
        "id": "y2UXRk3oyKVN",
        "colab_type": "code",
        "colab": {},
        "outputId": "191d45f2-637f-401a-ae9e-66c4915d9f17"
      },
      "source": [
        "g = sns.PairGrid(df[df[\"usd_goal_real\"]<2015608.88], vars=['deadline', 'usd_pledged_real', 'usd_goal_real', 'backers'],\n",
        "                 hue='state', palette='RdBu_r')\n",
        "g.map(plt.scatter, alpha=0.9)\n",
        "g.add_legend();"
      ],
      "execution_count": 0,
      "outputs": [
        {
          "output_type": "display_data",
          "data": {
            "image/png": "[encoded data removed]",
            "text/plain": [
              "<Figure size 762.375x720 with 16 Axes>"
            ]
          },
          "metadata": {
            "tags": [],
            "needs_background": "light"
          }
        }
      ]
    },
    {
      "cell_type": "markdown",
      "metadata": {
        "colab_type": "text",
        "id": "_gKijD_TgjKH"
      },
      "source": [
        "## Machine learning models<a name=\"ml\"></a>"
      ]
    },
    {
      "cell_type": "markdown",
      "metadata": {
        "id": "DdbN2kqJyKVU",
        "colab_type": "text"
      },
      "source": [
        " The classes to be predicted are either **1** (= successful) or **0** (= failed).\n",
        " \n",
        " As a reminder, the base rates are 36.3 and 63.7% respectively.\n",
        " \n",
        " We start our research using the first model for classification that we've seen in the course, logistic regression. We will experiment with other classification models to find the most accurate ones."
      ]
    },
    {
      "cell_type": "markdown",
      "metadata": {
        "id": "EACoWGYayKVV",
        "colab_type": "text"
      },
      "source": [
        "### Imports"
      ]
    },
    {
      "cell_type": "code",
      "metadata": {
        "id": "J8XNpiAlyKVW",
        "colab_type": "code",
        "colab": {}
      },
      "source": [
        "from sklearn.model_selection import train_test_split\n",
        "from sklearn.linear_model import LogisticRegressionCV\n",
        "from sklearn.preprocessing import OneHotEncoder\n",
        "from sklearn.metrics import classification_report\n",
        "from sklearn.neighbors import KNeighborsClassifier"
      ],
      "execution_count": 0,
      "outputs": []
    },
    {
      "cell_type": "markdown",
      "metadata": {
        "colab_type": "text",
        "id": "LWAPIoBw5qob"
      },
      "source": [
        "### Logistic Regression"
      ]
    },
    {
      "cell_type": "markdown",
      "metadata": {
        "id": "TXu7eLPcyKVa",
        "colab_type": "text"
      },
      "source": [
        "First, to see if our dataset is coherent, we create and test a model to see how accurate the goal and the amount of money pledged are to predict the success or failure. If the dataset is coherent, this number should be very close to 100% and indeed, we reach near-perfection."
      ]
    },
    {
      "cell_type": "code",
      "metadata": {
        "colab_type": "code",
        "id": "yyfNCJdwgjKI",
        "outputId": "2d87d7d6-9e0d-4a2d-e99a-070421a2491b",
        "colab": {
          "base_uri": "https://localhost:8080/",
          "height": 204
        }
      },
      "source": [
        "X = df[[\"usd_goal_real\", \"usd_pledged_real\"]]\n",
        "y = df[\"state\"]\n",
        "X.head()"
      ],
      "execution_count": 0,
      "outputs": [
        {
          "output_type": "execute_result",
          "data": {
            "text/html": [
              "<div>\n",
              "<style scoped>\n",
              "    .dataframe tbody tr th:only-of-type {\n",
              "        vertical-align: middle;\n",
              "    }\n",
              "\n",
              "    .dataframe tbody tr th {\n",
              "        vertical-align: top;\n",
              "    }\n",
              "\n",
              "    .dataframe thead th {\n",
              "        text-align: right;\n",
              "    }\n",
              "</style>\n",
              "<table border=\"1\" class=\"dataframe\">\n",
              "  <thead>\n",
              "    <tr style=\"text-align: right;\">\n",
              "      <th></th>\n",
              "      <th>usd_goal_real</th>\n",
              "      <th>usd_pledged_real</th>\n",
              "    </tr>\n",
              "  </thead>\n",
              "  <tbody>\n",
              "    <tr>\n",
              "      <th>0</th>\n",
              "      <td>1533.95</td>\n",
              "      <td>0.0</td>\n",
              "    </tr>\n",
              "    <tr>\n",
              "      <th>1</th>\n",
              "      <td>30000.00</td>\n",
              "      <td>2421.0</td>\n",
              "    </tr>\n",
              "    <tr>\n",
              "      <th>2</th>\n",
              "      <td>45000.00</td>\n",
              "      <td>220.0</td>\n",
              "    </tr>\n",
              "    <tr>\n",
              "      <th>3</th>\n",
              "      <td>5000.00</td>\n",
              "      <td>1.0</td>\n",
              "    </tr>\n",
              "    <tr>\n",
              "      <th>4</th>\n",
              "      <td>19500.00</td>\n",
              "      <td>1283.0</td>\n",
              "    </tr>\n",
              "  </tbody>\n",
              "</table>\n",
              "</div>"
            ],
            "text/plain": [
              "   usd_goal_real  usd_pledged_real\n",
              "0        1533.95               0.0\n",
              "1       30000.00            2421.0\n",
              "2       45000.00             220.0\n",
              "3        5000.00               1.0\n",
              "4       19500.00            1283.0"
            ]
          },
          "metadata": {
            "tags": []
          },
          "execution_count": 233
        }
      ]
    },
    {
      "cell_type": "code",
      "metadata": {
        "colab_type": "code",
        "id": "xQ7mpDJCgjKN",
        "colab": {},
        "outputId": "07357be3-d5d4-4d0d-cd43-3e9a3da82411"
      },
      "source": [
        "X_train, X_test, y_train, y_test = train_test_split(X, y, test_size=0.2)\n",
        "LR = LogisticRegressionCV(solver='lbfgs', cv=5, max_iter=1000)\n",
        "LR.fit(X_train, y_train)"
      ],
      "execution_count": 0,
      "outputs": [
        {
          "output_type": "execute_result",
          "data": {
            "text/plain": [
              "LogisticRegressionCV(Cs=10, class_weight=None, cv=5, dual=False,\n",
              "                     fit_intercept=True, intercept_scaling=1.0, l1_ratios=None,\n",
              "                     max_iter=1000, multi_class='warn', n_jobs=None,\n",
              "                     penalty='l2', random_state=None, refit=True, scoring=None,\n",
              "                     solver='lbfgs', tol=0.0001, verbose=0)"
            ]
          },
          "metadata": {
            "tags": []
          },
          "execution_count": 234
        }
      ]
    },
    {
      "cell_type": "code",
      "metadata": {
        "colab_type": "code",
        "id": "uDquEMljgjKw",
        "outputId": "5755edc9-b195-4158-a997-515f028a8e82",
        "colab": {
          "base_uri": "https://localhost:8080/",
          "height": 34
        }
      },
      "source": [
        "LR.score(X_test, y_test)"
      ],
      "execution_count": 0,
      "outputs": [
        {
          "output_type": "execute_result",
          "data": {
            "text/plain": [
              "0.9988250229593215"
            ]
          },
          "metadata": {
            "tags": []
          },
          "execution_count": 88
        }
      ]
    },
    {
      "cell_type": "markdown",
      "metadata": {
        "id": "-Uel2ReiyKVq",
        "colab_type": "text"
      },
      "source": [
        "Moving beyond the obvious, we start including other features such as the category and the country. We remove the amount pledged, since this is not a variable that the project creater has direct control over. Since they are categorical data, we need to use a one-hot encoder so that the regression model can work with it."
      ]
    },
    {
      "cell_type": "code",
      "metadata": {
        "colab_type": "code",
        "id": "gXWavmcRgjK3",
        "colab": {},
        "outputId": "c70f87d0-3026-403a-d125-305003e1643c"
      },
      "source": [
        "X = df[[\"usd_goal_real\"]]\n",
        "one_hot = OneHotEncoder(categories=\"auto\")\n",
        "cat_to_onehot = one_hot.fit_transform(df[[\"main_category\", \"country\"]]).toarray()\n",
        "cat_to_onehot = pd.DataFrame(cat_to_onehot)\n",
        "X = pd.concat((X, cat_to_onehot), axis=1)\n",
        "X.head()"
      ],
      "execution_count": 0,
      "outputs": [
        {
          "output_type": "execute_result",
          "data": {
            "text/html": [
              "<div>\n",
              "<style scoped>\n",
              "    .dataframe tbody tr th:only-of-type {\n",
              "        vertical-align: middle;\n",
              "    }\n",
              "\n",
              "    .dataframe tbody tr th {\n",
              "        vertical-align: top;\n",
              "    }\n",
              "\n",
              "    .dataframe thead th {\n",
              "        text-align: right;\n",
              "    }\n",
              "</style>\n",
              "<table border=\"1\" class=\"dataframe\">\n",
              "  <thead>\n",
              "    <tr style=\"text-align: right;\">\n",
              "      <th></th>\n",
              "      <th>usd_goal_real</th>\n",
              "      <th>0</th>\n",
              "      <th>1</th>\n",
              "      <th>2</th>\n",
              "      <th>3</th>\n",
              "      <th>4</th>\n",
              "      <th>5</th>\n",
              "      <th>6</th>\n",
              "      <th>7</th>\n",
              "      <th>8</th>\n",
              "      <th>...</th>\n",
              "      <th>27</th>\n",
              "      <th>28</th>\n",
              "      <th>29</th>\n",
              "      <th>30</th>\n",
              "      <th>31</th>\n",
              "      <th>32</th>\n",
              "      <th>33</th>\n",
              "      <th>34</th>\n",
              "      <th>35</th>\n",
              "      <th>36</th>\n",
              "    </tr>\n",
              "  </thead>\n",
              "  <tbody>\n",
              "    <tr>\n",
              "      <th>0</th>\n",
              "      <td>1533.95</td>\n",
              "      <td>0.0</td>\n",
              "      <td>0.0</td>\n",
              "      <td>0.0</td>\n",
              "      <td>0.0</td>\n",
              "      <td>0.0</td>\n",
              "      <td>0.0</td>\n",
              "      <td>0.0</td>\n",
              "      <td>0.0</td>\n",
              "      <td>0.0</td>\n",
              "      <td>...</td>\n",
              "      <td>0.0</td>\n",
              "      <td>0.0</td>\n",
              "      <td>0.0</td>\n",
              "      <td>0.0</td>\n",
              "      <td>0.0</td>\n",
              "      <td>0.0</td>\n",
              "      <td>0.0</td>\n",
              "      <td>0.0</td>\n",
              "      <td>0.0</td>\n",
              "      <td>0.0</td>\n",
              "    </tr>\n",
              "    <tr>\n",
              "      <th>1</th>\n",
              "      <td>30000.00</td>\n",
              "      <td>0.0</td>\n",
              "      <td>0.0</td>\n",
              "      <td>0.0</td>\n",
              "      <td>0.0</td>\n",
              "      <td>0.0</td>\n",
              "      <td>0.0</td>\n",
              "      <td>1.0</td>\n",
              "      <td>0.0</td>\n",
              "      <td>0.0</td>\n",
              "      <td>...</td>\n",
              "      <td>0.0</td>\n",
              "      <td>0.0</td>\n",
              "      <td>0.0</td>\n",
              "      <td>0.0</td>\n",
              "      <td>0.0</td>\n",
              "      <td>0.0</td>\n",
              "      <td>0.0</td>\n",
              "      <td>0.0</td>\n",
              "      <td>0.0</td>\n",
              "      <td>1.0</td>\n",
              "    </tr>\n",
              "    <tr>\n",
              "      <th>2</th>\n",
              "      <td>45000.00</td>\n",
              "      <td>0.0</td>\n",
              "      <td>0.0</td>\n",
              "      <td>0.0</td>\n",
              "      <td>0.0</td>\n",
              "      <td>0.0</td>\n",
              "      <td>0.0</td>\n",
              "      <td>1.0</td>\n",
              "      <td>0.0</td>\n",
              "      <td>0.0</td>\n",
              "      <td>...</td>\n",
              "      <td>0.0</td>\n",
              "      <td>0.0</td>\n",
              "      <td>0.0</td>\n",
              "      <td>0.0</td>\n",
              "      <td>0.0</td>\n",
              "      <td>0.0</td>\n",
              "      <td>0.0</td>\n",
              "      <td>0.0</td>\n",
              "      <td>0.0</td>\n",
              "      <td>1.0</td>\n",
              "    </tr>\n",
              "    <tr>\n",
              "      <th>3</th>\n",
              "      <td>5000.00</td>\n",
              "      <td>0.0</td>\n",
              "      <td>0.0</td>\n",
              "      <td>0.0</td>\n",
              "      <td>0.0</td>\n",
              "      <td>0.0</td>\n",
              "      <td>0.0</td>\n",
              "      <td>0.0</td>\n",
              "      <td>0.0</td>\n",
              "      <td>0.0</td>\n",
              "      <td>...</td>\n",
              "      <td>0.0</td>\n",
              "      <td>0.0</td>\n",
              "      <td>0.0</td>\n",
              "      <td>0.0</td>\n",
              "      <td>0.0</td>\n",
              "      <td>0.0</td>\n",
              "      <td>0.0</td>\n",
              "      <td>0.0</td>\n",
              "      <td>0.0</td>\n",
              "      <td>1.0</td>\n",
              "    </tr>\n",
              "    <tr>\n",
              "      <th>4</th>\n",
              "      <td>19500.00</td>\n",
              "      <td>0.0</td>\n",
              "      <td>0.0</td>\n",
              "      <td>0.0</td>\n",
              "      <td>0.0</td>\n",
              "      <td>0.0</td>\n",
              "      <td>0.0</td>\n",
              "      <td>1.0</td>\n",
              "      <td>0.0</td>\n",
              "      <td>0.0</td>\n",
              "      <td>...</td>\n",
              "      <td>0.0</td>\n",
              "      <td>0.0</td>\n",
              "      <td>0.0</td>\n",
              "      <td>0.0</td>\n",
              "      <td>0.0</td>\n",
              "      <td>0.0</td>\n",
              "      <td>0.0</td>\n",
              "      <td>0.0</td>\n",
              "      <td>0.0</td>\n",
              "      <td>1.0</td>\n",
              "    </tr>\n",
              "  </tbody>\n",
              "</table>\n",
              "<p>5 rows × 38 columns</p>\n",
              "</div>"
            ],
            "text/plain": [
              "   usd_goal_real    0    1    2    3    4    5    6    7    8  ...   27   28  \\\n",
              "0        1533.95  0.0  0.0  0.0  0.0  0.0  0.0  0.0  0.0  0.0  ...  0.0  0.0   \n",
              "1       30000.00  0.0  0.0  0.0  0.0  0.0  0.0  1.0  0.0  0.0  ...  0.0  0.0   \n",
              "2       45000.00  0.0  0.0  0.0  0.0  0.0  0.0  1.0  0.0  0.0  ...  0.0  0.0   \n",
              "3        5000.00  0.0  0.0  0.0  0.0  0.0  0.0  0.0  0.0  0.0  ...  0.0  0.0   \n",
              "4       19500.00  0.0  0.0  0.0  0.0  0.0  0.0  1.0  0.0  0.0  ...  0.0  0.0   \n",
              "\n",
              "    29   30   31   32   33   34   35   36  \n",
              "0  0.0  0.0  0.0  0.0  0.0  0.0  0.0  0.0  \n",
              "1  0.0  0.0  0.0  0.0  0.0  0.0  0.0  1.0  \n",
              "2  0.0  0.0  0.0  0.0  0.0  0.0  0.0  1.0  \n",
              "3  0.0  0.0  0.0  0.0  0.0  0.0  0.0  1.0  \n",
              "4  0.0  0.0  0.0  0.0  0.0  0.0  0.0  1.0  \n",
              "\n",
              "[5 rows x 38 columns]"
            ]
          },
          "metadata": {
            "tags": []
          },
          "execution_count": 237
        }
      ]
    },
    {
      "cell_type": "markdown",
      "metadata": {
        "id": "wyVG1rvKyKVx",
        "colab_type": "text"
      },
      "source": [
        "Sadly, the accuracy is no better than our majority class' base rate. We need to find another mix of features, and try other models."
      ]
    },
    {
      "cell_type": "code",
      "metadata": {
        "colab_type": "code",
        "id": "UFp3pV-CgjK9",
        "outputId": "412ff4c0-7f5d-42c2-f61e-765971f200d1",
        "colab": {
          "base_uri": "https://localhost:8080/",
          "height": 34
        }
      },
      "source": [
        "X_train, X_test, y_train, y_test = train_test_split(X, y, test_size=0.2)\n",
        "LR.fit(X_train, y_train)\n",
        "LR.score(X_test, y_test)"
      ],
      "execution_count": 0,
      "outputs": [
        {
          "output_type": "execute_result",
          "data": {
            "text/plain": [
              "0.637310247960672"
            ]
          },
          "metadata": {
            "tags": []
          },
          "execution_count": 238
        }
      ]
    },
    {
      "cell_type": "code",
      "metadata": {
        "id": "Q4zalQOdyKV1",
        "colab_type": "code",
        "colab": {},
        "outputId": "1087e869-68e3-4829-e3a0-d553c77dae77"
      },
      "source": [
        "classification_report(y_test, LR.predict(X_test), output_dict=True)"
      ],
      "execution_count": 0,
      "outputs": [
        {
          "output_type": "execute_result",
          "data": {
            "text/plain": [
              "{'0': {'precision': 0.6397564738751511,\n",
              "  'recall': 0.980027254918661,\n",
              "  'f1-score': 0.77415122742984,\n",
              "  'support': 46964},\n",
              " '1': {'precision': 0.5535459305092812,\n",
              "  'recall': 0.04294682422451994,\n",
              "  'f1-score': 0.07970939995202357,\n",
              "  'support': 27080},\n",
              " 'accuracy': 0.637310247960672,\n",
              " 'macro avg': {'precision': 0.5966512021922161,\n",
              "  'recall': 0.5114870395715905,\n",
              "  'f1-score': 0.42693031369093176,\n",
              "  'support': 74044},\n",
              " 'weighted avg': {'precision': 0.6082268223929546,\n",
              "  'recall': 0.637310247960672,\n",
              "  'f1-score': 0.5201740694143456,\n",
              "  'support': 74044}}"
            ]
          },
          "metadata": {
            "tags": []
          },
          "execution_count": 241
        }
      ]
    },
    {
      "cell_type": "markdown",
      "metadata": {
        "colab_type": "text",
        "id": "t3s0IgmL5j8G"
      },
      "source": [
        "### KNN"
      ]
    },
    {
      "cell_type": "code",
      "metadata": {
        "colab_type": "code",
        "id": "d_fiFfOm5lbJ",
        "colab": {}
      },
      "source": [
        "scores = []\n",
        "kMax=0\n",
        "for k in range(1, 100, 1):\n",
        "    clf = KNeighborsClassifier(n_neighbors=k)\n",
        "    clf.fit(X_train, y_train)\n",
        "    scores.append(clf.score(X_test, y_test))\n",
        "    if clf.score(X_test, y_test) >= max(scores):\n",
        "      kMax = k\n",
        "plt.plot(range(1, 100, 1), scores)\n",
        "plt.ylabel('accuracy', fontsize=15)\n",
        "plt.xlabel('$k (knn2)$', fontsize=15)\n",
        "print(\"kMax: \",kMax)"
      ],
      "execution_count": 0,
      "outputs": []
    },
    {
      "cell_type": "markdown",
      "metadata": {
        "id": "-JQ5IdKeyKWE",
        "colab_type": "text"
      },
      "source": [
        "### Decision trees and random forests"
      ]
    },
    {
      "cell_type": "markdown",
      "metadata": {
        "id": "hCz7MohkyKWH",
        "colab_type": "text"
      },
      "source": [
        "### Neural networks"
      ]
    },
    {
      "cell_type": "code",
      "metadata": {
        "id": "uKRBCD4ayKWJ",
        "colab_type": "code",
        "colab": {}
      },
      "source": [
        ""
      ],
      "execution_count": 0,
      "outputs": []
    }
  ]
}