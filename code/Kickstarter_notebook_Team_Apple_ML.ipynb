{
 "cells": [
  {
   "cell_type": "markdown",
   "metadata": {},
   "source": [
    "# Gathering Insight from Kickstarter Data: Machine Learning\n",
    "\n",
    "_A project by Team Apple (Data Mining & Machine Learning, HEC Lausanne, Fall 2019)_"
   ]
  },
  {
   "cell_type": "markdown",
   "metadata": {},
   "source": [
    "**Contents**\n",
    "\n",
    "1. [Imports & installations](#imports)\n",
    "2. [Machine learning models](#ml)\n",
    "    1. [Logistic regression](#logr)\n",
    "    2. [k-nearest neighbors](#knn)\n",
    "    3. [Decision tree & random forest](#dtrf)\n",
    "    4. [Neural network](#nn)\n",
    "    5. [Linear regression](#linr)\n",
    "3. [Conclusion](#conclusion)"
   ]
  },
  {
   "cell_type": "markdown",
   "metadata": {},
   "source": [
    "## 1. Imports & installations<a name=\"imports\"></a>"
   ]
  },
  {
   "cell_type": "code",
   "execution_count": 1,
   "metadata": {
    "collapsed": true
   },
   "outputs": [
    {
     "name": "stdout",
     "output_type": "stream",
     "text": [
      "Requirement already satisfied: keras in c:\\programdata\\anaconda3\\lib\\site-packages (2.3.1)\n",
      "Requirement already satisfied: numpy>=1.9.1 in c:\\programdata\\anaconda3\\lib\\site-packages (from keras) (1.16.4)\n",
      "Requirement already satisfied: scipy>=0.14 in c:\\programdata\\anaconda3\\lib\\site-packages (from keras) (1.2.1)\n",
      "Requirement already satisfied: six>=1.9.0 in c:\\programdata\\anaconda3\\lib\\site-packages (from keras) (1.12.0)\n",
      "Requirement already satisfied: pyyaml in c:\\programdata\\anaconda3\\lib\\site-packages (from keras) (5.1.1)\n",
      "Requirement already satisfied: h5py in c:\\programdata\\anaconda3\\lib\\site-packages (from keras) (2.9.0)\n",
      "Requirement already satisfied: keras-applications>=1.0.6 in c:\\programdata\\anaconda3\\lib\\site-packages (from keras) (1.0.8)\n",
      "Requirement already satisfied: keras-preprocessing>=1.0.5 in c:\\programdata\\anaconda3\\lib\\site-packages (from keras) (1.1.0)\n"
     ]
    }
   ],
   "source": [
    "!pip install keras"
   ]
  },
  {
   "cell_type": "code",
   "execution_count": 2,
   "metadata": {
    "collapsed": true
   },
   "outputs": [
    {
     "name": "stdout",
     "output_type": "stream",
     "text": [
      "Requirement already up-to-date: tensorflow==1.14.0 in c:\\programdata\\anaconda3\\lib\\site-packages (1.14.0)\n",
      "Requirement already satisfied, skipping upgrade: grpcio>=1.8.6 in c:\\programdata\\anaconda3\\lib\\site-packages (from tensorflow==1.14.0) (1.25.0)\n",
      "Requirement already satisfied, skipping upgrade: wheel>=0.26 in c:\\programdata\\anaconda3\\lib\\site-packages (from tensorflow==1.14.0) (0.33.4)\n",
      "Requirement already satisfied, skipping upgrade: astor>=0.6.0 in c:\\programdata\\anaconda3\\lib\\site-packages (from tensorflow==1.14.0) (0.8.0)\n",
      "Requirement already satisfied, skipping upgrade: numpy<2.0,>=1.14.5 in c:\\programdata\\anaconda3\\lib\\site-packages (from tensorflow==1.14.0) (1.16.4)\n",
      "Requirement already satisfied, skipping upgrade: absl-py>=0.7.0 in c:\\programdata\\anaconda3\\lib\\site-packages (from tensorflow==1.14.0) (0.8.1)\n",
      "Requirement already satisfied, skipping upgrade: keras-preprocessing>=1.0.5 in c:\\programdata\\anaconda3\\lib\\site-packages (from tensorflow==1.14.0) (1.1.0)\n",
      "Requirement already satisfied, skipping upgrade: termcolor>=1.1.0 in c:\\programdata\\anaconda3\\lib\\site-packages (from tensorflow==1.14.0) (1.1.0)\n",
      "Requirement already satisfied, skipping upgrade: keras-applications>=1.0.6 in c:\\programdata\\anaconda3\\lib\\site-packages (from tensorflow==1.14.0) (1.0.8)\n",
      "Requirement already satisfied, skipping upgrade: tensorboard<1.15.0,>=1.14.0 in c:\\programdata\\anaconda3\\lib\\site-packages (from tensorflow==1.14.0) (1.14.0)\n",
      "Requirement already satisfied, skipping upgrade: wrapt>=1.11.1 in c:\\programdata\\anaconda3\\lib\\site-packages (from tensorflow==1.14.0) (1.11.2)\n",
      "Requirement already satisfied, skipping upgrade: protobuf>=3.6.1 in c:\\programdata\\anaconda3\\lib\\site-packages (from tensorflow==1.14.0) (3.11.1)\n",
      "Requirement already satisfied, skipping upgrade: google-pasta>=0.1.6 in c:\\programdata\\anaconda3\\lib\\site-packages (from tensorflow==1.14.0) (0.1.8)\n",
      "Requirement already satisfied, skipping upgrade: gast>=0.2.0 in c:\\programdata\\anaconda3\\lib\\site-packages (from tensorflow==1.14.0) (0.3.2)\n",
      "Requirement already satisfied, skipping upgrade: six>=1.10.0 in c:\\programdata\\anaconda3\\lib\\site-packages (from tensorflow==1.14.0) (1.12.0)\n",
      "Requirement already satisfied, skipping upgrade: tensorflow-estimator<1.15.0rc0,>=1.14.0rc0 in c:\\programdata\\anaconda3\\lib\\site-packages (from tensorflow==1.14.0) (1.14.0)\n",
      "Requirement already satisfied, skipping upgrade: h5py in c:\\programdata\\anaconda3\\lib\\site-packages (from keras-applications>=1.0.6->tensorflow==1.14.0) (2.9.0)\n",
      "Requirement already satisfied, skipping upgrade: setuptools>=41.0.0 in c:\\programdata\\anaconda3\\lib\\site-packages (from tensorboard<1.15.0,>=1.14.0->tensorflow==1.14.0) (41.0.1)\n",
      "Requirement already satisfied, skipping upgrade: markdown>=2.6.8 in c:\\programdata\\anaconda3\\lib\\site-packages (from tensorboard<1.15.0,>=1.14.0->tensorflow==1.14.0) (3.1.1)\n",
      "Requirement already satisfied, skipping upgrade: werkzeug>=0.11.15 in c:\\programdata\\anaconda3\\lib\\site-packages (from tensorboard<1.15.0,>=1.14.0->tensorflow==1.14.0) (0.15.4)\n"
     ]
    }
   ],
   "source": [
    "!pip install --upgrade tensorflow==1.14.0"
   ]
  },
  {
   "cell_type": "code",
   "execution_count": 1,
   "metadata": {},
   "outputs": [
    {
     "name": "stderr",
     "output_type": "stream",
     "text": [
      "Using TensorFlow backend.\n"
     ]
    }
   ],
   "source": [
    "# loading the cleaned dataset\n",
    "from cleaning import df\n",
    "\n",
    "import numpy as np\n",
    "import pandas as pd\n",
    "import seaborn as sns\n",
    "\n",
    "import matplotlib.pyplot as plt\n",
    "\n",
    "from sklearn.preprocessing import OneHotEncoder\n",
    "from sklearn.preprocessing import LabelEncoder\n",
    "from sklearn.preprocessing import MinMaxScaler\n",
    "from sklearn.preprocessing import StandardScaler\n",
    "from sklearn.linear_model import LogisticRegressionCV\n",
    "from sklearn.tree import DecisionTreeClassifier\n",
    "from sklearn.ensemble import RandomForestClassifier\n",
    "from sklearn.neighbors import KNeighborsClassifier\n",
    "from sklearn.model_selection import train_test_split\n",
    "from sklearn.metrics import classification_report\n",
    "\n",
    "from keras import optimizers\n",
    "from keras.utils import np_utils\n",
    "from keras.models import Sequential\n",
    "from keras.layers.core import Dense, Dropout, Activation"
   ]
  },
  {
   "cell_type": "markdown",
   "metadata": {},
   "source": [
    "## 2. Machine learning models<a name=\"ml\"></a>"
   ]
  },
  {
   "cell_type": "markdown",
   "metadata": {},
   "source": [
    "### Quick reminder\n",
    "\n",
    "* We are trying to find out which **machine learning model** (if any at all), and which **features**, can most accurately predict the success or failure of a project.\n",
    "* The predicted classes are either **1** (= successful) or **0** (= failed).\n",
    "* The base rate of the majority class (failed) is **63.66%**.\n",
    "\n",
    "We thought it would be interesting to try all the classification models seen during the course (in the same order) and pit them against each other to see which one would perform best with our dataset.\n",
    "\n",
    "Of all available features, only the following were considered:\n",
    "\n",
    "* `usd_goal_real`: the goal set by the project creator (in USD)\n",
    "* `elapsed_time`: the time that passed between the launch date and the deadline \n",
    "* `category`: the specific category chosen for the project\n",
    "* `main_category`: the main category chosen for the project\n",
    "* `country`: where the project originates from\n",
    "\n",
    "The reason for this is that the project creator has some level of control over them. Other features, such as `backers` or `usd_pledged_real` are rather an indicator whether a project is successful\n",
    "The same methodology was applied for each model:\n",
    "1. Test e\n",
    "\n",
    "\n",
    " for each model, always try to explore each feature on its own to see how well it's doing"
   ]
  },
  {
   "cell_type": "markdown",
   "metadata": {},
   "source": [
    "Numeric features are normalized between 0 and 1 in order to have a better basis for comparison."
   ]
  },
  {
   "cell_type": "code",
   "execution_count": 2,
   "metadata": {},
   "outputs": [],
   "source": [
    "mm = MinMaxScaler()\n",
    "std = StandardScaler()\n",
    "\n",
    "goal_mm = pd.DataFrame(mm.fit_transform(df[\"usd_goal_real\"].to_numpy().reshape(-1, 1)))\n",
    "goal_std = pd.DataFrame(std.fit_transform(df[\"usd_goal_real\"].to_numpy().reshape(-1, 1)))\n",
    "time_mm = pd.DataFrame(mm.fit_transform(pd.to_numeric(df[\"elapsed_time\"]).to_numpy().reshape(-1, 1)))\n",
    "time_std = pd.DataFrame(std.fit_transform(pd.to_numeric(df[\"elapsed_time\"]).to_numpy().reshape(-1, 1)))"
   ]
  },
  {
   "cell_type": "markdown",
   "metadata": {},
   "source": [
    "We are setting the random state to an arbitrarily chosen number to enable comparison between models and their parameters."
   ]
  },
  {
   "cell_type": "code",
   "execution_count": 38,
   "metadata": {},
   "outputs": [
    {
     "data": {
      "text/html": [
       "<div>\n",
       "<style scoped>\n",
       "    .dataframe tbody tr th:only-of-type {\n",
       "        vertical-align: middle;\n",
       "    }\n",
       "\n",
       "    .dataframe tbody tr th {\n",
       "        vertical-align: top;\n",
       "    }\n",
       "\n",
       "    .dataframe thead th {\n",
       "        text-align: right;\n",
       "    }\n",
       "</style>\n",
       "<table border=\"1\" class=\"dataframe\">\n",
       "  <thead>\n",
       "    <tr style=\"text-align: right;\">\n",
       "      <th></th>\n",
       "      <th>0</th>\n",
       "      <th>category</th>\n",
       "      <th>main_category</th>\n",
       "    </tr>\n",
       "  </thead>\n",
       "  <tbody>\n",
       "    <tr>\n",
       "      <th>235186</th>\n",
       "      <td>-0.029525</td>\n",
       "      <td>8</td>\n",
       "      <td>13</td>\n",
       "    </tr>\n",
       "    <tr>\n",
       "      <th>109545</th>\n",
       "      <td>-0.039363</td>\n",
       "      <td>69</td>\n",
       "      <td>6</td>\n",
       "    </tr>\n",
       "    <tr>\n",
       "      <th>224633</th>\n",
       "      <td>0.092953</td>\n",
       "      <td>136</td>\n",
       "      <td>8</td>\n",
       "    </tr>\n",
       "    <tr>\n",
       "      <th>124354</th>\n",
       "      <td>-0.036852</td>\n",
       "      <td>52</td>\n",
       "      <td>5</td>\n",
       "    </tr>\n",
       "    <tr>\n",
       "      <th>351930</th>\n",
       "      <td>-0.039068</td>\n",
       "      <td>106</td>\n",
       "      <td>8</td>\n",
       "    </tr>\n",
       "  </tbody>\n",
       "</table>\n",
       "</div>"
      ],
      "text/plain": [
       "               0  category  main_category\n",
       "235186 -0.029525         8             13\n",
       "109545 -0.039363        69              6\n",
       "224633  0.092953       136              8\n",
       "124354 -0.036852        52              5\n",
       "351930 -0.039068       106              8"
      ]
     },
     "execution_count": 38,
     "metadata": {},
     "output_type": "execute_result"
    }
   ],
   "source": [
    "RSEED = 42\n",
    "\n",
    "X = pd.DataFrame()\n",
    "#X = df[[\"usd_goal_real\"]]\n",
    "#X = pd.concat((X, df[[\"usd_goal_real\"]], pd.to_numeric(df[\"elapsed_time\"])), axis=1)\n",
    "X = pd.concat((X, goal_std), axis=1)\n",
    "y = df[\"state\"]\n",
    "\n",
    "\n",
    "le = LabelEncoder()\n",
    "for col in [\"category\", \"main_category\"]:\n",
    "    encoded = pd.DataFrame(le.fit_transform(df[col]), columns=[col])\n",
    "    X = pd.concat((X, encoded), axis=1)\n",
    "\n",
    "\"\"\"\n",
    "\n",
    "    \n",
    "one_hot = OneHotEncoder()\n",
    "cat_to_onehot = pd.DataFrame(one_hot.fit_transform(df[[\"category\", \"main_category\"]]).toarray())\n",
    "X = pd.concat((X, cat_to_onehot), axis=1)\n",
    "\n",
    "\n",
    "\n",
    "\"\"\"\n",
    "\n",
    "X_train, X_test, y_train, y_test = train_test_split(X, y, test_size=0.2, random_state=RSEED)\n",
    "X_train.head()"
   ]
  },
  {
   "cell_type": "markdown",
   "metadata": {},
   "source": [
    "### A. Logistic regression<a name=\"logr\"></a>"
   ]
  },
  {
   "cell_type": "markdown",
   "metadata": {},
   "source": [
    "Before even settling on a set of features that we deemed viable and logical to give as input to our models, the first thing we did was to run logistic regression on the goal and the amount of money pledged to see how accurate they were at predicting the success or failure of a project. If the dataset is coherent, this number should be very close to 100% and indeed, we reached near-perfection."
   ]
  },
  {
   "cell_type": "markdown",
   "metadata": {},
   "source": [
    "Moving beyond the obvious, we started including other features such as the category and the country. We did not include the amount pledged as a feature, since this is not a variable that the project creator has direct control over.\n",
    "\n",
    "Since they are categorical data, we need to use either label encoding (LE) or one-hot encoding (OH) so that the regression model can work with it."
   ]
  },
  {
   "cell_type": "markdown",
   "metadata": {},
   "source": [
    "withh mm, convergence errors\n",
    "\n",
    "we first started to look at the classification report for recall and precision, but noticed that generally speaking, as accuracy increases, so does precision/recall. For log regression, the recall is pretty good for \"failed\" (around 86%), but pretty bad for successful (around 38%).\n",
    "\n",
    "first use LR (first method seen in class) to explore how different features affect accuracy.\n",
    "\n",
    "After having played with the different features and training/testing multiple times, it turns out the specific category is the one that brings the highest marginal increase in accuracy. (but since lot of values, slow runtime --> possible to pick only maincat, but not as good accuracy) We also find that OH performs much better than LE.\n",
    "\n",
    "It turns out simply picking the cat-main cat pair is what's more relevant to increase accuracy.\n",
    "\n",
    "one must normalize time to increase accuracy\n",
    "\n",
    "not only do goal and time not bring more accuracy (more or less = to base rate, they actually decrease it when used with more relevant features.\n",
    "\n",
    "decide do keep only category and main category, which seem to work well together. Adding country gives similar scores, so no need to include it (to speed up runtime).\n"
   ]
  },
  {
   "cell_type": "code",
   "execution_count": 32,
   "metadata": {},
   "outputs": [
    {
     "data": {
      "text/plain": [
       "0.6810950245799795"
      ]
     },
     "execution_count": 32,
     "metadata": {},
     "output_type": "execute_result"
    }
   ],
   "source": [
    "LR = LogisticRegressionCV(solver=\"lbfgs\", cv=5, max_iter=1000, random_state=RSEED)\n",
    "LR.fit(X_train, y_train)\n",
    "LR.score(X_test, y_test)"
   ]
  },
  {
   "cell_type": "code",
   "execution_count": null,
   "metadata": {},
   "outputs": [],
   "source": [
    "# classification_report(y_test, LR.predict(X_test), output_dict=True)"
   ]
  },
  {
   "cell_type": "markdown",
   "metadata": {},
   "source": [
    "### B. k-NN<a name=\"knn\"></a>"
   ]
  },
  {
   "cell_type": "markdown",
   "metadata": {},
   "source": [
    "k-NN not supposed to work that well with categorical data, but here performs as well as the other models. Reason?\n",
    "\n",
    "We thought we might also give k-NN a try. However, k-NN is known to be more inefficient as the number of features increases. This means that what worked well for parametric algorithms like logistic regression and decision trees (namely, the one-hot-encoded versions of `category` and `main_category`) won't work well here.\n",
    "\n",
    "Instead, we use a label-encoded versions of categories, coupled with the numerical features `goal_real_usd` and `elapsed_time`, normalized by the standard deviation. This allows us to make the most use of our features without exploding the number of dimensions.\n",
    "\n",
    "using just numerical features leads to an accuracy of slightly above 65%. Not bad, but adding categorical features always adds more accuracy\n",
    "\n",
    "running on single dimensions: very slow. But with 3, faster? doesn't make sense\n",
    "At k=49:\n",
    "to-do: test the best results from k=29 (goal_std, time_std, cat_le)\n",
    "\n",
    "k=29 is already quite slow, even with not many features. From the graphs we can see that k=29 is already quite high in the curve. \n",
    "\n",
    "TODO: retry with k 100"
   ]
  },
  {
   "cell_type": "code",
   "execution_count": 35,
   "metadata": {},
   "outputs": [
    {
     "name": "stdout",
     "output_type": "stream",
     "text": [
      "[0.6093944141321377, 0.6304359569985414, 0.6497893144616714, 0.6556777051482902, 0.6621063151639566, 0.6662795094808492, 0.6664145643131111, 0.6680487277834801, 0.6693182432067419, 0.6731538004429799, 0.6754362271082059, 0.6763410944843606, 0.6782183566528011, 0.6780427853708606, 0.6791637404786344, 0.6794608611096105, 0.6794338501431582, 0.6804602668683486, 0.6811490465128842, 0.6815812219761223, 0.6818243206741937, 0.6826346496677651, 0.6831613635135865, 0.6835260115606936, 0.6842418021716817]\n",
      "49\n"
     ]
    }
   ],
   "source": [
    "scores = []\n",
    "k_lim = 50\n",
    "k_max = 0\n",
    "\n",
    "for k in range(1, k_lim, 2):\n",
    "    KNN = KNeighborsClassifier(n_neighbors=k)\n",
    "    KNN.fit(X_train, y_train)\n",
    "    score = KNN.score(X_test, y_test)\n",
    "    scores.append(score)\n",
    "    if score >= max(scores):\n",
    "        k_max = k\n",
    "\n",
    "print(scores)\n",
    "print(k_max)"
   ]
  },
  {
   "cell_type": "code",
   "execution_count": 36,
   "metadata": {},
   "outputs": [
    {
     "data": {
      "text/plain": [
       "Text(0.5, 0, 'k')"
      ]
     },
     "execution_count": 36,
     "metadata": {},
     "output_type": "execute_result"
    },
    {
     "data": {
      "image/png": "[encoded data removed]",
      "text/plain": [
       "<Figure size 432x288 with 1 Axes>"
      ]
     },
     "metadata": {
      "needs_background": "light"
     },
     "output_type": "display_data"
    }
   ],
   "source": [
    "plt.plot(range(1, k_lim, 2), scores)\n",
    "plt.ylabel(\"Accuracy\", size=15)\n",
    "plt.xlabel(\"k\", size=15)"
   ]
  },
  {
   "cell_type": "code",
   "execution_count": 37,
   "metadata": {},
   "outputs": [
    {
     "name": "stdout",
     "output_type": "stream",
     "text": [
      "49 0.6842418021716817\n"
     ]
    }
   ],
   "source": [
    "i = np.argmax(scores)\n",
    "print(i*2+1, scores[i])"
   ]
  },
  {
   "cell_type": "markdown",
   "metadata": {},
   "source": [
    "### C. Decision tree and random forest<a name=\"dtrf\"></a>"
   ]
  },
  {
   "cell_type": "markdown",
   "metadata": {},
   "source": [
    "#### Decision tree"
   ]
  },
  {
   "cell_type": "markdown",
   "metadata": {},
   "source": [
    "The first thing that strikes out after running tests with different features is that `category` (with label or one-hot encoding) remains the most relevant feature to increase accuracy (about 2% better).\n",
    "\n",
    "Secondly, we noticed after fitting each single feature separately into a decision tree model is that not only is label encoding much faster than one-hot encoding (just 1 feature vs. many), but it provides similar accuracy. For this reason, most tests combining several features used label encoding. This is interesting because a decision tree might think there is an inherent hierarchy to the label-encoded category, even though that is not the case. It is also worth noting that, when using one-hot encoding, the line across the various levels of depth is more jagged, therefore suggesting that one-hot encoding's effectiveness is more subject to randomness. \n",
    "\n",
    "We also noticed that there is no significant difference in performance between the main criteria for picking attributes/thresholds, namely Gini and entropy (the latter seems slightly better).\n",
    "\n",
    "Generally speaking, adding more features to the decision tree gives more accuracy. Our best results were achieved by keeping all 5 features (with standard or min-max normalization, and label-encoding). That being said, simply combining the `usd_goal_real` (MM) feature with `category` (LE) gave us an accuracy rivaling with the best score. This is consistent with what was observed for logistic regression, thus further increasing our belief that the goal and the category have good synergy, and that increasing the number of features increases accuracy, although the marginal increase of each feature is quite small.\n",
    "\n",
    "Finally, as expected, normalizing the numerical data doesn't affect accuracy of the decision tree."
   ]
  },
  {
   "cell_type": "code",
   "execution_count": 39,
   "metadata": {},
   "outputs": [
    {
     "data": {
      "text/plain": [
       "[0.6377019069742316,\n",
       " 0.6377019069742316,\n",
       " 0.6449543514666954,\n",
       " 0.645629625628005,\n",
       " 0.6556101777321592,\n",
       " 0.6693452541731943,\n",
       " 0.6721814056506942,\n",
       " 0.6755982929069202,\n",
       " 0.6803792339689914,\n",
       " 0.6810545081303009,\n",
       " 0.6832829128626222,\n",
       " 0.6824590783858246,\n",
       " 0.682702177083896,\n",
       " 0.683053319647777,\n",
       " 0.6822429906542056,\n",
       " 0.6811625519961104,\n",
       " 0.6796364323915509,\n",
       " 0.6792447733779915,\n",
       " 0.6777996866727891]"
      ]
     },
     "execution_count": 39,
     "metadata": {},
     "output_type": "execute_result"
    }
   ],
   "source": [
    "scores = []\n",
    "\n",
    "for d in range(1, 20):\n",
    "    DT = DecisionTreeClassifier(criterion=\"entropy\", max_depth=d, random_state=RSEED)\n",
    "    DT.fit(X_train, y_train)\n",
    "    scores.append(DT.score(X_test, y_test))\n",
    "\n",
    "scores"
   ]
  },
  {
   "cell_type": "code",
   "execution_count": 40,
   "metadata": {},
   "outputs": [
    {
     "data": {
      "text/plain": [
       "Text(0.5, 0, 'depth')"
      ]
     },
     "execution_count": 40,
     "metadata": {},
     "output_type": "execute_result"
    },
    {
     "data": {
      "image/png": "[encoded data removed]",
      "text/plain": [
       "<Figure size 432x288 with 1 Axes>"
      ]
     },
     "metadata": {
      "needs_background": "light"
     },
     "output_type": "display_data"
    }
   ],
   "source": [
    "plt.plot(scores)\n",
    "plt.ylabel('accuracy', fontsize=14)\n",
    "plt.xlabel('depth', fontsize=14)"
   ]
  },
  {
   "cell_type": "code",
   "execution_count": 41,
   "metadata": {},
   "outputs": [
    {
     "name": "stdout",
     "output_type": "stream",
     "text": [
      "11 0.6832829128626222\n"
     ]
    }
   ],
   "source": [
    "i = np.argmax(scores)\n",
    "print(i+1, scores[i])"
   ]
  },
  {
   "cell_type": "markdown",
   "metadata": {},
   "source": [
    "#### Random forest"
   ]
  },
  {
   "cell_type": "markdown",
   "metadata": {},
   "source": [
    "Random forests being quite intense in terms of computation, we didn't run all the tests done with decision trees (especially not the ones with one-hot encoding!). "
   ]
  },
  {
   "cell_type": "code",
   "execution_count": 108,
   "metadata": {},
   "outputs": [
    {
     "data": {
      "text/plain": [
       "[0.6377019069742316,\n",
       " 0.6420101561233861,\n",
       " 0.6590810869212901,\n",
       " 0.6598238884987305,\n",
       " 0.6619712603316946,\n",
       " 0.6640105882988493,\n",
       " 0.6655232024201826,\n",
       " 0.671100966992599,\n",
       " 0.6782588731024796,\n",
       " 0.6851466695478364,\n",
       " 0.6904273134892767,\n",
       " 0.6930743882016098,\n",
       " 0.6946005078061693,\n",
       " 0.6973286154178596,\n",
       " 0.6990168008211334,\n",
       " 0.6983145156933716,\n",
       " 0.6988007130895143,\n",
       " 0.6991923721030738,\n",
       " 0.6983280211765976]"
      ]
     },
     "execution_count": 108,
     "metadata": {},
     "output_type": "execute_result"
    }
   ],
   "source": [
    "scores = []\n",
    "\n",
    "for d in range(1,20):\n",
    "    RF = RandomForestClassifier(criterion=\"entropy\", n_estimators=100, max_depth=d, random_state=RSEED)\n",
    "    RF.fit(X_train, y_train)\n",
    "    scores.append(RF.score(X_test, y_test))\n",
    "\n",
    "scores"
   ]
  },
  {
   "cell_type": "code",
   "execution_count": 109,
   "metadata": {},
   "outputs": [
    {
     "data": {
      "text/plain": [
       "Text(0.5, 0, 'depth')"
      ]
     },
     "execution_count": 109,
     "metadata": {},
     "output_type": "execute_result"
    },
    {
     "data": {
      "image/png": "[encoded data removed]",
      "text/plain": [
       "<Figure size 432x288 with 1 Axes>"
      ]
     },
     "metadata": {
      "needs_background": "light"
     },
     "output_type": "display_data"
    }
   ],
   "source": [
    "plt.plot(scores)\n",
    "plt.ylabel('accuracy', fontsize=14)\n",
    "plt.xlabel('depth', fontsize=14)"
   ]
  },
  {
   "cell_type": "code",
   "execution_count": 110,
   "metadata": {},
   "outputs": [
    {
     "name": "stdout",
     "output_type": "stream",
     "text": [
      "18 0.6991923721030738\n"
     ]
    }
   ],
   "source": [
    "i = np.argmax(scores)\n",
    "print(i+1, scores[i])"
   ]
  },
  {
   "cell_type": "markdown",
   "metadata": {},
   "source": [
    "### D. Neural network<a name=\"nn\"></a>"
   ]
  },
  {
   "cell_type": "markdown",
   "metadata": {},
   "source": [
    "Highest: 67.12% with cat and maincat\n",
    "adding country: 66.67\n",
    "\n",
    "with numerical values it stays low.\n",
    "\n",
    "all features: 67"
   ]
  },
  {
   "cell_type": "code",
   "execution_count": 30,
   "metadata": {},
   "outputs": [
    {
     "name": "stdout",
     "output_type": "stream",
     "text": [
      "Model: \"sequential_10\"\n",
      "_________________________________________________________________\n",
      "Layer (type)                 Output Shape              Param #   \n",
      "=================================================================\n",
      "dense_19 (Dense)             (None, 512)               90112     \n",
      "_________________________________________________________________\n",
      "activation_19 (Activation)   (None, 512)               0         \n",
      "_________________________________________________________________\n",
      "dropout_10 (Dropout)         (None, 512)               0         \n",
      "_________________________________________________________________\n",
      "dense_20 (Dense)             (None, 2)                 1026      \n",
      "_________________________________________________________________\n",
      "activation_20 (Activation)   (None, 2)                 0         \n",
      "=================================================================\n",
      "Total params: 91,138\n",
      "Trainable params: 91,138\n",
      "Non-trainable params: 0\n",
      "_________________________________________________________________\n"
     ]
    }
   ],
   "source": [
    "Y_train = np_utils.to_categorical(y_train, 2)\n",
    "Y_test = np_utils.to_categorical(y_test, 2)\n",
    "\n",
    "NN = Sequential()\n",
    "NN.add(Dense(512, input_shape=(X.shape[1],)))\n",
    "NN.add(Activation(\"relu\"))\n",
    "NN.add(Dropout(0.2))\n",
    "NN.add(Dense(2))\n",
    "NN.add(Activation(\"softmax\"))\n",
    "\n",
    "optimizer = optimizers.SGD(lr=0.0001, decay=1e-6, momentum=0.9, nesterov=True)\n",
    "NN.compile(loss=\"categorical_crossentropy\", optimizer=optimizer, metrics=[\"accuracy\"])\n",
    "\n",
    "NN.summary()"
   ]
  },
  {
   "cell_type": "code",
   "execution_count": 31,
   "metadata": {},
   "outputs": [
    {
     "name": "stdout",
     "output_type": "stream",
     "text": [
      "Train on 236940 samples, validate on 59235 samples\n",
      "Epoch 1/30\n",
      "236940/236940 [==============================] - 15s 62us/step - loss: 0.6567 - accuracy: 0.6267 - val_loss: 0.6429 - val_accuracy: 0.6405\n",
      "Epoch 2/30\n",
      "236940/236940 [==============================] - 15s 62us/step - loss: 0.6425 - accuracy: 0.6352 - val_loss: 0.6357 - val_accuracy: 0.6405\n",
      "Epoch 3/30\n",
      "236940/236940 [==============================] - 14s 61us/step - loss: 0.6364 - accuracy: 0.6356 - val_loss: 0.6305 - val_accuracy: 0.6405\n",
      "Epoch 4/30\n",
      "236940/236940 [==============================] - 15s 62us/step - loss: 0.6321 - accuracy: 0.6381 - val_loss: 0.6267 - val_accuracy: 0.6443\n",
      "Epoch 5/30\n",
      "236940/236940 [==============================] - 15s 62us/step - loss: 0.6287 - accuracy: 0.6414 - val_loss: 0.6236 - val_accuracy: 0.6512\n",
      "Epoch 6/30\n",
      "236940/236940 [==============================] - 14s 61us/step - loss: 0.6262 - accuracy: 0.6448 - val_loss: 0.6213 - val_accuracy: 0.6508\n",
      "Epoch 7/30\n",
      "236940/236940 [==============================] - 14s 60us/step - loss: 0.6243 - accuracy: 0.6485 - val_loss: 0.6194 - val_accuracy: 0.6508\n",
      "Epoch 8/30\n",
      "236940/236940 [==============================] - 14s 60us/step - loss: 0.6226 - accuracy: 0.6519 - val_loss: 0.6178 - val_accuracy: 0.6587\n",
      "Epoch 9/30\n",
      "236940/236940 [==============================] - 14s 61us/step - loss: 0.6212 - accuracy: 0.6558 - val_loss: 0.6165 - val_accuracy: 0.6616\n",
      "Epoch 10/30\n",
      "236940/236940 [==============================] - 14s 59us/step - loss: 0.6201 - accuracy: 0.6581 - val_loss: 0.6153 - val_accuracy: 0.6638\n",
      "Epoch 11/30\n",
      "236940/236940 [==============================] - 14s 59us/step - loss: 0.6190 - accuracy: 0.6603 - val_loss: 0.6143 - val_accuracy: 0.6710\n",
      "Epoch 12/30\n",
      "236940/236940 [==============================] - 14s 60us/step - loss: 0.6181 - accuracy: 0.6614 - val_loss: 0.6135 - val_accuracy: 0.6687\n",
      "Epoch 13/30\n",
      "236940/236940 [==============================] - 14s 60us/step - loss: 0.6173 - accuracy: 0.6633 - val_loss: 0.6128 - val_accuracy: 0.6695\n",
      "Epoch 14/30\n",
      "236940/236940 [==============================] - 14s 60us/step - loss: 0.6166 - accuracy: 0.6639 - val_loss: 0.6121 - val_accuracy: 0.6692\n",
      "Epoch 15/30\n",
      "236940/236940 [==============================] - 14s 60us/step - loss: 0.6160 - accuracy: 0.6645 - val_loss: 0.6115 - val_accuracy: 0.6700\n",
      "Epoch 16/30\n",
      "236940/236940 [==============================] - 14s 59us/step - loss: 0.6157 - accuracy: 0.6649 - val_loss: 0.6109 - val_accuracy: 0.6704\n",
      "Epoch 17/30\n",
      "236940/236940 [==============================] - 14s 59us/step - loss: 0.6150 - accuracy: 0.6652 - val_loss: 0.6105 - val_accuracy: 0.6707\n",
      "Epoch 18/30\n",
      "236940/236940 [==============================] - 15s 62us/step - loss: 0.6146 - accuracy: 0.6656 - val_loss: 0.6099 - val_accuracy: 0.6708\n",
      "Epoch 19/30\n",
      "236940/236940 [==============================] - 15s 61us/step - loss: 0.6141 - accuracy: 0.6656 - val_loss: 0.6095 - val_accuracy: 0.6707\n",
      "Epoch 20/30\n",
      "236940/236940 [==============================] - 15s 62us/step - loss: 0.6138 - accuracy: 0.6657 - val_loss: 0.6092 - val_accuracy: 0.6706\n",
      "Epoch 21/30\n",
      "236940/236940 [==============================] - 14s 61us/step - loss: 0.6135 - accuracy: 0.6657 - val_loss: 0.6087 - val_accuracy: 0.6707\n",
      "Epoch 22/30\n",
      "236940/236940 [==============================] - 14s 61us/step - loss: 0.6131 - accuracy: 0.6657 - val_loss: 0.6084 - val_accuracy: 0.6707\n",
      "Epoch 23/30\n",
      "236940/236940 [==============================] - 15s 62us/step - loss: 0.6127 - accuracy: 0.6656 - val_loss: 0.6081 - val_accuracy: 0.6706\n",
      "Epoch 24/30\n",
      "236940/236940 [==============================] - 15s 63us/step - loss: 0.6122 - accuracy: 0.6667 - val_loss: 0.6078 - val_accuracy: 0.6707\n",
      "Epoch 25/30\n",
      "236940/236940 [==============================] - 15s 61us/step - loss: 0.6120 - accuracy: 0.6664 - val_loss: 0.6075 - val_accuracy: 0.6707\n",
      "Epoch 26/30\n",
      "236940/236940 [==============================] - 15s 62us/step - loss: 0.6116 - accuracy: 0.6666 - val_loss: 0.6073 - val_accuracy: 0.6706\n",
      "Epoch 27/30\n",
      "236940/236940 [==============================] - 15s 64us/step - loss: 0.6117 - accuracy: 0.6667 - val_loss: 0.6069 - val_accuracy: 0.6708\n",
      "Epoch 28/30\n",
      "236940/236940 [==============================] - 14s 60us/step - loss: 0.6113 - accuracy: 0.6668 - val_loss: 0.6067 - val_accuracy: 0.6713\n",
      "Epoch 29/30\n",
      "236940/236940 [==============================] - 14s 61us/step - loss: 0.6110 - accuracy: 0.6668 - val_loss: 0.6064 - val_accuracy: 0.6717\n",
      "Epoch 30/30\n",
      "236940/236940 [==============================] - 16s 66us/step - loss: 0.6109 - accuracy: 0.6665 - val_loss: 0.6062 - val_accuracy: 0.6718\n"
     ]
    }
   ],
   "source": [
    "model_hist = NN.fit(X_train, Y_train, batch_size=64, epochs=30, verbose=1, validation_split=0.2)"
   ]
  },
  {
   "cell_type": "markdown",
   "metadata": {},
   "source": [
    "### E. Linear regression<a name=\"linr\"></a>"
   ]
  },
  {
   "cell_type": "code",
   "execution_count": null,
   "metadata": {},
   "outputs": [],
   "source": []
  },
  {
   "cell_type": "markdown",
   "metadata": {},
   "source": [
    "## 4. Conclusion<a name=\"conclusion\"></a>"
   ]
  },
  {
   "cell_type": "markdown",
   "metadata": {},
   "source": [
    "asd\n"
   ]
  }
 ],
 "metadata": {
  "kernelspec": {
   "display_name": "Python 3",
   "language": "python",
   "name": "python3"
  },
  "language_info": {
   "codemirror_mode": {
    "name": "ipython",
    "version": 3
   },
   "file_extension": ".py",
   "mimetype": "text/x-python",
   "name": "python",
   "nbconvert_exporter": "python",
   "pygments_lexer": "ipython3",
   "version": "3.7.3"
  }
 },
 "nbformat": 4,
 "nbformat_minor": 2
}
