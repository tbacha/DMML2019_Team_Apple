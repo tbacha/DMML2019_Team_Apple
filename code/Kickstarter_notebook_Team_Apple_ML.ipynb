{
 "cells": [
  {
   "cell_type": "markdown",
   "metadata": {},
   "source": [
    "# Gathering Insight from Kickstarter Data: Machine Learning\n",
    "\n",
    "_A project by Team Apple (Data Mining & Machine Learning, HEC Lausanne, Fall 2019)_"
   ]
  },
  {
   "cell_type": "markdown",
   "metadata": {},
   "source": [
    "**Contents**\n",
    "\n",
    "1. [Introduction](#intro)\n",
    "2. [Setting things up](#imports)\n",
    "3. [Machine learning models](#ml)\n",
    "    1. [Logistic regression](#logr)\n",
    "    2. [k-nearest neighbors](#knn)\n",
    "    3. [Decision tree](#dt)\n",
    "    4. [Random forest](#rf)\n",
    "    5. [Neural network](#nn)\n",
    "    6. [(Bonus!) Linear regression](#linr)\n",
    "4. [Conclusion](#conclusion)"
   ]
  },
  {
   "cell_type": "markdown",
   "metadata": {},
   "source": [
    "## 1. Introduction<a name=\"intro\"></a>"
   ]
  },
  {
   "cell_type": "markdown",
   "metadata": {},
   "source": [
    "_This is the follow-up to the exploratory data analysis done in [this notebook](https://github.com/tbacha/DMML2019_Team_Apple/blob/master/code/Kickstarter_notebook_Team_Apple_EDA.ipynb)._\n",
    "\n",
    "### Quick reminder\n",
    "\n",
    "* We are trying to find a **machine learning model** that can accurately predict the success or failure of a Kickstarter project, and which features are the best to use.\n",
    "* The predicted classes are either **1** (= successful) or **0** (= failed).\n",
    "* The base rate of the majority class (failed) is **63.66%**.\n",
    "\n",
    "We thought it would be interesting to try all the classification models seen during the course (in the same order) and pit them against each other to see which one (if any at all) would perform best with our dataset."
   ]
  },
  {
   "cell_type": "markdown",
   "metadata": {},
   "source": [
    "### Feature selection\n",
    "\n",
    "Of all features available in the dataset, only the following were considered:\n",
    "\n",
    "* `usd_goal_real`: the goal set by the project creator (in USD)\n",
    "* `elapsed_time`: the time that passed between the launch date and the deadline \n",
    "* `category`: the specific category chosen for the project\n",
    "* `main_category`: the main category chosen for the project\n",
    "* `country`: where the project originates from\n",
    "\n",
    "The reason for this choice is that these features can be somewhat controlled by the project creator. Other features, such as `backers` or `usd_pledged_real`, are rather indicators of whether a project is being successful or not, and the project creator has no direct control over them."
   ]
  },
  {
   "cell_type": "markdown",
   "metadata": {},
   "source": [
    "### Methodology\n",
    "\n",
    "The same methodology was applied for each model:\n",
    "\n",
    "1. Test each feature _separately_ to see their marginal contribution to the given model's accuracy.\n",
    "2. Test various combinations of features and scaling/encoding schemes in an exploratory fashion, in an attempt to find the most accurate model.\n",
    "3. Fine-tune the model by adjusting the parameters.\n",
    "\n",
    "**Numerical** features were tested either in their original form or in a normalized version. The two types of scaling used were _z-score normalization_ (standard) and _min-max normalization_.\n",
    "\n",
    "**Categorical** features were encoded using either _one-hot encoding_ or _label encoding_ to make them usable by our models. As we will see, the choice between the two is not trivial and highly depends on the model used.\n",
    "\n",
    "In order to shorten the computation time, we applied **dimensionality reduction** (PCA) in some cases (especially when using one-hot encoding).\n",
    "\n",
    "To measure **accuracy**, we used scikit-learn's _score_ function. Since our classes are not that well balanced (a ratio of about 2:1), we initially also looked at scikit-learn's classification report, which contains other useful metrics such as precision and recall. However, our first tests show that, generally speaking, as accuracy goes up, so do precision and recall. Recall is generally quite good for the negative class (\\~80%) and quite bad for the positive class (\\~40%). To speed up the analysis process, we decided not to pay any further attention to these metrics."
   ]
  },
  {
   "cell_type": "markdown",
   "metadata": {},
   "source": [
    "## 2. Setting things up<a name=\"imports\"></a>"
   ]
  },
  {
   "cell_type": "markdown",
   "metadata": {},
   "source": [
    "The following libraries are necessary for the neural network to work. If not already installed, these commands need to be uncommented and called."
   ]
  },
  {
   "cell_type": "code",
   "execution_count": 2,
   "metadata": {
    "scrolled": true
   },
   "outputs": [],
   "source": [
    "#!pip install keras\n",
    "#!pip install --upgrade tensorflow==1.14.0"
   ]
  },
  {
   "cell_type": "markdown",
   "metadata": {},
   "source": [
    "The `cleaning` module contains the **cleaned version** of the dataset (see the <a href=\"https://github.com/tbacha/DMML2019_Team_Apple/blob/master/code/Kickstarter_notebook_Team_Apple_EDA.ipynb\" target=\"_blank\">EDA notebook</a> for detailed explanations about the cleaning process).\n",
    "\n",
    "The `custom_functions` module contains a custom version of scikit-learn's `train_test_split` function, designed to make it easier to play with different feature combinations, scaling/encoding schemes, dimensionality reduction, etc. (see <a href=\"https://github.com/tbacha/DMML2019_Team_Apple/blob/master/README.md\" target=\"_blank\">README</a> for more information about the parameters).\n",
    "\n",
    "If using this notebook online, please copy the contents of these files to new cells (and run them) instead of importing them."
   ]
  },
  {
   "cell_type": "code",
   "execution_count": 6,
   "metadata": {},
   "outputs": [],
   "source": [
    "from cleaning import df\n",
    "from custom_functions import custom_split\n",
    "\n",
    "import numpy as np\n",
    "import pandas as pd\n",
    "\n",
    "import matplotlib.pyplot as plt\n",
    "\n",
    "from sklearn.linear_model import LinearRegression\n",
    "from sklearn.linear_model import RidgeCV\n",
    "from sklearn.linear_model import LogisticRegressionCV\n",
    "from sklearn.neighbors import KNeighborsClassifier\n",
    "from sklearn.tree import DecisionTreeClassifier\n",
    "from sklearn.ensemble import RandomForestClassifier\n",
    "from sklearn.metrics import classification_report\n",
    "from sklearn.metrics import mean_squared_error\n",
    "\n",
    "from keras import optimizers\n",
    "from keras.utils import np_utils\n",
    "from keras.models import Sequential\n",
    "from keras.layers.core import Dense, Dropout, Activation"
   ]
  },
  {
   "cell_type": "markdown",
   "metadata": {},
   "source": [
    "In order to get reproducible as well as comparable results, we arbitrarily chose a **random seed** to be used during the train/test split and as a parameter for some models."
   ]
  },
  {
   "cell_type": "code",
   "execution_count": 2,
   "metadata": {},
   "outputs": [],
   "source": [
    "RSEED = 42"
   ]
  },
  {
   "cell_type": "markdown",
   "metadata": {},
   "source": [
    "All the main **test results** were recorded in `documents/ml_results.xlsx`. Parts of it are shown in this notebook, but please refer to the original file for a complete overview."
   ]
  },
  {
   "cell_type": "code",
   "execution_count": 3,
   "metadata": {},
   "outputs": [],
   "source": [
    "url = \"https://github.com/tbacha/DMML2019_Team_Apple/blob/master/documents/ml_results.xlsx?raw=true\"\n",
    "results = pd.read_excel(url, sheet_name=None)"
   ]
  },
  {
   "cell_type": "markdown",
   "metadata": {},
   "source": [
    "## 3. Machine learning models<a name=\"ml\"></a>"
   ]
  },
  {
   "cell_type": "markdown",
   "metadata": {},
   "source": [
    "Before going into the details of each model, here is an overview of how they performed against the base rate (best scores). As you can see, compared to random guessing, machine learning enables us to increase accuracy by about **4** to **6%**."
   ]
  },
  {
   "cell_type": "code",
   "execution_count": 5,
   "metadata": {},
   "outputs": [
    {
     "data": {
      "text/plain": [
       "Text(0, 0.5, 'Accuracy')"
      ]
     },
     "execution_count": 5,
     "metadata": {},
     "output_type": "execute_result"
    },
    {
     "data": {
      "image/png": "[encoded data removed]",
      "text/plain": [
       "<Figure size 432x288 with 1 Axes>"
      ]
     },
     "metadata": {
      "needs_background": "light"
     },
     "output_type": "display_data"
    }
   ],
   "source": [
    "data = {\"model\":[\"(base rate)\",\"LogReg\",\"kNN\",\"DTree\",\"RandomForest\",\"NN\"], \"score\":[0.6366,0.6872,0.6931,0.6824,0.7002,0.6811]}\n",
    "table = pd.DataFrame(data).sort_values(by=\"score\", ascending=True)\n",
    "ax = table.plot.bar(x=\"model\", y=\"score\", rot=0)\n",
    "ax.set_ylim(0.6, 0.75)\n",
    "ax.set_title(\"Highest scores\", size=16)\n",
    "ax.set_xlabel(\"Model\", size=14)\n",
    "ax.set_ylabel(\"Accuracy\", size=14)"
   ]
  },
  {
   "cell_type": "markdown",
   "metadata": {},
   "source": [
    "### A. Logistic regression<a name=\"logr\"></a>"
   ]
  },
  {
   "cell_type": "code",
   "execution_count": 6,
   "metadata": {},
   "outputs": [
    {
     "data": {
      "text/plain": [
       "0.6872265139646696"
      ]
     },
     "execution_count": 6,
     "metadata": {},
     "output_type": "execute_result"
    }
   ],
   "source": [
    "X_train, X_test, y_train, y_test = custom_split(data=df, predict=\"state\", rseed=RSEED,\n",
    "                                                scaling=\"std\", encoding=\"onehot\",\n",
    "                                                pca=False, poly=False,\n",
    "                                                features=[\"goal\", \"time\", \n",
    "                                                          \"category\", \"main_category\", \"country\"])\n",
    "\n",
    "LR = LogisticRegressionCV(solver=\"lbfgs\", cv=5, max_iter=1000, random_state=RSEED)\n",
    "LR.fit(X_train, y_train)\n",
    "LR.score(X_test, y_test)"
   ]
  },
  {
   "cell_type": "markdown",
   "metadata": {},
   "source": [
    "#### Results\n",
    "\n",
    "Testing each feature separately, we find that `category` (one-hot encoded) brings the highest marginal increase in accuracy. This make sense, since the one-hot encoded version contains 159 features. The next best feature is `main_category` (again, with one-hot encoding)."
   ]
  },
  {
   "cell_type": "code",
   "execution_count": 33,
   "metadata": {},
   "outputs": [
    {
     "data": {
      "text/html": [
       "<style  type=\"text/css\" >\n",
       "</style><table id=\"T_b95880d4_1838_11ea_8e48_9152886bdaf1\" ><thead>    <tr>        <th class=\"col_heading level0 col0\" >feature</th>        <th class=\"col_heading level0 col1\" >score</th>    </tr></thead><tbody>\n",
       "                <tr>\n",
       "                                <td id=\"T_b95880d4_1838_11ea_8e48_9152886bdaf1row0_col0\" class=\"data row0 col0\" >Category(OH)</td>\n",
       "                        <td id=\"T_b95880d4_1838_11ea_8e48_9152886bdaf1row0_col1\" class=\"data row0 col1\" >0.6714</td>\n",
       "            </tr>\n",
       "            <tr>\n",
       "                                <td id=\"T_b95880d4_1838_11ea_8e48_9152886bdaf1row1_col0\" class=\"data row1 col0\" >MainCategory(OH)</td>\n",
       "                        <td id=\"T_b95880d4_1838_11ea_8e48_9152886bdaf1row1_col1\" class=\"data row1 col1\" >0.6498</td>\n",
       "            </tr>\n",
       "            <tr>\n",
       "                                <td id=\"T_b95880d4_1838_11ea_8e48_9152886bdaf1row2_col0\" class=\"data row2 col0\" >Goal(STD)</td>\n",
       "                        <td id=\"T_b95880d4_1838_11ea_8e48_9152886bdaf1row2_col1\" class=\"data row2 col1\" >0.6377</td>\n",
       "            </tr>\n",
       "            <tr>\n",
       "                                <td id=\"T_b95880d4_1838_11ea_8e48_9152886bdaf1row3_col0\" class=\"data row3 col0\" >Time(STD)</td>\n",
       "                        <td id=\"T_b95880d4_1838_11ea_8e48_9152886bdaf1row3_col1\" class=\"data row3 col1\" >0.6377</td>\n",
       "            </tr>\n",
       "            <tr>\n",
       "                                <td id=\"T_b95880d4_1838_11ea_8e48_9152886bdaf1row4_col0\" class=\"data row4 col0\" >Country(OH)</td>\n",
       "                        <td id=\"T_b95880d4_1838_11ea_8e48_9152886bdaf1row4_col1\" class=\"data row4 col1\" >0.6377</td>\n",
       "            </tr>\n",
       "    </tbody></table>"
      ],
      "text/plain": [
       "<pandas.io.formats.style.Styler at 0x1e89bb545c0>"
      ]
     },
     "execution_count": 33,
     "metadata": {},
     "output_type": "execute_result"
    }
   ],
   "source": [
    "data = {\"feature\":[\"Goal(STD)\",\"Time(STD)\",\"Category(OH)\",\"MainCategory(OH)\",\"Country(OH)\"], \"score\":[0.6377,0.6377,0.6714,0.6498,0.6377]}\n",
    "pd.DataFrame(data).sort_values(by=\"score\", ascending=False).style.hide_index()"
   ]
  },
  {
   "cell_type": "markdown",
   "metadata": {},
   "source": [
    "Generally speaking, adding more features to a logistic regression model results in higher accuracy (at the cost of a longer runtime, since the complexity depends on the number of features).\n",
    "\n",
    "This leads us to the conclusion that, in most cases, it is better to **combine** features (e.g. goal + category) to get better accuracy. The table below shows that. However, it is worth noting that the resulting increase is very small. Simply by using the one-hot-encoded `category`, we get an accuracy of 67.14%. Using all the other features alongside it only contributes a 1.58% increase."
   ]
  },
  {
   "cell_type": "code",
   "execution_count": 36,
   "metadata": {},
   "outputs": [
    {
     "data": {
      "text/html": [
       "<div>\n",
       "<style scoped>\n",
       "    .dataframe tbody tr th:only-of-type {\n",
       "        vertical-align: middle;\n",
       "    }\n",
       "\n",
       "    .dataframe tbody tr th {\n",
       "        vertical-align: top;\n",
       "    }\n",
       "\n",
       "    .dataframe thead th {\n",
       "        text-align: right;\n",
       "    }\n",
       "</style>\n",
       "<table border=\"1\" class=\"dataframe\">\n",
       "  <thead>\n",
       "    <tr style=\"text-align: right;\">\n",
       "      <th></th>\n",
       "      <th>goal</th>\n",
       "      <th>time</th>\n",
       "      <th>category</th>\n",
       "      <th>main_category</th>\n",
       "      <th>country</th>\n",
       "      <th>accuracy</th>\n",
       "    </tr>\n",
       "  </thead>\n",
       "  <tbody>\n",
       "    <tr>\n",
       "      <th>0</th>\n",
       "      <td>STD</td>\n",
       "      <td>STD</td>\n",
       "      <td>OH</td>\n",
       "      <td>OH</td>\n",
       "      <td>OH</td>\n",
       "      <td>0.687227</td>\n",
       "    </tr>\n",
       "    <tr>\n",
       "      <th>1</th>\n",
       "      <td>STD</td>\n",
       "      <td>STD</td>\n",
       "      <td>OH</td>\n",
       "      <td>OH</td>\n",
       "      <td>-</td>\n",
       "      <td>0.686632</td>\n",
       "    </tr>\n",
       "    <tr>\n",
       "      <th>2</th>\n",
       "      <td>STD</td>\n",
       "      <td>STD</td>\n",
       "      <td>OH</td>\n",
       "      <td>-</td>\n",
       "      <td>-</td>\n",
       "      <td>0.686214</td>\n",
       "    </tr>\n",
       "    <tr>\n",
       "      <th>4</th>\n",
       "      <td>STD</td>\n",
       "      <td>-</td>\n",
       "      <td>OH</td>\n",
       "      <td>-</td>\n",
       "      <td>-</td>\n",
       "      <td>0.680730</td>\n",
       "    </tr>\n",
       "    <tr>\n",
       "      <th>10</th>\n",
       "      <td>-</td>\n",
       "      <td>-</td>\n",
       "      <td>OH</td>\n",
       "      <td>-</td>\n",
       "      <td>-</td>\n",
       "      <td>0.671358</td>\n",
       "    </tr>\n",
       "    <tr>\n",
       "      <th>12</th>\n",
       "      <td>-</td>\n",
       "      <td>-</td>\n",
       "      <td>-</td>\n",
       "      <td>OH</td>\n",
       "      <td>-</td>\n",
       "      <td>0.649789</td>\n",
       "    </tr>\n",
       "  </tbody>\n",
       "</table>\n",
       "</div>"
      ],
      "text/plain": [
       "   goal time category main_category country  accuracy\n",
       "0   STD  STD       OH            OH      OH  0.687227\n",
       "1   STD  STD       OH            OH       -  0.686632\n",
       "2   STD  STD       OH             -       -  0.686214\n",
       "4   STD    -       OH             -       -  0.680730\n",
       "10    -    -       OH             -       -  0.671358\n",
       "12    -    -        -            OH       -  0.649789"
      ]
     },
     "execution_count": 36,
     "metadata": {},
     "output_type": "execute_result"
    }
   ],
   "source": [
    "results[\"LogisticRegression\"].loc[[0,1,2,4,10,12],:].fillna(\"-\")"
   ]
  },
  {
   "cell_type": "markdown",
   "metadata": {},
   "source": [
    "**Note**: numerical values need to be normalized if one hopes to increase the model accuracy. Since min-max normalization often leads to convergence errors (even doubling the number of iterations did not help), the more successful tests use standard scaling."
   ]
  },
  {
   "cell_type": "markdown",
   "metadata": {},
   "source": [
    "### B. k-nearest neighbors<a name=\"knn\"></a>"
   ]
  },
  {
   "cell_type": "markdown",
   "metadata": {},
   "source": [
    "k-NN is known to become exponentially more inefficient as the number of features increases. For this reason, we initially thought that one-hot encoding, which worked well for a parametric algorithm like logistic regression, could not be used here and that we would have to resort to **label encoding**.\n",
    "\n",
    "However, it is still possible to use one-hot encoding by reducing the dimensionality with **PCA** (e.g. to 2). This speeds up runtime considerably and gives surprisingly good results (at even lower values of $k$), but the accuracy is _slightly_ worse than label encoding, as can be seen below.\n",
    "\n",
    "We first ran a battery of tests at $k\\geq49$, then pushed the value of $k$ up to 99 to see if the best-performing sets of features could provide us with an even better accuracy."
   ]
  },
  {
   "cell_type": "code",
   "execution_count": 9,
   "metadata": {},
   "outputs": [],
   "source": [
    "X_train, X_test, y_train, y_test = custom_split(data=df, predict=\"state\", rseed=RSEED,\n",
    "                                                scaling=\"minmax\", encoding=\"label\",\n",
    "                                                pca=False, poly=False,\n",
    "                                                features=[\"goal\", \"time\", \n",
    "                                                          \"category\", \"main_category\"])\n",
    "\n",
    "scores = []\n",
    "k_lim = 100\n",
    "\n",
    "for k in range(1, k_lim, 2):\n",
    "    KNN = KNeighborsClassifier(n_neighbors=k)\n",
    "    KNN.fit(X_train, y_train)\n",
    "    score = KNN.score(X_test, y_test)\n",
    "    scores.append(score)"
   ]
  },
  {
   "cell_type": "code",
   "execution_count": 17,
   "metadata": {},
   "outputs": [
    {
     "name": "stdout",
     "output_type": "stream",
     "text": [
      "95 0.6931149046512884\n"
     ]
    }
   ],
   "source": [
    "i = np.argmax(scores)\n",
    "print(i*2+1, scores[i])"
   ]
  },
  {
   "cell_type": "code",
   "execution_count": 31,
   "metadata": {},
   "outputs": [],
   "source": [
    "X_train, X_test, y_train, y_test = custom_split(data=df, predict=\"state\", rseed=RSEED,\n",
    "                                                scaling=\"minmax\", encoding=\"onehot\",\n",
    "                                                pca=2, poly=False,\n",
    "                                                features=[\"goal\", \"time\", \n",
    "                                                          \"category\", \"main_category\"])\n",
    "\n",
    "scores = []\n",
    "k_lim = 100\n",
    "\n",
    "for k in range(1, k_lim, 2):\n",
    "    KNN = KNeighborsClassifier(n_neighbors=k)\n",
    "    KNN.fit(X_train, y_train)\n",
    "    score = KNN.score(X_test, y_test)\n",
    "    scores.append(score)"
   ]
  },
  {
   "cell_type": "code",
   "execution_count": 33,
   "metadata": {},
   "outputs": [
    {
     "name": "stdout",
     "output_type": "stream",
     "text": [
      "With one-hot encoding + PCA=2: 65 0.6925746853222409\n"
     ]
    }
   ],
   "source": [
    "i = np.argmax(scores)\n",
    "print(\"With one-hot encoding + PCA=2:\", i*2+1, scores[i])"
   ]
  },
  {
   "cell_type": "markdown",
   "metadata": {},
   "source": [
    "#### Results"
   ]
  },
  {
   "cell_type": "code",
   "execution_count": 5,
   "metadata": {},
   "outputs": [
    {
     "data": {
      "text/html": [
       "<div>\n",
       "<style scoped>\n",
       "    .dataframe tbody tr th:only-of-type {\n",
       "        vertical-align: middle;\n",
       "    }\n",
       "\n",
       "    .dataframe tbody tr th {\n",
       "        vertical-align: top;\n",
       "    }\n",
       "\n",
       "    .dataframe thead th {\n",
       "        text-align: right;\n",
       "    }\n",
       "</style>\n",
       "<table border=\"1\" class=\"dataframe\">\n",
       "  <thead>\n",
       "    <tr style=\"text-align: right;\">\n",
       "      <th></th>\n",
       "      <th>goal</th>\n",
       "      <th>time</th>\n",
       "      <th>category</th>\n",
       "      <th>main_category</th>\n",
       "      <th>country</th>\n",
       "      <th>pca</th>\n",
       "      <th>k</th>\n",
       "      <th>accuracy</th>\n",
       "    </tr>\n",
       "  </thead>\n",
       "  <tbody>\n",
       "    <tr>\n",
       "      <th>0</th>\n",
       "      <td>MM</td>\n",
       "      <td>MM</td>\n",
       "      <td>LE</td>\n",
       "      <td>LE</td>\n",
       "      <td>-</td>\n",
       "      <td>-</td>\n",
       "      <td>95</td>\n",
       "      <td>0.693115</td>\n",
       "    </tr>\n",
       "    <tr>\n",
       "      <th>1</th>\n",
       "      <td>MM</td>\n",
       "      <td>MM</td>\n",
       "      <td>OH</td>\n",
       "      <td>OH</td>\n",
       "      <td>-</td>\n",
       "      <td>2</td>\n",
       "      <td>65</td>\n",
       "      <td>0.692575</td>\n",
       "    </tr>\n",
       "    <tr>\n",
       "      <th>2</th>\n",
       "      <td>MM</td>\n",
       "      <td>MM</td>\n",
       "      <td>LE</td>\n",
       "      <td>LE</td>\n",
       "      <td>LE</td>\n",
       "      <td>-</td>\n",
       "      <td>79</td>\n",
       "      <td>0.692237</td>\n",
       "    </tr>\n",
       "    <tr>\n",
       "      <th>3</th>\n",
       "      <td>MM</td>\n",
       "      <td>MM</td>\n",
       "      <td>LE</td>\n",
       "      <td>LE</td>\n",
       "      <td>-</td>\n",
       "      <td>-</td>\n",
       "      <td>49</td>\n",
       "      <td>0.691076</td>\n",
       "    </tr>\n",
       "    <tr>\n",
       "      <th>4</th>\n",
       "      <td>MM</td>\n",
       "      <td>MM</td>\n",
       "      <td>LE</td>\n",
       "      <td>LE</td>\n",
       "      <td>LE</td>\n",
       "      <td>-</td>\n",
       "      <td>47</td>\n",
       "      <td>0.690941</td>\n",
       "    </tr>\n",
       "    <tr>\n",
       "      <th>5</th>\n",
       "      <td>MM</td>\n",
       "      <td>MM</td>\n",
       "      <td>LE</td>\n",
       "      <td>-</td>\n",
       "      <td>-</td>\n",
       "      <td>-</td>\n",
       "      <td>49</td>\n",
       "      <td>0.690684</td>\n",
       "    </tr>\n",
       "    <tr>\n",
       "      <th>6</th>\n",
       "      <td>STD</td>\n",
       "      <td>STD</td>\n",
       "      <td>LE</td>\n",
       "      <td>LE</td>\n",
       "      <td>-</td>\n",
       "      <td>-</td>\n",
       "      <td>47</td>\n",
       "      <td>0.690468</td>\n",
       "    </tr>\n",
       "    <tr>\n",
       "      <th>7</th>\n",
       "      <td>STD</td>\n",
       "      <td>STD</td>\n",
       "      <td>LE</td>\n",
       "      <td>-</td>\n",
       "      <td>-</td>\n",
       "      <td>-</td>\n",
       "      <td>47</td>\n",
       "      <td>0.690130</td>\n",
       "    </tr>\n",
       "    <tr>\n",
       "      <th>8</th>\n",
       "      <td>STD</td>\n",
       "      <td>STD</td>\n",
       "      <td>LE</td>\n",
       "      <td>LE</td>\n",
       "      <td>LE</td>\n",
       "      <td>-</td>\n",
       "      <td>41</td>\n",
       "      <td>0.689576</td>\n",
       "    </tr>\n",
       "    <tr>\n",
       "      <th>13</th>\n",
       "      <td>STD</td>\n",
       "      <td>STD</td>\n",
       "      <td>OH</td>\n",
       "      <td>OH</td>\n",
       "      <td>-</td>\n",
       "      <td>2</td>\n",
       "      <td>95</td>\n",
       "      <td>0.660405</td>\n",
       "    </tr>\n",
       "  </tbody>\n",
       "</table>\n",
       "</div>"
      ],
      "text/plain": [
       "   goal time category main_category country pca   k  accuracy\n",
       "0    MM   MM       LE            LE       -   -  95  0.693115\n",
       "1    MM   MM       OH            OH       -   2  65  0.692575\n",
       "2    MM   MM       LE            LE      LE   -  79  0.692237\n",
       "3    MM   MM       LE            LE       -   -  49  0.691076\n",
       "4    MM   MM       LE            LE      LE   -  47  0.690941\n",
       "5    MM   MM       LE             -       -   -  49  0.690684\n",
       "6   STD  STD       LE            LE       -   -  47  0.690468\n",
       "7   STD  STD       LE             -       -   -  47  0.690130\n",
       "8   STD  STD       LE            LE      LE   -  41  0.689576\n",
       "13  STD  STD       OH            OH       -   2  95  0.660405"
      ]
     },
     "execution_count": 5,
     "metadata": {},
     "output_type": "execute_result"
    }
   ],
   "source": [
    "results[\"kNearestNeighbors\"].loc[[0,1,2,3,4,5,6,7,8,13],:].fillna(\"-\")"
   ]
  },
  {
   "cell_type": "markdown",
   "metadata": {},
   "source": [
    "From this data, a couple of interesting points arise:\n",
    "\n",
    "* Overall, the k-NN model performed **better** than logistic regression (we managed to go over the 69% threshold!).\n",
    "* Contrary to logistic regression, it seems that _removing_ a feature (in this case `country`) can actually lead to an increase in accuracy (albeit very small).\n",
    "* Increasing the value of $k$ _does_ provide a little bit accuracy (about 0.2% going from $k=49$ to $k=99$), but at the cost of longer computation time. As shown in the graph below, any value of $k$ above 35 gives good enough results. \n",
    "* Min-max encoding seems to perform better, but in the case of label encoding, the difference is so small it is hardly worth mentioning.\n",
    "* Testing single features again showed that **`category`** is the largest contributing factor of accuracy.\n",
    "\n",
    "Since the difference between label encoding and one-hot encoding (with PCA) is so small, we recommend using the latter for faster runtime.\n",
    "\n",
    "**Note**: a weird thing we noticed is that running the k-NN on a single feature takes much longer than running the same model with several features). We were not able to make sense of this.\n",
    "\n",
    "Furthermore, k-NN is not supposed to work well with categorical data, because the hierarchy of labels (from 1 to $n$) is completely arbitrary and meaningless. Yet, it performed better than logistic regression. Again, we cannot provide an explanation for this."
   ]
  },
  {
   "cell_type": "code",
   "execution_count": 18,
   "metadata": {},
   "outputs": [
    {
     "data": {
      "text/plain": [
       "Text(0.5, 0, 'k')"
      ]
     },
     "execution_count": 18,
     "metadata": {},
     "output_type": "execute_result"
    },
    {
     "data": {
      "image/png": "[encoded data removed]",
      "text/plain": [
       "<Figure size 432x288 with 1 Axes>"
      ]
     },
     "metadata": {
      "needs_background": "light"
     },
     "output_type": "display_data"
    }
   ],
   "source": [
    "plt.plot(range(1, k_lim, 2), scores)\n",
    "plt.ylabel(\"Accuracy\", size=14)\n",
    "plt.xlabel(\"k\", size=14)"
   ]
  },
  {
   "cell_type": "markdown",
   "metadata": {},
   "source": [
    "### C. Decision tree<a name=\"dt\"></a>"
   ]
  },
  {
   "cell_type": "code",
   "execution_count": 60,
   "metadata": {},
   "outputs": [],
   "source": [
    "X_train, X_test, y_train, y_test = custom_split(data=df, predict=\"state\", rseed=RSEED,\n",
    "                                                scaling=\"std\", encoding=\"label\",\n",
    "                                                pca=False, poly=False,\n",
    "                                                features=[\"goal\", \"time\", \n",
    "                                                          \"category\", \"main_category\", \"country\"])\n",
    "\n",
    "scores = []\n",
    "\n",
    "for d in range(1, 30):\n",
    "    DT = DecisionTreeClassifier(criterion=\"entropy\", max_depth=d, random_state=RSEED)\n",
    "    DT.fit(X_train, y_train)\n",
    "    scores.append(DT.score(X_test, y_test))"
   ]
  },
  {
   "cell_type": "code",
   "execution_count": 61,
   "metadata": {},
   "outputs": [
    {
     "name": "stdout",
     "output_type": "stream",
     "text": [
      "12 0.6883204581059911\n"
     ]
    }
   ],
   "source": [
    "i = np.argmax(scores)\n",
    "print(i+1, scores[i])"
   ]
  },
  {
   "cell_type": "code",
   "execution_count": 10,
   "metadata": {},
   "outputs": [
    {
     "name": "stdout",
     "output_type": "stream",
     "text": [
      "11 0.6572848576522068\n"
     ]
    }
   ],
   "source": [
    "X_train, X_test, y_train, y_test = custom_split(data=df, predict=\"state\", rseed=RSEED,\n",
    "                                                scaling=\"std\", encoding=\"onehot\",\n",
    "                                                pca=4, poly=False,\n",
    "                                                features=[\"goal\", \"time\", \n",
    "                                                          \"category\", \"main_category\", \"country\"])\n",
    "\n",
    "scores = []\n",
    "\n",
    "for d in range(1, 15):\n",
    "    DT = DecisionTreeClassifier(criterion=\"entropy\", max_depth=d, random_state=RSEED)\n",
    "    DT.fit(X_train, y_train)\n",
    "    scores.append(DT.score(X_test, y_test))\n",
    "i = np.argmax(scores)\n",
    "print(i+1, scores[i])"
   ]
  },
  {
   "cell_type": "markdown",
   "metadata": {},
   "source": [
    "#### Results\n",
    "\n",
    "The first thing that stands out after running tests with different features is that `category` (no matter which encoding) _still_ remains the most relevant feature to increase accuracy.\n",
    "\n",
    "Also, we see yet again that adding more features to the decision tree makes it more accurate (our best score was achieved by keeping all 5 of them).\n",
    "\n",
    "That being said, simply combining the `usd_goal_real` feature with `category` gave us an accuracy rivalling with that of the best score (68.23% vs 68.83%). This is consistent with what was observed for logistic regression, thus further increasing our belief that the goal and the category have **good synergy**."
   ]
  },
  {
   "cell_type": "code",
   "execution_count": 49,
   "metadata": {},
   "outputs": [
    {
     "data": {
      "text/html": [
       "<div>\n",
       "<style scoped>\n",
       "    .dataframe tbody tr th:only-of-type {\n",
       "        vertical-align: middle;\n",
       "    }\n",
       "\n",
       "    .dataframe tbody tr th {\n",
       "        vertical-align: top;\n",
       "    }\n",
       "\n",
       "    .dataframe thead th {\n",
       "        text-align: right;\n",
       "    }\n",
       "</style>\n",
       "<table border=\"1\" class=\"dataframe\">\n",
       "  <thead>\n",
       "    <tr style=\"text-align: right;\">\n",
       "      <th></th>\n",
       "      <th>goal</th>\n",
       "      <th>time</th>\n",
       "      <th>category</th>\n",
       "      <th>main_category</th>\n",
       "      <th>country</th>\n",
       "      <th>d</th>\n",
       "      <th>accuracy</th>\n",
       "    </tr>\n",
       "  </thead>\n",
       "  <tbody>\n",
       "    <tr>\n",
       "      <th>0</th>\n",
       "      <td>raw</td>\n",
       "      <td>raw</td>\n",
       "      <td>LE</td>\n",
       "      <td>LE</td>\n",
       "      <td>LE</td>\n",
       "      <td>12</td>\n",
       "      <td>0.688320</td>\n",
       "    </tr>\n",
       "    <tr>\n",
       "      <th>1</th>\n",
       "      <td>STD</td>\n",
       "      <td>STD</td>\n",
       "      <td>LE</td>\n",
       "      <td>LE</td>\n",
       "      <td>LE</td>\n",
       "      <td>12</td>\n",
       "      <td>0.688320</td>\n",
       "    </tr>\n",
       "    <tr>\n",
       "      <th>2</th>\n",
       "      <td>STD</td>\n",
       "      <td>STD</td>\n",
       "      <td>LE</td>\n",
       "      <td>LE</td>\n",
       "      <td>-</td>\n",
       "      <td>12</td>\n",
       "      <td>0.688293</td>\n",
       "    </tr>\n",
       "    <tr>\n",
       "      <th>3</th>\n",
       "      <td>raw</td>\n",
       "      <td>raw</td>\n",
       "      <td>LE</td>\n",
       "      <td>LE</td>\n",
       "      <td>-</td>\n",
       "      <td>12</td>\n",
       "      <td>0.688280</td>\n",
       "    </tr>\n",
       "    <tr>\n",
       "      <th>4</th>\n",
       "      <td>raw</td>\n",
       "      <td>raw</td>\n",
       "      <td>OH</td>\n",
       "      <td>OH</td>\n",
       "      <td>OH</td>\n",
       "      <td>14</td>\n",
       "      <td>0.686578</td>\n",
       "    </tr>\n",
       "    <tr>\n",
       "      <th>5</th>\n",
       "      <td>STD</td>\n",
       "      <td>STD</td>\n",
       "      <td>OH</td>\n",
       "      <td>OH</td>\n",
       "      <td>OH</td>\n",
       "      <td>14</td>\n",
       "      <td>0.686524</td>\n",
       "    </tr>\n",
       "    <tr>\n",
       "      <th>13</th>\n",
       "      <td>MM</td>\n",
       "      <td>-</td>\n",
       "      <td>LE</td>\n",
       "      <td>-</td>\n",
       "      <td>-</td>\n",
       "      <td>12</td>\n",
       "      <td>0.682378</td>\n",
       "    </tr>\n",
       "  </tbody>\n",
       "</table>\n",
       "</div>"
      ],
      "text/plain": [
       "   goal time category main_category country   d  accuracy\n",
       "0   raw  raw       LE            LE      LE  12  0.688320\n",
       "1   STD  STD       LE            LE      LE  12  0.688320\n",
       "2   STD  STD       LE            LE       -  12  0.688293\n",
       "3   raw  raw       LE            LE       -  12  0.688280\n",
       "4   raw  raw       OH            OH      OH  14  0.686578\n",
       "5   STD  STD       OH            OH      OH  14  0.686524\n",
       "13   MM    -       LE             -       -  12  0.682378"
      ]
     },
     "execution_count": 49,
     "metadata": {},
     "output_type": "execute_result"
    }
   ],
   "source": [
    "results[\"DecisionTree\"].loc[[0,1,2,3,4,5,13],:].fillna(\"-\")"
   ]
  },
  {
   "cell_type": "markdown",
   "metadata": {},
   "source": [
    "Furthermore, we can make the following observations:\n",
    "\n",
    "* For decision trees, the type of encoding for categorical variables does not seem to matter much. Therefore, it is advised to pick **label encoding** for faster runtime.\n",
    "* As expected, normalizing the numerical data does not affect the model's accuracy.\n",
    "* As shown in the graph below, there is no need to go very deep in the tree to reach a good level of accuracy.\n",
    "* There are no significant differences between the two main attributes/thresholds picking schemes, i.e. Gini coefficient and entropy (the latter provided slightly better results).\n",
    "* We are now quite sure that the `country` is mostly **irrelevant**.\n",
    "\n",
    "Overall, decision trees might not provide the best accuracy of all the models considered in this project (although they come quite close), but its **computation time** is perceptibly shorter; this makes it a very attractive model."
   ]
  },
  {
   "cell_type": "code",
   "execution_count": 62,
   "metadata": {},
   "outputs": [
    {
     "data": {
      "text/plain": [
       "Text(0.5, 0, 'Depth')"
      ]
     },
     "execution_count": 62,
     "metadata": {},
     "output_type": "execute_result"
    },
    {
     "data": {
      "image/png": "[encoded data removed]",
      "text/plain": [
       "<Figure size 432x288 with 1 Axes>"
      ]
     },
     "metadata": {
      "needs_background": "light"
     },
     "output_type": "display_data"
    }
   ],
   "source": [
    "plt.plot(scores)\n",
    "plt.ylabel(\"Accuracy\", size=14)\n",
    "plt.xlabel(\"Depth\", size=14)"
   ]
  },
  {
   "cell_type": "markdown",
   "metadata": {},
   "source": [
    "Finally, we thought it would be good to look at the **importance** of each feature. Interestingly, `elapsed_time`, followed by the `usd_goal_real` feature, contribute the most to decreasing node impurity. Among categorical features, as previously suspected, `category` is the most discriminant when it comes to information gain."
   ]
  },
  {
   "cell_type": "code",
   "execution_count": 59,
   "metadata": {},
   "outputs": [
    {
     "data": {
      "text/plain": [
       "[(0, 0.25417221151490066),\n",
       " (0, 0.5438532786198623),\n",
       " ('category', 0.11474526123842048),\n",
       " ('main_category', 0.05081218348749061),\n",
       " ('country', 0.036417065139325897)]"
      ]
     },
     "execution_count": 59,
     "metadata": {},
     "output_type": "execute_result"
    }
   ],
   "source": [
    "list(zip(X_train.columns, DT.feature_importances_))"
   ]
  },
  {
   "cell_type": "markdown",
   "metadata": {},
   "source": [
    "### D. Random forest<a name=\"rf\"></a>"
   ]
  },
  {
   "cell_type": "markdown",
   "metadata": {},
   "source": [
    "After having experimented with decision trees, the next logical step was to try the related random forest ensemble (mostly because we were curious to see by how much accuracy would actually increase compared to decision trees).\n",
    "\n",
    "Random forests being quite **intensive** in terms of computation, we did not run as many tests as with previous models (especially not the ones with one-hot encoding!). To wit, we only picked the set of features that worked best for decision trees."
   ]
  },
  {
   "cell_type": "code",
   "execution_count": 63,
   "metadata": {},
   "outputs": [],
   "source": [
    "X_train, X_test, y_train, y_test = custom_split(data=df, predict=\"state\", rseed=RSEED,\n",
    "                                                scaling=None, encoding=\"label\",\n",
    "                                                pca=False, poly=False,\n",
    "                                                features=[\"goal\", \"time\",\n",
    "                                                          \"category\", \"main_category\", \"country\"])\n",
    "\n",
    "scores = []\n",
    "\n",
    "for d in range(1, 30):\n",
    "    RF = RandomForestClassifier(criterion=\"entropy\", n_estimators=100, max_depth=d, random_state=RSEED)\n",
    "    RF.fit(X_train, y_train)\n",
    "    scores.append(RF.score(X_test, y_test))"
   ]
  },
  {
   "cell_type": "code",
   "execution_count": 65,
   "metadata": {},
   "outputs": [
    {
     "name": "stdout",
     "output_type": "stream",
     "text": [
      "16 0.7001512614121334\n"
     ]
    }
   ],
   "source": [
    "i = np.argmax(scores)\n",
    "print(i+1, scores[i])"
   ]
  },
  {
   "cell_type": "code",
   "execution_count": 66,
   "metadata": {},
   "outputs": [
    {
     "data": {
      "text/plain": [
       "Text(0.5, 0, 'depth')"
      ]
     },
     "execution_count": 66,
     "metadata": {},
     "output_type": "execute_result"
    },
    {
     "data": {
      "image/png": "[encoded data removed]",
      "text/plain": [
       "<Figure size 432x288 with 1 Axes>"
      ]
     },
     "metadata": {
      "needs_background": "light"
     },
     "output_type": "display_data"
    }
   ],
   "source": [
    "plt.plot(scores)\n",
    "plt.ylabel(\"accuracy\", size=14)\n",
    "plt.xlabel(\"depth\", size=14)"
   ]
  },
  {
   "cell_type": "markdown",
   "metadata": {},
   "source": [
    "#### Results"
   ]
  },
  {
   "cell_type": "code",
   "execution_count": 69,
   "metadata": {},
   "outputs": [
    {
     "data": {
      "text/html": [
       "<div>\n",
       "<style scoped>\n",
       "    .dataframe tbody tr th:only-of-type {\n",
       "        vertical-align: middle;\n",
       "    }\n",
       "\n",
       "    .dataframe tbody tr th {\n",
       "        vertical-align: top;\n",
       "    }\n",
       "\n",
       "    .dataframe thead th {\n",
       "        text-align: right;\n",
       "    }\n",
       "</style>\n",
       "<table border=\"1\" class=\"dataframe\">\n",
       "  <thead>\n",
       "    <tr style=\"text-align: right;\">\n",
       "      <th></th>\n",
       "      <th>goal</th>\n",
       "      <th>time</th>\n",
       "      <th>category</th>\n",
       "      <th>main_category</th>\n",
       "      <th>country</th>\n",
       "      <th>d</th>\n",
       "      <th>accuracy</th>\n",
       "    </tr>\n",
       "  </thead>\n",
       "  <tbody>\n",
       "    <tr>\n",
       "      <th>0</th>\n",
       "      <td>raw</td>\n",
       "      <td>raw</td>\n",
       "      <td>LE</td>\n",
       "      <td>LE</td>\n",
       "      <td>LE</td>\n",
       "      <td>16</td>\n",
       "      <td>0.700151</td>\n",
       "    </tr>\n",
       "    <tr>\n",
       "      <th>1</th>\n",
       "      <td>STD</td>\n",
       "      <td>STD</td>\n",
       "      <td>LE</td>\n",
       "      <td>LE</td>\n",
       "      <td>LE</td>\n",
       "      <td>17</td>\n",
       "      <td>0.699895</td>\n",
       "    </tr>\n",
       "    <tr>\n",
       "      <th>2</th>\n",
       "      <td>MM</td>\n",
       "      <td>MM</td>\n",
       "      <td>LE</td>\n",
       "      <td>LE</td>\n",
       "      <td>LE</td>\n",
       "      <td>18</td>\n",
       "      <td>0.699192</td>\n",
       "    </tr>\n",
       "  </tbody>\n",
       "</table>\n",
       "</div>"
      ],
      "text/plain": [
       "  goal time category main_category country   d  accuracy\n",
       "0  raw  raw       LE            LE      LE  16  0.700151\n",
       "1  STD  STD       LE            LE      LE  17  0.699895\n",
       "2   MM   MM       LE            LE      LE  18  0.699192"
      ]
     },
     "execution_count": 69,
     "metadata": {},
     "output_type": "execute_result"
    }
   ],
   "source": [
    "results[\"RandomForest\"].loc[:,:].fillna(\"-\")"
   ]
  },
  {
   "cell_type": "markdown",
   "metadata": {},
   "source": [
    "Building up on the effectiveness of decision trees, random forests gave us our best score yet; we have now gone above the **70%** threshold, meaning more than 6% better than the baseline approach.\n",
    "\n",
    "It should be noted, however, that the computation time goes through the roof, especially when trying to find the optimal value for $d$. Once you know it, fitting the random forest takes about 1.5 to 2 minutes (whereas a single decision tree takes only 2-3 seconds)!\n",
    "\n",
    "Of course, it is possible to lower the computation time by picking a lower **number of estimators** (say 10), but this means a trade-off between computation time and accuracy. In such conditions, the random forest does not perform much better than the decision tree. "
   ]
  },
  {
   "cell_type": "markdown",
   "metadata": {},
   "source": [
    "### E. Neural network<a name=\"nn\"></a>"
   ]
  },
  {
   "cell_type": "markdown",
   "metadata": {},
   "source": [
    "As our final classification model, we were curious to experiment briefly with neural networks. However, the analysis conducted with previous models already told us much about the relevance of each feature; following the TA's advice, we did not spend too much time exploring neural networks and restricted ourselves to the set of parameters and the layer configuration seen during the course."
   ]
  },
  {
   "cell_type": "code",
   "execution_count": 72,
   "metadata": {},
   "outputs": [
    {
     "name": "stdout",
     "output_type": "stream",
     "text": [
      "Model: \"sequential_2\"\n",
      "_________________________________________________________________\n",
      "Layer (type)                 Output Shape              Param #   \n",
      "=================================================================\n",
      "dense_4 (Dense)              (None, 512)               101888    \n",
      "_________________________________________________________________\n",
      "activation_4 (Activation)    (None, 512)               0         \n",
      "_________________________________________________________________\n",
      "dropout_3 (Dropout)          (None, 512)               0         \n",
      "_________________________________________________________________\n",
      "dense_5 (Dense)              (None, 2)                 1026      \n",
      "_________________________________________________________________\n",
      "activation_5 (Activation)    (None, 2)                 0         \n",
      "=================================================================\n",
      "Total params: 102,914\n",
      "Trainable params: 102,914\n",
      "Non-trainable params: 0\n",
      "_________________________________________________________________\n"
     ]
    }
   ],
   "source": [
    "X_train, X_test, y_train, y_test = custom_split(data=df, predict=\"state\", rseed=RSEED,\n",
    "                                                scaling=\"std\", encoding=\"onehot\",\n",
    "                                                pca=False, poly=False,\n",
    "                                                features=[\"goal\", \"time\", \n",
    "                                                          \"category\", \"main_category\", \"country\"])\n",
    "\n",
    "Y_train = np_utils.to_categorical(y_train, 2)\n",
    "Y_test = np_utils.to_categorical(y_test, 2)\n",
    "\n",
    "NN = Sequential()\n",
    "NN.add(Dense(512, input_shape=(X_train.shape[1],)))\n",
    "NN.add(Activation(\"relu\"))\n",
    "NN.add(Dropout(0.2))\n",
    "NN.add(Dense(2))\n",
    "NN.add(Activation(\"softmax\"))\n",
    "\n",
    "optimizer = optimizers.SGD(lr=0.0001, decay=1e-6, momentum=0.9, nesterov=True)\n",
    "NN.compile(loss=\"categorical_crossentropy\", optimizer=optimizer, metrics=[\"accuracy\"])\n",
    "\n",
    "NN.summary()"
   ]
  },
  {
   "cell_type": "code",
   "execution_count": 73,
   "metadata": {},
   "outputs": [],
   "source": [
    "model_hist = NN.fit(X_train, Y_train, batch_size=64, epochs=30, verbose=0, validation_split=0.2)"
   ]
  },
  {
   "cell_type": "markdown",
   "metadata": {},
   "source": [
    "#### Results\n",
    "\n",
    "We were disappointed to observe that, out of all the classifiers we tried, the neural network gave us the **worst** performance. That being said, the difference is so small that we might as well say it is insignificant. Moreover, adding more layers and adjusting other parameters would probably have yielded better results.\n",
    "\n",
    "In terms of features, the previous observations still hold here: adding more features increases accuracy, but none more so than the specific `category`.\n",
    "\n",
    "Finally, hearkening back to logistic regression, **standard scaling** and **one-hot encoding** seem to work the best on neural networks."
   ]
  },
  {
   "cell_type": "code",
   "execution_count": 23,
   "metadata": {},
   "outputs": [
    {
     "data": {
      "text/html": [
       "<div>\n",
       "<style scoped>\n",
       "    .dataframe tbody tr th:only-of-type {\n",
       "        vertical-align: middle;\n",
       "    }\n",
       "\n",
       "    .dataframe tbody tr th {\n",
       "        vertical-align: top;\n",
       "    }\n",
       "\n",
       "    .dataframe thead th {\n",
       "        text-align: right;\n",
       "    }\n",
       "</style>\n",
       "<table border=\"1\" class=\"dataframe\">\n",
       "  <thead>\n",
       "    <tr style=\"text-align: right;\">\n",
       "      <th></th>\n",
       "      <th>goal</th>\n",
       "      <th>time</th>\n",
       "      <th>category</th>\n",
       "      <th>main_category</th>\n",
       "      <th>country</th>\n",
       "      <th>accuracy</th>\n",
       "    </tr>\n",
       "  </thead>\n",
       "  <tbody>\n",
       "    <tr>\n",
       "      <th>0</th>\n",
       "      <td>STD</td>\n",
       "      <td>STD</td>\n",
       "      <td>OH</td>\n",
       "      <td>OH</td>\n",
       "      <td>OH</td>\n",
       "      <td>0.6811</td>\n",
       "    </tr>\n",
       "    <tr>\n",
       "      <th>1</th>\n",
       "      <td>STD</td>\n",
       "      <td>-</td>\n",
       "      <td>OH</td>\n",
       "      <td>OH</td>\n",
       "      <td>-</td>\n",
       "      <td>0.6718</td>\n",
       "    </tr>\n",
       "    <tr>\n",
       "      <th>2</th>\n",
       "      <td>MM</td>\n",
       "      <td>MM</td>\n",
       "      <td>OH</td>\n",
       "      <td>OH</td>\n",
       "      <td>OH</td>\n",
       "      <td>0.6706</td>\n",
       "    </tr>\n",
       "    <tr>\n",
       "      <th>3</th>\n",
       "      <td>-</td>\n",
       "      <td>-</td>\n",
       "      <td>OH</td>\n",
       "      <td>OH</td>\n",
       "      <td>OH</td>\n",
       "      <td>0.6703</td>\n",
       "    </tr>\n",
       "    <tr>\n",
       "      <th>4</th>\n",
       "      <td>-</td>\n",
       "      <td>-</td>\n",
       "      <td>OH</td>\n",
       "      <td>-</td>\n",
       "      <td>-</td>\n",
       "      <td>0.6666</td>\n",
       "    </tr>\n",
       "    <tr>\n",
       "      <th>5</th>\n",
       "      <td>MM</td>\n",
       "      <td>MM</td>\n",
       "      <td>LE</td>\n",
       "      <td>LE</td>\n",
       "      <td>LE</td>\n",
       "      <td>0.6448</td>\n",
       "    </tr>\n",
       "    <tr>\n",
       "      <th>6</th>\n",
       "      <td>-</td>\n",
       "      <td>-</td>\n",
       "      <td>LE</td>\n",
       "      <td>-</td>\n",
       "      <td>-</td>\n",
       "      <td>0.6405</td>\n",
       "    </tr>\n",
       "  </tbody>\n",
       "</table>\n",
       "</div>"
      ],
      "text/plain": [
       "  goal time category main_category country  accuracy\n",
       "0  STD  STD       OH            OH      OH    0.6811\n",
       "1  STD    -       OH            OH       -    0.6718\n",
       "2   MM   MM       OH            OH      OH    0.6706\n",
       "3    -    -       OH            OH      OH    0.6703\n",
       "4    -    -       OH             -       -    0.6666\n",
       "5   MM   MM       LE            LE      LE    0.6448\n",
       "6    -    -       LE             -       -    0.6405"
      ]
     },
     "execution_count": 23,
     "metadata": {},
     "output_type": "execute_result"
    }
   ],
   "source": [
    "results[\"NeuralNetwork\"].loc[:,:].fillna(\"-\")"
   ]
  },
  {
   "cell_type": "markdown",
   "metadata": {},
   "source": [
    "### F. (Bonus!) Linear regression<a name=\"linr\"></a>"
   ]
  },
  {
   "cell_type": "markdown",
   "metadata": {},
   "source": [
    "As a side project, we also experimented with **linear regression** to see if the data allowed us to accurately predict the amount of money pledged to a certain project (`usd_pledged_real`)."
   ]
  },
  {
   "cell_type": "code",
   "execution_count": 7,
   "metadata": {},
   "outputs": [
    {
     "name": "stdout",
     "output_type": "stream",
     "text": [
      "R^2: 0.013445023293411018\n",
      "MSE: 7757534563.273292\n"
     ]
    }
   ],
   "source": [
    "X_train, X_test, y_train, y_test = custom_split(data=df, predict=\"usd_pledged_real\", rseed=RSEED,\n",
    "                                                scaling=\"std\", encoding=\"onehot\", \n",
    "                                                pca=False, poly=False,\n",
    "                                                features=[\"time\", \"goal\", \n",
    "                                                          \"category\", \"main_category\", \"country\"])\n",
    "\n",
    "\"\"\"\n",
    "ridge = RidgeCV()\n",
    "ridge.fit(X_train, y_train)\n",
    "print(\"R^2:\", ridge.score(X_test, y_test))\n",
    "print(\"MSE:\", mean_squared_error(y_test, ridge.predict(X_test)))\n",
    "\"\"\"\n",
    "\n",
    "LinR = LinearRegression(fit_intercept=True)\n",
    "LinR.fit(X_train, y_train)\n",
    "print(\"R^2:\", LinR.score(X_test, y_test))\n",
    "print(\"MSE:\", mean_squared_error(y_test, LinR.predict(X_test)))"
   ]
  },
  {
   "cell_type": "markdown",
   "metadata": {},
   "source": [
    "#### Results"
   ]
  },
  {
   "cell_type": "code",
   "execution_count": 4,
   "metadata": {},
   "outputs": [
    {
     "data": {
      "text/html": [
       "<div>\n",
       "<style scoped>\n",
       "    .dataframe tbody tr th:only-of-type {\n",
       "        vertical-align: middle;\n",
       "    }\n",
       "\n",
       "    .dataframe tbody tr th {\n",
       "        vertical-align: top;\n",
       "    }\n",
       "\n",
       "    .dataframe thead th {\n",
       "        text-align: right;\n",
       "    }\n",
       "</style>\n",
       "<table border=\"1\" class=\"dataframe\">\n",
       "  <thead>\n",
       "    <tr style=\"text-align: right;\">\n",
       "      <th></th>\n",
       "      <th>goal</th>\n",
       "      <th>time</th>\n",
       "      <th>category</th>\n",
       "      <th>main_category</th>\n",
       "      <th>country</th>\n",
       "      <th>poly</th>\n",
       "      <th>r^2</th>\n",
       "    </tr>\n",
       "  </thead>\n",
       "  <tbody>\n",
       "    <tr>\n",
       "      <th>0</th>\n",
       "      <td>STD</td>\n",
       "      <td>STD</td>\n",
       "      <td>OH</td>\n",
       "      <td>OH</td>\n",
       "      <td>OH</td>\n",
       "      <td>-</td>\n",
       "      <td>0.013445</td>\n",
       "    </tr>\n",
       "    <tr>\n",
       "      <th>1</th>\n",
       "      <td>-</td>\n",
       "      <td>-</td>\n",
       "      <td>OH</td>\n",
       "      <td>-</td>\n",
       "      <td>-</td>\n",
       "      <td>-</td>\n",
       "      <td>0.013090</td>\n",
       "    </tr>\n",
       "    <tr>\n",
       "      <th>2</th>\n",
       "      <td>-</td>\n",
       "      <td>-</td>\n",
       "      <td>-</td>\n",
       "      <td>OH</td>\n",
       "      <td>-</td>\n",
       "      <td>-</td>\n",
       "      <td>0.007043</td>\n",
       "    </tr>\n",
       "    <tr>\n",
       "      <th>3</th>\n",
       "      <td>STD</td>\n",
       "      <td>STD</td>\n",
       "      <td>-</td>\n",
       "      <td>OH</td>\n",
       "      <td>-</td>\n",
       "      <td>2</td>\n",
       "      <td>0.005222</td>\n",
       "    </tr>\n",
       "    <tr>\n",
       "      <th>4</th>\n",
       "      <td>STD</td>\n",
       "      <td>STD</td>\n",
       "      <td>LE</td>\n",
       "      <td>LE</td>\n",
       "      <td>LE</td>\n",
       "      <td>2</td>\n",
       "      <td>0.001451</td>\n",
       "    </tr>\n",
       "    <tr>\n",
       "      <th>15</th>\n",
       "      <td>STD</td>\n",
       "      <td>STD</td>\n",
       "      <td>-</td>\n",
       "      <td>OH</td>\n",
       "      <td>-</td>\n",
       "      <td>3</td>\n",
       "      <td>-131.084931</td>\n",
       "    </tr>\n",
       "  </tbody>\n",
       "</table>\n",
       "</div>"
      ],
      "text/plain": [
       "   goal time category main_category country poly         r^2\n",
       "0   STD  STD       OH            OH      OH    -    0.013445\n",
       "1     -    -       OH             -       -    -    0.013090\n",
       "2     -    -        -            OH       -    -    0.007043\n",
       "3   STD  STD        -            OH       -    2    0.005222\n",
       "4   STD  STD       LE            LE      LE    2    0.001451\n",
       "15  STD  STD        -            OH       -    3 -131.084931"
      ]
     },
     "execution_count": 4,
     "metadata": {},
     "output_type": "execute_result"
    }
   ],
   "source": [
    "results[\"LinearRegression\"].loc[[0,1,2,3,4,15],:].fillna(\"-\")"
   ]
  },
  {
   "cell_type": "markdown",
   "metadata": {},
   "source": [
    "We quickly realized that linear regression gave very **low** (sometimes even negative...) **scores** and **high error**, no matter which features were used.\n",
    "\n",
    "Using **higher polynomial functions** or **ridge regression** instead did not help either, not to mention it was not possible to use the one-hot encoded `category` (which, so far, has usually allowed us to reach higher scores); the computation becomes just too long and results in memory errors.\n",
    "\n",
    "Nevertheless, a couple of observations can be scavenged from the data that we gathered:\n",
    "\n",
    "* Taking categorical variables into account leads to higher scores.\n",
    "* There is no difference between min-max and standard scaling.\n",
    "* Label encoding does not make much sense in the context of linear regression. It is preferable to use one-hot encoding.\n",
    "* Given the very low scores, adjusting the `fit_intercept` parameter does not affect results significantly.\n",
    "* Polynomial functions do not fit the data well.\n",
    "\n",
    "We therefore conclude that the features available in the dataset are not enough to make linear regression work. It is unfortunately not possible to use this model to make any meaningful predictions. "
   ]
  },
  {
   "cell_type": "markdown",
   "metadata": {},
   "source": [
    "## 4. Conclusion<a name=\"conclusion\"></a>"
   ]
  },
  {
   "cell_type": "markdown",
   "metadata": {},
   "source": [
    "We started out with around **380,000 records of Kickstarter project metadata**, hoping to use it to build an effective model for predicting the success or failure of a project.\n",
    "\n",
    "After having experimented with various machine learning models, we come to the conclusion that the data contained in the dataset is **not sufficient to provide a reliable model**. Our best (and rather inefficient) model, the **random forest**, performed only 6.4% better than the baseline approach. No significant difference was found between the various classifiers (from 68.11% for the worst model, to 70.02% for the best). The most efficient one was the **decision tree**, taking only a couple of seconds to run and boasting an accuracy of almost 69%. The **k-NN** also deserves an honorable mention; with the help of PCA, it is able to push accuracy above 69% in a reasonably short time.\n",
    "\n",
    "More knowledgeable data scientists will be able to **better fine-tune** the models we used, but it is our belief that they might only be able to squeeze 1 or 2 extra percents out of it at best.\n",
    "\n",
    "Unfortunately, our dataset did not contain the **project descriptions**. Had that been the case, it would have been interesting to conduct **text analysis** on the whole corpus in order to predict the success/failure. Indeed, it is our assumption that, in addition to the video, the project description is a very important aspect of a Kickstarter project in terms of marketing, and that it can have a much greater impact on the amount of money collected than, say, the category or country.\n",
    " \n",
    "Our dataset contains informative, but **basic** metadata that do not have strong interdependencies with the final state of projects. Despite the large number of records, it is **difficult to identify a well-defined trend**.\n",
    "\n",
    "Still, based on the data we were working with, we can conclude that the **specific category** (`category`) coupled with the **goal** set by the project creator (`usd_goal_real`) are the most relevant features for predicting success or failure.\n",
    "\n",
    "As mentioned above, the descriptions of the different projects would have given us more leads for analysis and thus would have allowed us to formulate some hypotheses related to the success of a project, such as:\n",
    " \n",
    "* Marketing analysis and the financial means used to promote the project (before and after the launch of the Kickstarter campaign)\n",
    "* Available resources\n",
    "* Supply and demand analysis\n",
    "* The level of innovation of the project\n",
    "* etc.\n",
    " \n",
    "This would undoubtedly have made our results more relevant."
   ]
  },
  {
   "cell_type": "code",
   "execution_count": null,
   "metadata": {},
   "outputs": [],
   "source": []
  }
 ],
 "metadata": {
  "kernelspec": {
   "display_name": "Python 3",
   "language": "python",
   "name": "python3"
  },
  "language_info": {
   "codemirror_mode": {
    "name": "ipython",
    "version": 3
   },
   "file_extension": ".py",
   "mimetype": "text/x-python",
   "name": "python",
   "nbconvert_exporter": "python",
   "pygments_lexer": "ipython3",
   "version": "3.7.3"
  }
 },
 "nbformat": 4,
 "nbformat_minor": 2
}
