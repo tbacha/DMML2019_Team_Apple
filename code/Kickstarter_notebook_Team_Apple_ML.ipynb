{
 "cells": [
  {
   "cell_type": "markdown",
   "metadata": {},
   "source": [
    "# Gathering Insight from Kickstarter Data: Machine Learning\n",
    "\n",
    "_A project by Team Apple (Data Mining & Machine Learning, HEC Lausanne, Fall 2019)_"
   ]
  },
  {
   "cell_type": "markdown",
   "metadata": {},
   "source": [
    "**Contents**\n",
    "\n",
    "1. [Introduction](#intro)\n",
    "2. [Setting things up](#imports)\n",
    "3. [Machine learning models](#ml)\n",
    "    1. [Logistic regression](#logr)\n",
    "    2. [k-nearest neighbors](#knn)\n",
    "    3. [Decision tree & random forest](#dtrf)\n",
    "    4. [Neural network](#nn)\n",
    "    5. [Linear regression](#linr)\n",
    "4. [Conclusion](#conclusion)"
   ]
  },
  {
   "cell_type": "markdown",
   "metadata": {},
   "source": [
    "## 1. Introduction<a name=\"intro\"></a>"
   ]
  },
  {
   "cell_type": "markdown",
   "metadata": {},
   "source": [
    "### Quick reminder\n",
    "\n",
    "* We are trying to find out which machine learning **models** (if any at all), and which **features**, can most accurately predict the success or failure of a project.\n",
    "* The predicted classes are either **1** (= successful) or **0** (= failed).\n",
    "* The base rate of the majority class (failed) is **63.66%**.\n",
    "\n",
    "We thought it would be interesting to try all the classification models seen during the course (in the same order) and pit them against each other to see which one would perform best with our dataset.\n",
    "\n",
    "As a **bonus**, we also experimented with linear regression to see if our data allows us to accurately predict the amount of money pledged for a certain project."
   ]
  },
  {
   "cell_type": "markdown",
   "metadata": {},
   "source": [
    "### Feature selection\n",
    "\n",
    "Of all features available in the dataset, only the following were considered:\n",
    "\n",
    "* `usd_goal_real`: the goal set by the project creator (in USD)\n",
    "* `elapsed_time`: the time that passed between the launch date and the deadline \n",
    "* `category`: the specific category chosen for the project\n",
    "* `main_category`: the main category chosen for the project\n",
    "* `country`: where the project originates from\n",
    "\n",
    "The reason for this choice is that these features can be somewhat controlled by the project creator. Other features, such as `backers` or `usd_pledged_real`, are rather indicators of whether a project is being successful or not, and the project creator has no direct control over them."
   ]
  },
  {
   "cell_type": "markdown",
   "metadata": {},
   "source": [
    "### Methodology\n",
    "\n",
    "The same methodology was applied for each model:\n",
    "\n",
    "1. Test each feature _separately_ to see their marginal contribution to the given model's accuracy.\n",
    "2. Test various combinations of features and scaling/encoding schemes in an exploratory fashion, in an attempt to find the most accurate model.\n",
    "3. Fine-tune the model by adjusting the parameters.\n",
    "\n",
    "**Numerical** features were tested either in their original form or in a normalized version. The two types of scaling used were _z-score normalization_ and _min-max normalization_.\n",
    "\n",
    "**Categorical** features were encoded either using _one-hot encoding_ or _label encoding_ to make them usable by our models. As we will see, the choice between the two is not trivial and highly depends on the model used.\n",
    "\n",
    "To measure **accuracy**, we used scikit-learn's _score_ function. Since our classes are not that well balanced (a ratio of about 2:1), we initially also looked at the scikit-learn's classification report, which contains other useful metrics such as precision and recall. However, our first tests show that, generally speaking, as accuracy goes up, so do precision and recall. Recall is generally quite good for the negative class (\\~80%) and quite bad for the positive class (\\~40%). To speed up the analysis process, we decided not to pay any further attention to these metrics.\n",
    "\n",
    "All the main test results were recorded in the `ml_results.xlsx` file:"
   ]
  },
  {
   "cell_type": "code",
   "execution_count": 41,
   "metadata": {},
   "outputs": [],
   "source": [
    "url = \"https://github.com/tbacha/DMML2019_Team_Apple/blob/master/documents/ml_results.xlsx?raw=true\"\n",
    "results = pd.read_excel(url, sheet_name=None)"
   ]
  },
  {
   "cell_type": "markdown",
   "metadata": {},
   "source": [
    "## 2. Setting things up<a name=\"imports\"></a>"
   ]
  },
  {
   "cell_type": "markdown",
   "metadata": {},
   "source": [
    "The following libraries are necessary for the neural network to work. If not already installed, these commands need to be uncommented and called."
   ]
  },
  {
   "cell_type": "code",
   "execution_count": 2,
   "metadata": {
    "scrolled": true
   },
   "outputs": [],
   "source": [
    "#!pip install keras\n",
    "#!pip install --upgrade tensorflow==1.14.0"
   ]
  },
  {
   "cell_type": "markdown",
   "metadata": {},
   "source": [
    "The `cleaning` module contains the **cleaned version** of the dataset (see the <a href=\"https://github.com/tbacha/DMML2019_Team_Apple/blob/master/code/Kickstarter_notebook_Team_Apple_EDA.ipynb\" target=\"_blank\">EDA notebook</a> for detailed explanations about the cleaning process).\n",
    "\n",
    "The `custom_functions` module contains a custom version of scikit-learn's _train_test_split_ function, designed to make it easier to play with different feature combinations and scaling/encoding schemes (see <a href=\"https://github.com/tbacha/DMML2019_Team_Apple/blob/master/README.md\" target=\"_blank\">README</a> for more information about the parameters)."
   ]
  },
  {
   "cell_type": "code",
   "execution_count": 1,
   "metadata": {},
   "outputs": [
    {
     "name": "stderr",
     "output_type": "stream",
     "text": [
      "Using TensorFlow backend.\n"
     ]
    }
   ],
   "source": [
    "from cleaning import df\n",
    "from custom_functions import custom_split\n",
    "\n",
    "import numpy as np\n",
    "import pandas as pd\n",
    "\n",
    "import matplotlib.pyplot as plt\n",
    "\n",
    "from sklearn.linear_model import LogisticRegressionCV\n",
    "from sklearn.neighbors import KNeighborsClassifier\n",
    "from sklearn.tree import DecisionTreeClassifier\n",
    "from sklearn.ensemble import RandomForestClassifier\n",
    "from sklearn.metrics import classification_report\n",
    "\n",
    "from keras import optimizers\n",
    "from keras.utils import np_utils\n",
    "from keras.models import Sequential\n",
    "from keras.layers.core import Dense, Dropout, Activation"
   ]
  },
  {
   "cell_type": "markdown",
   "metadata": {},
   "source": [
    "In order to get reproducible as well as comparable results, we are arbitrarily choosing a **random seed** to be used during the train/test split and as a parameter for some models."
   ]
  },
  {
   "cell_type": "code",
   "execution_count": 2,
   "metadata": {},
   "outputs": [],
   "source": [
    "RSEED = 42"
   ]
  },
  {
   "cell_type": "markdown",
   "metadata": {},
   "source": [
    "## 3. Machine learning models<a name=\"ml\"></a>"
   ]
  },
  {
   "cell_type": "markdown",
   "metadata": {},
   "source": [
    "### A. Logistic regression<a name=\"logr\"></a>"
   ]
  },
  {
   "cell_type": "code",
   "execution_count": 6,
   "metadata": {},
   "outputs": [
    {
     "data": {
      "text/plain": [
       "0.6872265139646696"
      ]
     },
     "execution_count": 6,
     "metadata": {},
     "output_type": "execute_result"
    }
   ],
   "source": [
    "X_train, X_test, y_train, y_test = custom_split(data=df, predict=\"state\", rseed=RSEED,\n",
    "                                                scaling=\"std\", encoding=\"onehot\",\n",
    "                                                features=[\"goal\", \"time\", \"category\", \"main_category\", \"country\"])\n",
    "\n",
    "LR = LogisticRegressionCV(solver=\"lbfgs\", cv=5, max_iter=1000, random_state=RSEED)\n",
    "LR.fit(X_train, y_train)\n",
    "LR.score(X_test, y_test)"
   ]
  },
  {
   "cell_type": "markdown",
   "metadata": {},
   "source": [
    "#### Results\n",
    "\n",
    "Testing each feature separately, we find that `category` (one-hot encoded) brings the highest marginal increase in accuracy. This make sense, since the one-hot encoded version contains 159 features."
   ]
  },
  {
   "cell_type": "code",
   "execution_count": 14,
   "metadata": {},
   "outputs": [
    {
     "data": {
      "text/html": [
       "<div>\n",
       "<style scoped>\n",
       "    .dataframe tbody tr th:only-of-type {\n",
       "        vertical-align: middle;\n",
       "    }\n",
       "\n",
       "    .dataframe tbody tr th {\n",
       "        vertical-align: top;\n",
       "    }\n",
       "\n",
       "    .dataframe thead th {\n",
       "        text-align: right;\n",
       "    }\n",
       "</style>\n",
       "<table border=\"1\" class=\"dataframe\">\n",
       "  <thead>\n",
       "    <tr style=\"text-align: right;\">\n",
       "      <th></th>\n",
       "      <th>Goal(STD)</th>\n",
       "      <th>Time(STD)</th>\n",
       "      <th>Category(OH)</th>\n",
       "      <th>MainCat(OH)</th>\n",
       "      <th>Country(OH)</th>\n",
       "    </tr>\n",
       "  </thead>\n",
       "  <tbody>\n",
       "    <tr>\n",
       "      <th>0</th>\n",
       "      <td>0.6377</td>\n",
       "      <td>0.6377</td>\n",
       "      <td>0.6714</td>\n",
       "      <td>0.6498</td>\n",
       "      <td>0.6377</td>\n",
       "    </tr>\n",
       "  </tbody>\n",
       "</table>\n",
       "</div>"
      ],
      "text/plain": [
       "   Goal(STD)  Time(STD)  Category(OH)  MainCat(OH)  Country(OH)\n",
       "0     0.6377     0.6377        0.6714       0.6498       0.6377"
      ]
     },
     "execution_count": 14,
     "metadata": {},
     "output_type": "execute_result"
    }
   ],
   "source": [
    "data = {\"Goal(STD)\":[0.6377], \"Time(STD)\":[0.6377], \"Category(OH)\":[0.6714], \"MainCat(OH)\":[0.6498], \"Country(OH)\":[0.6377]}\n",
    "pd.DataFrame(data)"
   ]
  },
  {
   "cell_type": "markdown",
   "metadata": {},
   "source": [
    "This leads us to our first observation about logistic regression: generally speaking, adding more features means more accuracy. But, like all classification models, its complexity depends on the number of features. Past 100 features, the runtime becomes quite long.\n",
    "\n",
    "This brings us to believe that it is always better to combine several features (e.g. goal and category) in order to get better accuracy.\n",
    "\n",
    "Numerical values need to be normalized if one hopes to increase the model accuracy. Since min-max normalization led to convergence errors most of the time, the more successful tests always use standard scaling (even doubling the number of iterations did not help min-max's case)."
   ]
  },
  {
   "cell_type": "markdown",
   "metadata": {},
   "source": [
    "The table below shows how adding more features increases accuracy. However, it is worth noting that this increase is very small. Simply using the one-hot-encoded category gives an accuracy of 67.14%. Using all the other features alongside it only adds 1.58% accuracy."
   ]
  },
  {
   "cell_type": "code",
   "execution_count": 40,
   "metadata": {},
   "outputs": [
    {
     "data": {
      "text/html": [
       "<div>\n",
       "<style scoped>\n",
       "    .dataframe tbody tr th:only-of-type {\n",
       "        vertical-align: middle;\n",
       "    }\n",
       "\n",
       "    .dataframe tbody tr th {\n",
       "        vertical-align: top;\n",
       "    }\n",
       "\n",
       "    .dataframe thead th {\n",
       "        text-align: right;\n",
       "    }\n",
       "</style>\n",
       "<table border=\"1\" class=\"dataframe\">\n",
       "  <thead>\n",
       "    <tr style=\"text-align: right;\">\n",
       "      <th></th>\n",
       "      <th>goal</th>\n",
       "      <th>time</th>\n",
       "      <th>category</th>\n",
       "      <th>main_category</th>\n",
       "      <th>country</th>\n",
       "      <th>accuracy</th>\n",
       "    </tr>\n",
       "  </thead>\n",
       "  <tbody>\n",
       "    <tr>\n",
       "      <th>0</th>\n",
       "      <td>STD</td>\n",
       "      <td>STD</td>\n",
       "      <td>OH</td>\n",
       "      <td>OH</td>\n",
       "      <td>OH</td>\n",
       "      <td>0.687227</td>\n",
       "    </tr>\n",
       "    <tr>\n",
       "      <th>1</th>\n",
       "      <td>STD</td>\n",
       "      <td>STD</td>\n",
       "      <td>OH</td>\n",
       "      <td>OH</td>\n",
       "      <td>-</td>\n",
       "      <td>0.686632</td>\n",
       "    </tr>\n",
       "    <tr>\n",
       "      <th>2</th>\n",
       "      <td>STD</td>\n",
       "      <td>STD</td>\n",
       "      <td>OH</td>\n",
       "      <td>-</td>\n",
       "      <td>-</td>\n",
       "      <td>0.686214</td>\n",
       "    </tr>\n",
       "    <tr>\n",
       "      <th>4</th>\n",
       "      <td>STD</td>\n",
       "      <td>-</td>\n",
       "      <td>OH</td>\n",
       "      <td>-</td>\n",
       "      <td>-</td>\n",
       "      <td>0.680730</td>\n",
       "    </tr>\n",
       "  </tbody>\n",
       "</table>\n",
       "</div>"
      ],
      "text/plain": [
       "  goal time category main_category country  accuracy\n",
       "0  STD  STD       OH            OH      OH  0.687227\n",
       "1  STD  STD       OH            OH       -  0.686632\n",
       "2  STD  STD       OH             -       -  0.686214\n",
       "4  STD    -       OH             -       -  0.680730"
      ]
     },
     "execution_count": 40,
     "metadata": {},
     "output_type": "execute_result"
    }
   ],
   "source": [
    "results[\"LogisticRegression\"].loc[[0,1,2,4],:].fillna(\"-\")"
   ]
  },
  {
   "cell_type": "markdown",
   "metadata": {},
   "source": [
    "### B. k-NN<a name=\"knn\"></a>"
   ]
  },
  {
   "cell_type": "markdown",
   "metadata": {},
   "source": [
    "k-NN not supposed to work that well with categorical data, but here performs as well as the other models. Reason?\n",
    "\n",
    "We thought we might also give k-NN a try. However, k-NN is known to be more inefficient as the number of features increases. This means that what worked well for parametric algorithms like logistic regression and decision trees (namely, the one-hot-encoded versions of `category` and `main_category`) won't work well here.\n",
    "\n",
    "Instead, we use a label-encoded versions of categories, coupled with the numerical features `goal_real_usd` and `elapsed_time`, normalized by the standard deviation. This allows us to make the most use of our features without exploding the number of dimensions.\n",
    "\n",
    "using just numerical features leads to an accuracy of slightly above 65%. Not bad, but adding categorical features always adds more accuracy\n",
    "\n",
    "running on single dimensions: very slow. But with 3, faster? doesn't make sense\n",
    "At k=49:\n",
    "to-do: test the best results from k=29 (goal_std, time_std, cat_le)\n",
    "\n",
    "k=29 is already quite slow, even with not many features. From the graphs we can see that k=29 is already quite high in the curve. "
   ]
  },
  {
   "cell_type": "code",
   "execution_count": 8,
   "metadata": {},
   "outputs": [],
   "source": [
    "X_train, X_test, y_train, y_test = custom_split(data=df, predict=\"state\", rseed=RSEED,\n",
    "                                                scaling=\"minmax\", encoding=\"label\",\n",
    "                                                features=[\"goal\", \"time\", \"category\", \"main_category\"])\n",
    "\n",
    "scores = []\n",
    "k_lim = 100\n",
    "\n",
    "for k in range(1, k_lim, 2):\n",
    "    KNN = KNeighborsClassifier(n_neighbors=k)\n",
    "    KNN.fit(X_train, y_train)\n",
    "    score = KNN.score(X_test, y_test)\n",
    "    scores.append(score)"
   ]
  },
  {
   "cell_type": "code",
   "execution_count": 9,
   "metadata": {},
   "outputs": [
    {
     "data": {
      "text/plain": [
       "Text(0.5, 0, 'k')"
      ]
     },
     "execution_count": 9,
     "metadata": {},
     "output_type": "execute_result"
    },
    {
     "data": {
      "image/png": "[encoded data removed]",
      "text/plain": [
       "<Figure size 432x288 with 1 Axes>"
      ]
     },
     "metadata": {
      "needs_background": "light"
     },
     "output_type": "display_data"
    }
   ],
   "source": [
    "plt.plot(range(1, k_lim, 2), scores)\n",
    "plt.ylabel(\"Accuracy\", size=15)\n",
    "plt.xlabel(\"k\", size=15)"
   ]
  },
  {
   "cell_type": "code",
   "execution_count": 10,
   "metadata": {},
   "outputs": [
    {
     "name": "stdout",
     "output_type": "stream",
     "text": [
      "95 0.6931149046512884\n"
     ]
    }
   ],
   "source": [
    "i = np.argmax(scores)\n",
    "print(i*2+1, scores[i])"
   ]
  },
  {
   "cell_type": "markdown",
   "metadata": {},
   "source": [
    "### C. Decision tree and random forest<a name=\"dtrf\"></a>"
   ]
  },
  {
   "cell_type": "markdown",
   "metadata": {},
   "source": [
    "#### Decision tree"
   ]
  },
  {
   "cell_type": "markdown",
   "metadata": {},
   "source": [
    "The first thing that strikes out after running tests with different features is that `category` (with label or one-hot encoding) remains the most relevant feature to increase accuracy (about 2% better).\n",
    "\n",
    "Secondly, we noticed after fitting each single feature separately into a decision tree model is that not only is label encoding much faster than one-hot encoding (just 1 feature vs. many), but it provides similar accuracy. For this reason, most tests combining several features used label encoding. This is interesting because a decision tree might think there is an inherent hierarchy to the label-encoded category, even though that is not the case. It is also worth noting that, when using one-hot encoding, the line across the various levels of depth is more jagged, therefore suggesting that one-hot encoding's effectiveness is more subject to randomness. \n",
    "\n",
    "We also noticed that there is no significant difference in performance between the main criteria for picking attributes/thresholds, namely Gini and entropy (the latter seems slightly better).\n",
    "\n",
    "Generally speaking, adding more features to the decision tree gives more accuracy. Our best results were achieved by keeping all 5 features (with standard or min-max normalization, and label-encoding). That being said, simply combining the `usd_goal_real` (MM) feature with `category` (LE) gave us an accuracy rivaling with the best score. This is consistent with what was observed for logistic regression, thus further increasing our belief that the goal and the category have good synergy, and that increasing the number of features increases accuracy, although the marginal increase of each feature is quite small.\n",
    "\n",
    "Finally, as expected, normalizing the numerical data doesn't affect accuracy of the decision tree."
   ]
  },
  {
   "cell_type": "code",
   "execution_count": 34,
   "metadata": {},
   "outputs": [],
   "source": [
    "X_train, X_test, y_train, y_test = custom_split(data=df, predict=\"state\", rseed=RSEED,\n",
    "                                                scaling=\"std\", encoding=\"label\",\n",
    "                                                features=[\"goal\", \"time\", \"category\", \"main_category\", \"country\"])\n",
    "\n",
    "scores = []\n",
    "\n",
    "for d in range(1, 20):\n",
    "    DT = DecisionTreeClassifier(criterion=\"entropy\", max_depth=d, random_state=RSEED)\n",
    "    DT.fit(X_train, y_train)\n",
    "    scores.append(DT.score(X_test, y_test))"
   ]
  },
  {
   "cell_type": "code",
   "execution_count": 24,
   "metadata": {},
   "outputs": [
    {
     "data": {
      "text/plain": [
       "Text(0.5, 0, 'depth')"
      ]
     },
     "execution_count": 24,
     "metadata": {},
     "output_type": "execute_result"
    },
    {
     "data": {
      "image/png": "[encoded data removed]",
      "text/plain": [
       "<Figure size 432x288 with 1 Axes>"
      ]
     },
     "metadata": {
      "needs_background": "light"
     },
     "output_type": "display_data"
    }
   ],
   "source": [
    "plt.plot(scores)\n",
    "plt.ylabel('accuracy', fontsize=14)\n",
    "plt.xlabel('depth', fontsize=14)"
   ]
  },
  {
   "cell_type": "code",
   "execution_count": 25,
   "metadata": {},
   "outputs": [
    {
     "name": "stdout",
     "output_type": "stream",
     "text": [
      "12 0.6883204581059911\n"
     ]
    }
   ],
   "source": [
    "i = np.argmax(scores)\n",
    "print(i+1, scores[i])"
   ]
  },
  {
   "cell_type": "code",
   "execution_count": 26,
   "metadata": {},
   "outputs": [
    {
     "data": {
      "text/plain": [
       "[(0, 0.30997295627605603),\n",
       " (0, 0.4035138199256794),\n",
       " ('category', 0.15833297031875862),\n",
       " ('main_category', 0.0845817297310279),\n",
       " ('country', 0.043598523748477946)]"
      ]
     },
     "execution_count": 26,
     "metadata": {},
     "output_type": "execute_result"
    }
   ],
   "source": [
    "list(zip(X_train.columns, DT.feature_importances_))"
   ]
  },
  {
   "cell_type": "code",
   "execution_count": 36,
   "metadata": {},
   "outputs": [
    {
     "data": {
      "text/plain": [
       "{'0': {'precision': 0.718148557490758,\n",
       "  'recall': 0.7981490109703926,\n",
       "  'f1-score': 0.7560383566040764,\n",
       "  'support': 47218},\n",
       " '1': {'precision': 0.5580543448020031,\n",
       "  'recall': 0.4486319242525908,\n",
       "  'f1-score': 0.49739626384526364,\n",
       "  'support': 26826},\n",
       " 'accuracy': 0.6715196369726109,\n",
       " 'macro avg': {'precision': 0.6381014511463805,\n",
       "  'recall': 0.6233904676114916,\n",
       "  'f1-score': 0.62671731022467,\n",
       "  'support': 74044},\n",
       " 'weighted avg': {'precision': 0.6601467295291603,\n",
       "  'recall': 0.6715196369726109,\n",
       "  'f1-score': 0.6623328196213646,\n",
       "  'support': 74044}}"
      ]
     },
     "execution_count": 36,
     "metadata": {},
     "output_type": "execute_result"
    }
   ],
   "source": [
    "classification_report(y_test, DT.predict(X_test), output_dict=True)"
   ]
  },
  {
   "cell_type": "markdown",
   "metadata": {},
   "source": [
    "#### Random forest"
   ]
  },
  {
   "cell_type": "markdown",
   "metadata": {},
   "source": [
    "Random forests being quite intense in terms of computation, we didn't run all the tests done with decision trees (especially not the ones with one-hot encoding!). "
   ]
  },
  {
   "cell_type": "code",
   "execution_count": 15,
   "metadata": {},
   "outputs": [],
   "source": [
    "X_train, X_test, y_train, y_test = custom_split(data=df, predict=\"state\", rseed=RSEED,\n",
    "                                                scaling=\"std\", encoding=\"label\",\n",
    "                                                features=[\"goal\", \"time\", \"category\", \"main_category\", \"country\"])\n",
    "\n",
    "scores = []\n",
    "\n",
    "for d in range(1,20):\n",
    "    RF = RandomForestClassifier(criterion=\"entropy\", n_estimators=100, max_depth=d, random_state=RSEED)\n",
    "    RF.fit(X_train, y_train)\n",
    "    scores.append(RF.score(X_test, y_test))"
   ]
  },
  {
   "cell_type": "code",
   "execution_count": 19,
   "metadata": {},
   "outputs": [
    {
     "data": {
      "text/plain": [
       "Text(0.5, 0, 'depth')"
      ]
     },
     "execution_count": 19,
     "metadata": {},
     "output_type": "execute_result"
    },
    {
     "data": {
      "image/png": "[encoded data removed]",
      "text/plain": [
       "<Figure size 432x288 with 1 Axes>"
      ]
     },
     "metadata": {
      "needs_background": "light"
     },
     "output_type": "display_data"
    }
   ],
   "source": [
    "plt.plot(scores)\n",
    "plt.ylabel('accuracy', fontsize=14)\n",
    "plt.xlabel('depth', fontsize=14)"
   ]
  },
  {
   "cell_type": "code",
   "execution_count": 20,
   "metadata": {},
   "outputs": [
    {
     "name": "stdout",
     "output_type": "stream",
     "text": [
      "17 0.6998946572308358\n"
     ]
    }
   ],
   "source": [
    "i = np.argmax(scores)\n",
    "print(i+1, scores[i])"
   ]
  },
  {
   "cell_type": "code",
   "execution_count": 21,
   "metadata": {},
   "outputs": [
    {
     "data": {
      "text/plain": [
       "[(0, 0.3183981709042826),\n",
       " (0, 0.3695623684755034),\n",
       " ('category', 0.16711572096760108),\n",
       " ('main_category', 0.09300941840496395),\n",
       " ('country', 0.05191432124764913)]"
      ]
     },
     "execution_count": 21,
     "metadata": {},
     "output_type": "execute_result"
    }
   ],
   "source": [
    "list(zip(X_train.columns, RF.feature_importances_))"
   ]
  },
  {
   "cell_type": "markdown",
   "metadata": {},
   "source": [
    "### D. Neural network<a name=\"nn\"></a>"
   ]
  },
  {
   "cell_type": "markdown",
   "metadata": {},
   "source": [
    "Highest: 67.12% with cat and maincat\n",
    "adding country: 66.67\n",
    "\n",
    "with numerical values it stays low.\n",
    "\n",
    "all features: 67"
   ]
  },
  {
   "cell_type": "code",
   "execution_count": 28,
   "metadata": {},
   "outputs": [
    {
     "name": "stdout",
     "output_type": "stream",
     "text": [
      "Model: \"sequential_2\"\n",
      "_________________________________________________________________\n",
      "Layer (type)                 Output Shape              Param #   \n",
      "=================================================================\n",
      "dense_1 (Dense)              (None, 512)               101888    \n",
      "_________________________________________________________________\n",
      "activation_1 (Activation)    (None, 512)               0         \n",
      "_________________________________________________________________\n",
      "dropout_1 (Dropout)          (None, 512)               0         \n",
      "_________________________________________________________________\n",
      "dense_2 (Dense)              (None, 2)                 1026      \n",
      "_________________________________________________________________\n",
      "activation_2 (Activation)    (None, 2)                 0         \n",
      "=================================================================\n",
      "Total params: 102,914\n",
      "Trainable params: 102,914\n",
      "Non-trainable params: 0\n",
      "_________________________________________________________________\n"
     ]
    }
   ],
   "source": [
    "X_train, X_test, y_train, y_test = custom_split(data=df, predict=\"state\", rseed=RSEED,\n",
    "                                                scaling=\"std\", encoding=\"onehot\",\n",
    "                                                features=[\"goal\", \"time\", \"category\", \"main_category\", \"country\"])\n",
    "\n",
    "Y_train = np_utils.to_categorical(y_train, 2)\n",
    "Y_test = np_utils.to_categorical(y_test, 2)\n",
    "\n",
    "NN = Sequential()\n",
    "NN.add(Dense(512, input_shape=(X_train.shape[1],)))\n",
    "NN.add(Activation(\"relu\"))\n",
    "NN.add(Dropout(0.2))\n",
    "NN.add(Dense(2))\n",
    "NN.add(Activation(\"softmax\"))\n",
    "\n",
    "optimizer = optimizers.SGD(lr=0.0001, decay=1e-6, momentum=0.9, nesterov=True)\n",
    "NN.compile(loss=\"categorical_crossentropy\", optimizer=optimizer, metrics=[\"accuracy\"])\n",
    "\n",
    "NN.summary()"
   ]
  },
  {
   "cell_type": "code",
   "execution_count": 29,
   "metadata": {
    "collapsed": true
   },
   "outputs": [
    {
     "name": "stdout",
     "output_type": "stream",
     "text": [
      "WARNING:tensorflow:From C:\\ProgramData\\Anaconda3\\lib\\site-packages\\keras\\backend\\tensorflow_backend.py:422: The name tf.global_variables is deprecated. Please use tf.compat.v1.global_variables instead.\n",
      "\n",
      "Train on 236940 samples, validate on 59235 samples\n",
      "Epoch 1/30\n",
      "236940/236940 [==============================] - 15s 65us/step - loss: 0.6588 - accuracy: 0.6232 - val_loss: 0.6443 - val_accuracy: 0.6405\n",
      "Epoch 2/30\n",
      "236940/236940 [==============================] - 15s 64us/step - loss: 0.6430 - accuracy: 0.6354 - val_loss: 0.6348 - val_accuracy: 0.6405\n",
      "Epoch 3/30\n",
      "236940/236940 [==============================] - 15s 63us/step - loss: 0.6350 - accuracy: 0.6375 - val_loss: 0.6281 - val_accuracy: 0.6442\n",
      "Epoch 4/30\n",
      "236940/236940 [==============================] - 15s 64us/step - loss: 0.6293 - accuracy: 0.6429 - val_loss: 0.6229 - val_accuracy: 0.6496\n",
      "Epoch 5/30\n",
      "236940/236940 [==============================] - 15s 62us/step - loss: 0.6249 - accuracy: 0.6508 - val_loss: 0.6188 - val_accuracy: 0.6596\n",
      "Epoch 6/30\n",
      "236940/236940 [==============================] - 15s 62us/step - loss: 0.6214 - accuracy: 0.6573 - val_loss: 0.6156 - val_accuracy: 0.6658\n",
      "Epoch 7/30\n",
      "236940/236940 [==============================] - 15s 63us/step - loss: 0.6189 - accuracy: 0.6620 - val_loss: 0.6130 - val_accuracy: 0.6704\n",
      "Epoch 8/30\n",
      "236940/236940 [==============================] - 15s 65us/step - loss: 0.6165 - accuracy: 0.6653 - val_loss: 0.6109 - val_accuracy: 0.6715\n",
      "Epoch 9/30\n",
      "236940/236940 [==============================] - 15s 65us/step - loss: 0.6147 - accuracy: 0.6671 - val_loss: 0.6092 - val_accuracy: 0.6743\n",
      "Epoch 10/30\n",
      "236940/236940 [==============================] - 15s 64us/step - loss: 0.6132 - accuracy: 0.6693 - val_loss: 0.6078 - val_accuracy: 0.6760\n",
      "Epoch 11/30\n",
      "236940/236940 [==============================] - 15s 64us/step - loss: 0.6121 - accuracy: 0.6698 - val_loss: 0.6065 - val_accuracy: 0.6772\n",
      "Epoch 12/30\n",
      "236940/236940 [==============================] - 15s 64us/step - loss: 0.6109 - accuracy: 0.6708 - val_loss: 0.6055 - val_accuracy: 0.6779\n",
      "Epoch 13/30\n",
      "236940/236940 [==============================] - 15s 63us/step - loss: 0.6099 - accuracy: 0.6716 - val_loss: 0.6046 - val_accuracy: 0.6780\n",
      "Epoch 14/30\n",
      "236940/236940 [==============================] - 15s 65us/step - loss: 0.6090 - accuracy: 0.6728 - val_loss: 0.6038 - val_accuracy: 0.6789\n",
      "Epoch 15/30\n",
      "236940/236940 [==============================] - 15s 64us/step - loss: 0.6085 - accuracy: 0.6727 - val_loss: 0.6031 - val_accuracy: 0.6786\n",
      "Epoch 16/30\n",
      "236940/236940 [==============================] - 15s 63us/step - loss: 0.6078 - accuracy: 0.6725 - val_loss: 0.6025 - val_accuracy: 0.6793\n",
      "Epoch 17/30\n",
      "236940/236940 [==============================] - 15s 64us/step - loss: 0.6071 - accuracy: 0.6734 - val_loss: 0.6020 - val_accuracy: 0.6794\n",
      "Epoch 18/30\n",
      "236940/236940 [==============================] - 15s 65us/step - loss: 0.6068 - accuracy: 0.6733 - val_loss: 0.6015 - val_accuracy: 0.6797\n",
      "Epoch 19/30\n",
      "236940/236940 [==============================] - 15s 64us/step - loss: 0.6061 - accuracy: 0.6736 - val_loss: 0.6010 - val_accuracy: 0.6795\n",
      "Epoch 20/30\n",
      "236940/236940 [==============================] - 15s 64us/step - loss: 0.6057 - accuracy: 0.6736 - val_loss: 0.6006 - val_accuracy: 0.6797\n",
      "Epoch 21/30\n",
      "236940/236940 [==============================] - 15s 63us/step - loss: 0.6055 - accuracy: 0.6737 - val_loss: 0.6002 - val_accuracy: 0.6798\n",
      "Epoch 22/30\n",
      "236940/236940 [==============================] - 15s 63us/step - loss: 0.6051 - accuracy: 0.6739 - val_loss: 0.5998 - val_accuracy: 0.6797\n",
      "Epoch 23/30\n",
      "236940/236940 [==============================] - 15s 64us/step - loss: 0.6046 - accuracy: 0.6743 - val_loss: 0.5994 - val_accuracy: 0.6798\n",
      "Epoch 24/30\n",
      "236940/236940 [==============================] - 15s 64us/step - loss: 0.6044 - accuracy: 0.6746 - val_loss: 0.5992 - val_accuracy: 0.6800\n",
      "Epoch 25/30\n",
      "236940/236940 [==============================] - 15s 63us/step - loss: 0.6041 - accuracy: 0.6740 - val_loss: 0.5988 - val_accuracy: 0.6801\n",
      "Epoch 26/30\n",
      "236940/236940 [==============================] - 15s 64us/step - loss: 0.6039 - accuracy: 0.6746 - val_loss: 0.5985 - val_accuracy: 0.6800\n",
      "Epoch 27/30\n",
      "236940/236940 [==============================] - 15s 62us/step - loss: 0.6035 - accuracy: 0.6744 - val_loss: 0.5982 - val_accuracy: 0.6801\n",
      "Epoch 28/30\n",
      "236940/236940 [==============================] - 15s 63us/step - loss: 0.6032 - accuracy: 0.6747 - val_loss: 0.5981 - val_accuracy: 0.6802\n",
      "Epoch 29/30\n",
      "236940/236940 [==============================] - 15s 64us/step - loss: 0.6028 - accuracy: 0.6750 - val_loss: 0.5978 - val_accuracy: 0.6803\n",
      "Epoch 30/30\n",
      "236940/236940 [==============================] - 15s 64us/step - loss: 0.6027 - accuracy: 0.6745 - val_loss: 0.5975 - val_accuracy: 0.6803\n"
     ]
    }
   ],
   "source": [
    "model_hist = NN.fit(X_train, Y_train, batch_size=64, epochs=30, verbose=1, validation_split=0.2)"
   ]
  },
  {
   "cell_type": "markdown",
   "metadata": {},
   "source": [
    "### E. Linear regression<a name=\"linr\"></a>"
   ]
  },
  {
   "cell_type": "code",
   "execution_count": null,
   "metadata": {},
   "outputs": [],
   "source": []
  },
  {
   "cell_type": "markdown",
   "metadata": {},
   "source": [
    "## 4. Conclusion<a name=\"conclusion\"></a>"
   ]
  },
  {
   "cell_type": "markdown",
   "metadata": {},
   "source": [
    "\n",
    "Sadly, our dataset did not contain the project _descriptions_. Had it been the case, it would have been interesting to do some text analysis on them to predict success or failure. Indeed, we believe that, besides the video, the project description is a very important aspect of a Kickstarter project in terms of marketing, and it can have a far greater impact on the amount of money raised than, say, the category or the country.\n",
    "\n",
    "In this sense, the categories we were working with were not very interesting, and it is not surprising to see that they did not significantly contribute to model accuracy, save for the specific category, perhaps."
   ]
  },
  {
   "cell_type": "code",
   "execution_count": null,
   "metadata": {},
   "outputs": [],
   "source": []
  }
 ],
 "metadata": {
  "kernelspec": {
   "display_name": "Python 3",
   "language": "python",
   "name": "python3"
  },
  "language_info": {
   "codemirror_mode": {
    "name": "ipython",
    "version": 3
   },
   "file_extension": ".py",
   "mimetype": "text/x-python",
   "name": "python",
   "nbconvert_exporter": "python",
   "pygments_lexer": "ipython3",
   "version": "3.7.3"
  }
 },
 "nbformat": 4,
 "nbformat_minor": 2
}
