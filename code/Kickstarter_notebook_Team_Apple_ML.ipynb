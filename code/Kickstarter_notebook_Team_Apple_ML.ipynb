{
 "cells": [
  {
   "cell_type": "markdown",
   "metadata": {},
   "source": [
    "# Gathering Insight from Kickstarter Data: Machine Learning\n",
    "\n",
    "_A project by Team Apple (Data Mining & Machine Learning, HEC Lausanne, Fall 2019)_"
   ]
  },
  {
   "cell_type": "markdown",
   "metadata": {},
   "source": [
    "**Contents**\n",
    "\n",
    "1. [Imports & installations](#imports)\n",
    "2. [Machine learning models](#ml)\n",
    "    1. [Logistic regression](#logr)\n",
    "    2. [k-nearest neighbors](#knn)\n",
    "    3. [Decision tree & random forest](#dtrf)\n",
    "    4. [Neural network](#nn)\n",
    "    5. [Linear regression](#linr)\n",
    "3. [Conclusion](#conclusion)"
   ]
  },
  {
   "cell_type": "markdown",
   "metadata": {},
   "source": [
    "## 1. Imports & installations<a name=\"imports\"></a>"
   ]
  },
  {
   "cell_type": "code",
   "execution_count": 1,
   "metadata": {
    "collapsed": true
   },
   "outputs": [
    {
     "name": "stdout",
     "output_type": "stream",
     "text": [
      "Requirement already satisfied: keras in c:\\programdata\\anaconda3\\lib\\site-packages (2.3.1)\n",
      "Requirement already satisfied: numpy>=1.9.1 in c:\\programdata\\anaconda3\\lib\\site-packages (from keras) (1.16.4)\n",
      "Requirement already satisfied: scipy>=0.14 in c:\\programdata\\anaconda3\\lib\\site-packages (from keras) (1.2.1)\n",
      "Requirement already satisfied: six>=1.9.0 in c:\\programdata\\anaconda3\\lib\\site-packages (from keras) (1.12.0)\n",
      "Requirement already satisfied: pyyaml in c:\\programdata\\anaconda3\\lib\\site-packages (from keras) (5.1.1)\n",
      "Requirement already satisfied: h5py in c:\\programdata\\anaconda3\\lib\\site-packages (from keras) (2.9.0)\n",
      "Requirement already satisfied: keras-applications>=1.0.6 in c:\\programdata\\anaconda3\\lib\\site-packages (from keras) (1.0.8)\n",
      "Requirement already satisfied: keras-preprocessing>=1.0.5 in c:\\programdata\\anaconda3\\lib\\site-packages (from keras) (1.1.0)\n"
     ]
    }
   ],
   "source": [
    "!pip install keras"
   ]
  },
  {
   "cell_type": "code",
   "execution_count": 2,
   "metadata": {
    "collapsed": true
   },
   "outputs": [
    {
     "name": "stdout",
     "output_type": "stream",
     "text": [
      "Requirement already up-to-date: tensorflow==1.14.0 in c:\\programdata\\anaconda3\\lib\\site-packages (1.14.0)\n",
      "Requirement already satisfied, skipping upgrade: grpcio>=1.8.6 in c:\\programdata\\anaconda3\\lib\\site-packages (from tensorflow==1.14.0) (1.25.0)\n",
      "Requirement already satisfied, skipping upgrade: wheel>=0.26 in c:\\programdata\\anaconda3\\lib\\site-packages (from tensorflow==1.14.0) (0.33.4)\n",
      "Requirement already satisfied, skipping upgrade: astor>=0.6.0 in c:\\programdata\\anaconda3\\lib\\site-packages (from tensorflow==1.14.0) (0.8.0)\n",
      "Requirement already satisfied, skipping upgrade: numpy<2.0,>=1.14.5 in c:\\programdata\\anaconda3\\lib\\site-packages (from tensorflow==1.14.0) (1.16.4)\n",
      "Requirement already satisfied, skipping upgrade: absl-py>=0.7.0 in c:\\programdata\\anaconda3\\lib\\site-packages (from tensorflow==1.14.0) (0.8.1)\n",
      "Requirement already satisfied, skipping upgrade: keras-preprocessing>=1.0.5 in c:\\programdata\\anaconda3\\lib\\site-packages (from tensorflow==1.14.0) (1.1.0)\n",
      "Requirement already satisfied, skipping upgrade: termcolor>=1.1.0 in c:\\programdata\\anaconda3\\lib\\site-packages (from tensorflow==1.14.0) (1.1.0)\n",
      "Requirement already satisfied, skipping upgrade: keras-applications>=1.0.6 in c:\\programdata\\anaconda3\\lib\\site-packages (from tensorflow==1.14.0) (1.0.8)\n",
      "Requirement already satisfied, skipping upgrade: tensorboard<1.15.0,>=1.14.0 in c:\\programdata\\anaconda3\\lib\\site-packages (from tensorflow==1.14.0) (1.14.0)\n",
      "Requirement already satisfied, skipping upgrade: wrapt>=1.11.1 in c:\\programdata\\anaconda3\\lib\\site-packages (from tensorflow==1.14.0) (1.11.2)\n",
      "Requirement already satisfied, skipping upgrade: protobuf>=3.6.1 in c:\\programdata\\anaconda3\\lib\\site-packages (from tensorflow==1.14.0) (3.11.1)\n",
      "Requirement already satisfied, skipping upgrade: google-pasta>=0.1.6 in c:\\programdata\\anaconda3\\lib\\site-packages (from tensorflow==1.14.0) (0.1.8)\n",
      "Requirement already satisfied, skipping upgrade: gast>=0.2.0 in c:\\programdata\\anaconda3\\lib\\site-packages (from tensorflow==1.14.0) (0.3.2)\n",
      "Requirement already satisfied, skipping upgrade: six>=1.10.0 in c:\\programdata\\anaconda3\\lib\\site-packages (from tensorflow==1.14.0) (1.12.0)\n",
      "Requirement already satisfied, skipping upgrade: tensorflow-estimator<1.15.0rc0,>=1.14.0rc0 in c:\\programdata\\anaconda3\\lib\\site-packages (from tensorflow==1.14.0) (1.14.0)\n",
      "Requirement already satisfied, skipping upgrade: h5py in c:\\programdata\\anaconda3\\lib\\site-packages (from keras-applications>=1.0.6->tensorflow==1.14.0) (2.9.0)\n",
      "Requirement already satisfied, skipping upgrade: setuptools>=41.0.0 in c:\\programdata\\anaconda3\\lib\\site-packages (from tensorboard<1.15.0,>=1.14.0->tensorflow==1.14.0) (41.0.1)\n",
      "Requirement already satisfied, skipping upgrade: markdown>=2.6.8 in c:\\programdata\\anaconda3\\lib\\site-packages (from tensorboard<1.15.0,>=1.14.0->tensorflow==1.14.0) (3.1.1)\n",
      "Requirement already satisfied, skipping upgrade: werkzeug>=0.11.15 in c:\\programdata\\anaconda3\\lib\\site-packages (from tensorboard<1.15.0,>=1.14.0->tensorflow==1.14.0) (0.15.4)\n"
     ]
    }
   ],
   "source": [
    "!pip install --upgrade tensorflow==1.14.0"
   ]
  },
  {
   "cell_type": "code",
   "execution_count": 1,
   "metadata": {},
   "outputs": [
    {
     "name": "stderr",
     "output_type": "stream",
     "text": [
      "Using TensorFlow backend.\n"
     ]
    }
   ],
   "source": [
    "# loading the cleaned dataset\n",
    "from cleaning import df\n",
    "\n",
    "import numpy as np\n",
    "import pandas as pd\n",
    "import seaborn as sns\n",
    "\n",
    "import matplotlib.pyplot as plt\n",
    "\n",
    "from sklearn.preprocessing import OneHotEncoder\n",
    "from sklearn.preprocessing import LabelEncoder\n",
    "from sklearn.preprocessing import MinMaxScaler\n",
    "from sklearn.preprocessing import StandardScaler\n",
    "from sklearn.linear_model import LogisticRegressionCV\n",
    "from sklearn.tree import DecisionTreeClassifier\n",
    "from sklearn.ensemble import RandomForestClassifier\n",
    "from sklearn.neighbors import KNeighborsClassifier\n",
    "from sklearn.model_selection import train_test_split\n",
    "from sklearn.metrics import classification_report\n",
    "\n",
    "from keras import optimizers\n",
    "from keras.utils import np_utils\n",
    "from keras.models import Sequential\n",
    "from keras.layers.core import Dense, Dropout, Activation"
   ]
  },
  {
   "cell_type": "markdown",
   "metadata": {},
   "source": [
    "## 2. Machine learning models<a name=\"ml\"></a>"
   ]
  },
  {
   "cell_type": "markdown",
   "metadata": {},
   "source": [
    "### Quick reminder\n",
    "\n",
    "* We are trying to find out which **machine learning model** (if any at all), and which **features**, can most accurately predict the success or failure of a project.\n",
    "* The predicted classes are either **1** (= successful) or **0** (= failed).\n",
    "* The base rate of the majority class (failed) is **63.66%**.\n",
    "\n",
    "We thought it would be interesting to try all the classification models seen during the course (in the same order) and pit them against each other to see which one would perform best with our dataset.\n",
    "\n",
    "Of all available features, only the following were considered:\n",
    "\n",
    "* `usd_goal_real`: the goal set by the project creator (in USD)\n",
    "* `elapsed_time`: the time that passed between the launch date and the deadline \n",
    "* `category`: the specific category chosen for the project\n",
    "* `main_category`: the main category chosen for the project\n",
    "* `country`: where the project originates from\n",
    "\n",
    "The reason for this is that the project creator has some level of control over them. Other features, such as `backers` or `usd_pledged_real` are rather an indicator whether a project is successful\n",
    "The same methodology was applied for each model:\n",
    "1. Test e\n",
    "\n",
    "\n",
    " for each model, always try to explore each feature on its own to see how well it's doing"
   ]
  },
  {
   "cell_type": "markdown",
   "metadata": {},
   "source": [
    "Numeric features are normalized between 0 and 1 in order to have a better basis for comparison."
   ]
  },
  {
   "cell_type": "code",
   "execution_count": 2,
   "metadata": {},
   "outputs": [],
   "source": [
    "mm = MinMaxScaler()\n",
    "std = StandardScaler()\n",
    "\n",
    "goal_mm = pd.DataFrame(mm.fit_transform(df[\"usd_goal_real\"].to_numpy().reshape(-1, 1)))\n",
    "goal_std = pd.DataFrame(std.fit_transform(df[\"usd_goal_real\"].to_numpy().reshape(-1, 1)))\n",
    "time_mm = pd.DataFrame(mm.fit_transform(pd.to_numeric(df[\"elapsed_time\"]).to_numpy().reshape(-1, 1)))\n",
    "time_std = pd.DataFrame(std.fit_transform(pd.to_numeric(df[\"elapsed_time\"]).to_numpy().reshape(-1, 1)))"
   ]
  },
  {
   "cell_type": "markdown",
   "metadata": {},
   "source": [
    "We are setting the random state to an arbitrarily chosen number to enable comparison between models and their parameters."
   ]
  },
  {
   "cell_type": "code",
   "execution_count": 3,
   "metadata": {},
   "outputs": [
    {
     "data": {
      "text/html": [
       "<div>\n",
       "<style scoped>\n",
       "    .dataframe tbody tr th:only-of-type {\n",
       "        vertical-align: middle;\n",
       "    }\n",
       "\n",
       "    .dataframe tbody tr th {\n",
       "        vertical-align: top;\n",
       "    }\n",
       "\n",
       "    .dataframe thead th {\n",
       "        text-align: right;\n",
       "    }\n",
       "</style>\n",
       "<table border=\"1\" class=\"dataframe\">\n",
       "  <thead>\n",
       "    <tr style=\"text-align: right;\">\n",
       "      <th></th>\n",
       "      <th>0</th>\n",
       "      <th>0</th>\n",
       "      <th>category</th>\n",
       "      <th>main_category</th>\n",
       "    </tr>\n",
       "  </thead>\n",
       "  <tbody>\n",
       "    <tr>\n",
       "      <th>235186</th>\n",
       "      <td>0.000071</td>\n",
       "      <td>0.003962</td>\n",
       "      <td>8</td>\n",
       "      <td>13</td>\n",
       "    </tr>\n",
       "    <tr>\n",
       "      <th>109545</th>\n",
       "      <td>0.000004</td>\n",
       "      <td>0.001955</td>\n",
       "      <td>69</td>\n",
       "      <td>6</td>\n",
       "    </tr>\n",
       "    <tr>\n",
       "      <th>224633</th>\n",
       "      <td>0.000902</td>\n",
       "      <td>0.002017</td>\n",
       "      <td>136</td>\n",
       "      <td>8</td>\n",
       "    </tr>\n",
       "    <tr>\n",
       "      <th>124354</th>\n",
       "      <td>0.000021</td>\n",
       "      <td>0.001349</td>\n",
       "      <td>52</td>\n",
       "      <td>5</td>\n",
       "    </tr>\n",
       "    <tr>\n",
       "      <th>351930</th>\n",
       "      <td>0.000006</td>\n",
       "      <td>0.003969</td>\n",
       "      <td>106</td>\n",
       "      <td>8</td>\n",
       "    </tr>\n",
       "  </tbody>\n",
       "</table>\n",
       "</div>"
      ],
      "text/plain": [
       "               0         0  category  main_category\n",
       "235186  0.000071  0.003962         8             13\n",
       "109545  0.000004  0.001955        69              6\n",
       "224633  0.000902  0.002017       136              8\n",
       "124354  0.000021  0.001349        52              5\n",
       "351930  0.000006  0.003969       106              8"
      ]
     },
     "execution_count": 3,
     "metadata": {},
     "output_type": "execute_result"
    }
   ],
   "source": [
    "RSEED = 42\n",
    "\n",
    "X = pd.DataFrame()\n",
    "#X = df[[\"usd_goal_real\"]]\n",
    "#X = pd.concat((X, df[[\"usd_goal_real\"]], pd.to_numeric(df[\"elapsed_time\"])), axis=1)\n",
    "X = pd.concat((X, goal_mm, time_mm), axis=1)\n",
    "y = df[\"state\"]\n",
    "\n",
    "\n",
    "\n",
    "le = LabelEncoder()\n",
    "for col in [\"category\", \"main_category\"]:\n",
    "    encoded = pd.DataFrame(le.fit_transform(df[col]), columns=[col])\n",
    "    X = pd.concat((X, encoded), axis=1)\n",
    "\"\"\"\n",
    "\n",
    "one_hot = OneHotEncoder()\n",
    "cat_to_onehot = pd.DataFrame(one_hot.fit_transform(df[[\"main_category\"]]).toarray())\n",
    "X = pd.concat((X, cat_to_onehot), axis=1)\n",
    "\n",
    "\n",
    "\"\"\"\n",
    "\n",
    "X_train, X_test, y_train, y_test = train_test_split(X, y, test_size=0.2, random_state=RSEED)\n",
    "X_train.head()"
   ]
  },
  {
   "cell_type": "markdown",
   "metadata": {},
   "source": [
    "### A. Logistic regression<a name=\"logr\"></a>"
   ]
  },
  {
   "cell_type": "markdown",
   "metadata": {},
   "source": [
    "Before even settling on a set of features that we deemed viable and logical to give as input to our models, the first thing we did was to run logistic regression on the goal and the amount of money pledged to see how accurate they were at predicting the success or failure of a project. If the dataset is coherent, this number should be very close to 100% and indeed, we reached near-perfection."
   ]
  },
  {
   "cell_type": "markdown",
   "metadata": {},
   "source": [
    "Moving beyond the obvious, we started including other features such as the category and the country. We did not include the amount pledged as a feature, since this is not a variable that the project creator has direct control over.\n",
    "\n",
    "Since they are categorical data, we need to use either label encoding (LE) or one-hot encoding (OH) so that the regression model can work with it."
   ]
  },
  {
   "cell_type": "markdown",
   "metadata": {},
   "source": [
    "withh mm, convergence errors\n",
    "\n",
    "we first started to look at the classification report for recall and precision, but noticed that generally speaking, as accuracy increases, so does precision/recall. For log regression, the recall is pretty good for \"failed\" (around 86%), but pretty bad for successful (around 38%).\n",
    "\n",
    "first use LR (first method seen in class) to explore how different features affect accuracy.\n",
    "\n",
    "After having played with the different features and training/testing multiple times, it turns out the specific category is the one that brings the highest marginal increase in accuracy. (but since lot of values, slow runtime --> possible to pick only maincat, but not as good accuracy) We also find that OH performs much better than LE.\n",
    "\n",
    "It turns out simply picking the cat-main cat pair is what's more relevant to increase accuracy.\n",
    "\n",
    "one must normalize time to increase accuracy\n",
    "\n",
    "not only do goal and time not bring more accuracy (more or less = to base rate, they actually decrease it when used with more relevant features.\n",
    "\n",
    "decide do keep only category and main category, which seem to work well together. Adding country gives similar scores, so no need to include it (to speed up runtime).\n"
   ]
  },
  {
   "cell_type": "code",
   "execution_count": 119,
   "metadata": {},
   "outputs": [
    {
     "data": {
      "text/plain": [
       "0.6433607044460051"
      ]
     },
     "execution_count": 119,
     "metadata": {},
     "output_type": "execute_result"
    }
   ],
   "source": [
    "LR = LogisticRegressionCV(solver=\"lbfgs\", cv=5, max_iter=1000, random_state=RSEED)\n",
    "LR.fit(X_train, y_train)\n",
    "LR.score(X_test, y_test)"
   ]
  },
  {
   "cell_type": "code",
   "execution_count": null,
   "metadata": {},
   "outputs": [],
   "source": [
    "# classification_report(y_test, LR.predict(X_test), output_dict=True)"
   ]
  },
  {
   "cell_type": "markdown",
   "metadata": {},
   "source": [
    "### B. k-NN<a name=\"knn\"></a>"
   ]
  },
  {
   "cell_type": "markdown",
   "metadata": {},
   "source": [
    "k-NN not supposed to work that well with categorical data, but here performs as well as the other models. Reason?\n",
    "\n",
    "We thought we might also give k-NN a try. However, k-NN is known to be more inefficient as the number of features increases. This means that what worked well for parametric algorithms like logistic regression and decision trees (namely, the one-hot-encoded versions of `category` and `main_category`) won't work well here.\n",
    "\n",
    "Instead, we use a label-encoded versions of categories, coupled with the numerical features `goal_real_usd` and `elapsed_time`, normalized by the standard deviation. This allows us to make the most use of our features without exploding the number of dimensions.\n",
    "\n",
    "using just numerical features leads to an accuracy of slightly above 65%. Not bad, but adding categorical features always adds more accuracy\n",
    "\n",
    "running on single dimensions: very slow. But with 3, faster? doesn't make sense\n",
    "At k=49:\n",
    "to-do: test the best results from k=29 (goal_std, time_std, cat_le)\n",
    "\n",
    "k=29 is already quite slow, even with not many features. From the graphs we can see that k=29 is already quite high in the curve. \n",
    "\n",
    "TODO: retry with k 100"
   ]
  },
  {
   "cell_type": "code",
   "execution_count": 4,
   "metadata": {},
   "outputs": [
    {
     "name": "stdout",
     "output_type": "stream",
     "text": [
      "1\n",
      "3\n",
      "5\n",
      "7\n",
      "9\n",
      "11\n",
      "13\n",
      "15\n",
      "17\n",
      "19\n",
      "21\n",
      "23\n",
      "25\n",
      "27\n",
      "29\n",
      "31\n",
      "33\n",
      "35\n",
      "37\n",
      "39\n",
      "41\n",
      "43\n",
      "45\n",
      "47\n",
      "49\n",
      "51\n",
      "53\n",
      "55\n",
      "57\n",
      "59\n",
      "61\n",
      "63\n",
      "65\n",
      "67\n",
      "69\n",
      "71\n",
      "73\n",
      "75\n",
      "77\n",
      "79\n",
      "81\n",
      "83\n",
      "85\n",
      "87\n",
      "89\n",
      "91\n",
      "93\n",
      "95\n",
      "97\n",
      "99\n",
      "[0.6211711955053751, 0.647344821997731, 0.6607557668413376, 0.6680892442331586, 0.6727081194965155, 0.6754227216249797, 0.6776646318405273, 0.6802036626870509, 0.6796904543244557, 0.6826616606342175, 0.6843228350710389, 0.6844713953865269, 0.686119064340122, 0.6868483604343364, 0.6870779536491816, 0.6879423045756577, 0.6887661390524553, 0.6898600831937767, 0.6905623683215385, 0.6907514450867052, 0.6901166873750743, 0.6902112257576576, 0.6902517422073362, 0.6909000054021933, 0.6910755766841338, 0.6909945437847766, 0.69165631246286, 0.6919804440602885, 0.6918588947112527, 0.69193992761061, 0.6923585975906218, 0.6919534330938361, 0.69193992761061, 0.6922640592080385, 0.6924531359732051, 0.6919669385770623, 0.6923315866241694, 0.6921425098590027, 0.6919264221273838, 0.6925611798390147, 0.6921560153422289, 0.6921830263086813, 0.692237048241586, 0.6927097401545027, 0.6928312895035384, 0.692520663389336, 0.6928447949867647, 0.6931149046512884, 0.6924801469396575, 0.692237048241586]\n",
      "95\n"
     ]
    }
   ],
   "source": [
    "scores = []\n",
    "k_lim = 100\n",
    "k_max = 0\n",
    "\n",
    "for k in range(1, k_lim, 2):\n",
    "    print(k)\n",
    "    KNN = KNeighborsClassifier(n_neighbors=k)\n",
    "    KNN.fit(X_train, y_train)\n",
    "    score = KNN.score(X_test, y_test)\n",
    "    scores.append(score)\n",
    "    if score >= max(scores):\n",
    "        k_max = k\n",
    "\n",
    "print(scores)\n",
    "print(k_max)"
   ]
  },
  {
   "cell_type": "code",
   "execution_count": 5,
   "metadata": {},
   "outputs": [
    {
     "data": {
      "text/plain": [
       "Text(0.5, 0, 'k')"
      ]
     },
     "execution_count": 5,
     "metadata": {},
     "output_type": "execute_result"
    },
    {
     "data": {
      "image/png": "[encoded data removed]",
      "text/plain": [
       "<Figure size 432x288 with 1 Axes>"
      ]
     },
     "metadata": {
      "needs_background": "light"
     },
     "output_type": "display_data"
    }
   ],
   "source": [
    "plt.plot(range(1, k_lim, 2), scores)\n",
    "plt.ylabel(\"Accuracy\", size=15)\n",
    "plt.xlabel(\"k\", size=15)"
   ]
  },
  {
   "cell_type": "code",
   "execution_count": 6,
   "metadata": {},
   "outputs": [
    {
     "name": "stdout",
     "output_type": "stream",
     "text": [
      "95 0.6931149046512884\n"
     ]
    }
   ],
   "source": [
    "i = np.argmax(scores)\n",
    "print(i*2+1, scores[i])"
   ]
  },
  {
   "cell_type": "markdown",
   "metadata": {},
   "source": [
    "### C. Decision tree and random forest<a name=\"dtrf\"></a>"
   ]
  },
  {
   "cell_type": "markdown",
   "metadata": {},
   "source": [
    "#### Decision tree"
   ]
  },
  {
   "cell_type": "markdown",
   "metadata": {},
   "source": [
    "The first thing that strikes out after running tests with different features is that `category` (with label or one-hot encoding) remains the most relevant feature to increase accuracy (about 2% better).\n",
    "\n",
    "Secondly, we noticed after fitting each single feature separately into a decision tree model is that not only is label encoding much faster than one-hot encoding (just 1 feature vs. many), but it provides similar accuracy. For this reason, most tests combining several features used label encoding. This is interesting because a decision tree might think there is an inherent hierarchy to the label-encoded category, even though that is not the case. It is also worth noting that, when using one-hot encoding, the line across the various levels of depth is more jagged, therefore suggesting that one-hot encoding's effectiveness is more subject to randomness. \n",
    "\n",
    "We also noticed that there is no significant difference in performance between the main criteria for picking attributes/thresholds, namely Gini and entropy (the latter seems slightly better).\n",
    "\n",
    "Generally speaking, adding more features to the decision tree gives more accuracy. Our best results were achieved by keeping all 5 features (with standard or min-max normalization, and label-encoding). That being said, simply combining the `usd_goal_real` (MM) feature with `category` (LE) gave us an accuracy rivaling with the best score. This is consistent with what was observed for logistic regression, thus further increasing our belief that the goal and the category have good synergy, and that increasing the number of features increases accuracy, although the marginal increase of each feature is quite small.\n",
    "\n",
    "Finally, as expected, normalizing the numerical data doesn't affect accuracy of the decision tree."
   ]
  },
  {
   "cell_type": "code",
   "execution_count": 99,
   "metadata": {},
   "outputs": [
    {
     "data": {
      "text/plain": [
       "[0.6377019069742316,\n",
       " 0.6377019069742316,\n",
       " 0.6527335098049808,\n",
       " 0.6550699584031117,\n",
       " 0.6609718545729566,\n",
       " 0.6680622332667063,\n",
       " 0.6749905461617417,\n",
       " 0.6776376208740749,\n",
       " 0.6836745718761817,\n",
       " 0.6854167792123602,\n",
       " 0.6835665280103722,\n",
       " 0.6855653395278483,\n",
       " 0.6852412079304198,\n",
       " 0.6852952298633245,\n",
       " 0.6856193614607531,\n",
       " 0.6852817243800983,\n",
       " 0.6838096267084436,\n",
       " 0.6827156825671222,\n",
       " 0.6807708929825509]"
      ]
     },
     "execution_count": 99,
     "metadata": {},
     "output_type": "execute_result"
    }
   ],
   "source": [
    "scores = []\n",
    "\n",
    "for d in range(1, 20):\n",
    "    DT = DecisionTreeClassifier(criterion=\"entropy\", max_depth=d, random_state=RSEED)\n",
    "    DT.fit(X_train, y_train)\n",
    "    scores.append(DT.score(X_test, y_test))\n",
    "\n",
    "scores"
   ]
  },
  {
   "cell_type": "code",
   "execution_count": 100,
   "metadata": {},
   "outputs": [
    {
     "data": {
      "text/plain": [
       "Text(0.5, 0, 'depth')"
      ]
     },
     "execution_count": 100,
     "metadata": {},
     "output_type": "execute_result"
    },
    {
     "data": {
      "image/png": "[encoded data removed]",
      "text/plain": [
       "<Figure size 432x288 with 1 Axes>"
      ]
     },
     "metadata": {
      "needs_background": "light"
     },
     "output_type": "display_data"
    }
   ],
   "source": [
    "plt.plot(scores)\n",
    "plt.ylabel('accuracy', fontsize=14)\n",
    "plt.xlabel('depth', fontsize=14)"
   ]
  },
  {
   "cell_type": "code",
   "execution_count": 101,
   "metadata": {},
   "outputs": [
    {
     "name": "stdout",
     "output_type": "stream",
     "text": [
      "15 0.6856193614607531\n"
     ]
    }
   ],
   "source": [
    "i = np.argmax(scores)\n",
    "print(i+1, scores[i])"
   ]
  },
  {
   "cell_type": "markdown",
   "metadata": {},
   "source": [
    "#### Random forest"
   ]
  },
  {
   "cell_type": "markdown",
   "metadata": {},
   "source": [
    "Random forests being quite intense in terms of computation, we didn't run all the tests done with decision trees (especially not the ones with one-hot encoding!). "
   ]
  },
  {
   "cell_type": "code",
   "execution_count": 108,
   "metadata": {},
   "outputs": [
    {
     "data": {
      "text/plain": [
       "[0.6377019069742316,\n",
       " 0.6420101561233861,\n",
       " 0.6590810869212901,\n",
       " 0.6598238884987305,\n",
       " 0.6619712603316946,\n",
       " 0.6640105882988493,\n",
       " 0.6655232024201826,\n",
       " 0.671100966992599,\n",
       " 0.6782588731024796,\n",
       " 0.6851466695478364,\n",
       " 0.6904273134892767,\n",
       " 0.6930743882016098,\n",
       " 0.6946005078061693,\n",
       " 0.6973286154178596,\n",
       " 0.6990168008211334,\n",
       " 0.6983145156933716,\n",
       " 0.6988007130895143,\n",
       " 0.6991923721030738,\n",
       " 0.6983280211765976]"
      ]
     },
     "execution_count": 108,
     "metadata": {},
     "output_type": "execute_result"
    }
   ],
   "source": [
    "scores = []\n",
    "\n",
    "for d in range(1,20):\n",
    "    RF = RandomForestClassifier(criterion=\"entropy\", n_estimators=100, max_depth=d, random_state=RSEED)\n",
    "    RF.fit(X_train, y_train)\n",
    "    scores.append(RF.score(X_test, y_test))\n",
    "\n",
    "scores"
   ]
  },
  {
   "cell_type": "code",
   "execution_count": 109,
   "metadata": {},
   "outputs": [
    {
     "data": {
      "text/plain": [
       "Text(0.5, 0, 'depth')"
      ]
     },
     "execution_count": 109,
     "metadata": {},
     "output_type": "execute_result"
    },
    {
     "data": {
      "image/png": "[encoded data removed]",
      "text/plain": [
       "<Figure size 432x288 with 1 Axes>"
      ]
     },
     "metadata": {
      "needs_background": "light"
     },
     "output_type": "display_data"
    }
   ],
   "source": [
    "plt.plot(scores)\n",
    "plt.ylabel('accuracy', fontsize=14)\n",
    "plt.xlabel('depth', fontsize=14)"
   ]
  },
  {
   "cell_type": "code",
   "execution_count": 110,
   "metadata": {},
   "outputs": [
    {
     "name": "stdout",
     "output_type": "stream",
     "text": [
      "18 0.6991923721030738\n"
     ]
    }
   ],
   "source": [
    "i = np.argmax(scores)\n",
    "print(i+1, scores[i])"
   ]
  },
  {
   "cell_type": "markdown",
   "metadata": {},
   "source": [
    "### D. Neural network<a name=\"nn\"></a>"
   ]
  },
  {
   "cell_type": "markdown",
   "metadata": {},
   "source": [
    "Highest: 67.12% with cat and maincat\n",
    "adding country: 66.67\n",
    "\n",
    "with numerical values it stays low.\n",
    "\n",
    "all features: 67"
   ]
  },
  {
   "cell_type": "code",
   "execution_count": 159,
   "metadata": {},
   "outputs": [
    {
     "name": "stdout",
     "output_type": "stream",
     "text": [
      "Model: \"sequential_2\"\n",
      "_________________________________________________________________\n",
      "Layer (type)                 Output Shape              Param #   \n",
      "=================================================================\n",
      "dense_3 (Dense)              (None, 512)               89600     \n",
      "_________________________________________________________________\n",
      "activation_3 (Activation)    (None, 512)               0         \n",
      "_________________________________________________________________\n",
      "dropout_2 (Dropout)          (None, 512)               0         \n",
      "_________________________________________________________________\n",
      "dense_4 (Dense)              (None, 2)                 1026      \n",
      "_________________________________________________________________\n",
      "activation_4 (Activation)    (None, 2)                 0         \n",
      "=================================================================\n",
      "Total params: 90,626\n",
      "Trainable params: 90,626\n",
      "Non-trainable params: 0\n",
      "_________________________________________________________________\n"
     ]
    }
   ],
   "source": [
    "Y_train = np_utils.to_categorical(y_train, 2)\n",
    "Y_test = np_utils.to_categorical(y_test, 2)\n",
    "\n",
    "NN = Sequential()\n",
    "NN.add(Dense(512, input_shape=(X.shape[1],)))\n",
    "NN.add(Activation(\"relu\"))\n",
    "NN.add(Dropout(0.2))\n",
    "NN.add(Dense(2))\n",
    "NN.add(Activation(\"softmax\"))\n",
    "\n",
    "optimizer = optimizers.SGD(lr=0.0001, decay=1e-6, momentum=0.9, nesterov=True)\n",
    "NN.compile(loss=\"categorical_crossentropy\", optimizer=optimizer, metrics=[\"accuracy\"])\n",
    "\n",
    "model.summary()"
   ]
  },
  {
   "cell_type": "code",
   "execution_count": 160,
   "metadata": {
    "collapsed": true
   },
   "outputs": [
    {
     "name": "stdout",
     "output_type": "stream",
     "text": [
      "Train on 236940 samples, validate on 59235 samples\n",
      "Epoch 1/30\n",
      "236940/236940 [==============================] - 17s 71us/step - loss: 0.6527 - accuracy: 0.6346 - val_loss: 0.6449 - val_accuracy: 0.6359\n",
      "Epoch 2/30\n",
      "236940/236940 [==============================] - 16s 69us/step - loss: 0.6416 - accuracy: 0.6365 - val_loss: 0.6380 - val_accuracy: 0.6359\n",
      "Epoch 3/30\n",
      "236940/236940 [==============================] - 16s 69us/step - loss: 0.6358 - accuracy: 0.6371 - val_loss: 0.6331 - val_accuracy: 0.6359\n",
      "Epoch 4/30\n",
      "236940/236940 [==============================] - 16s 69us/step - loss: 0.6317 - accuracy: 0.6397 - val_loss: 0.6295 - val_accuracy: 0.6402\n",
      "Epoch 5/30\n",
      "236940/236940 [==============================] - 16s 70us/step - loss: 0.6286 - accuracy: 0.6441 - val_loss: 0.6267 - val_accuracy: 0.6513\n",
      "Epoch 6/30\n",
      "236940/236940 [==============================] - 16s 69us/step - loss: 0.6263 - accuracy: 0.6484 - val_loss: 0.6245 - val_accuracy: 0.6507\n",
      "Epoch 7/30\n",
      "236940/236940 [==============================] - 17s 71us/step - loss: 0.6244 - accuracy: 0.6524 - val_loss: 0.6227 - val_accuracy: 0.6546\n",
      "Epoch 8/30\n",
      "236940/236940 [==============================] - 16s 67us/step - loss: 0.6229 - accuracy: 0.6552 - val_loss: 0.6213 - val_accuracy: 0.6591\n",
      "Epoch 9/30\n",
      "236940/236940 [==============================] - 16s 68us/step - loss: 0.6217 - accuracy: 0.6570 - val_loss: 0.6202 - val_accuracy: 0.6597\n",
      "Epoch 10/30\n",
      "236940/236940 [==============================] - 16s 68us/step - loss: 0.6206 - accuracy: 0.6584 - val_loss: 0.6191 - val_accuracy: 0.6596\n",
      "Epoch 11/30\n",
      "236940/236940 [==============================] - 16s 68us/step - loss: 0.6197 - accuracy: 0.6603 - val_loss: 0.6183 - val_accuracy: 0.6634\n",
      "Epoch 12/30\n",
      "236940/236940 [==============================] - 16s 68us/step - loss: 0.6190 - accuracy: 0.6611 - val_loss: 0.6175 - val_accuracy: 0.6634\n",
      "Epoch 13/30\n",
      "236940/236940 [==============================] - 17s 70us/step - loss: 0.6185 - accuracy: 0.6623 - val_loss: 0.6169 - val_accuracy: 0.6645\n",
      "Epoch 14/30\n",
      "236940/236940 [==============================] - 16s 68us/step - loss: 0.6177 - accuracy: 0.6633 - val_loss: 0.6163 - val_accuracy: 0.6647\n",
      "Epoch 15/30\n",
      "236940/236940 [==============================] - 16s 68us/step - loss: 0.6173 - accuracy: 0.6629 - val_loss: 0.6158 - val_accuracy: 0.6659\n",
      "Epoch 16/30\n",
      "236940/236940 [==============================] - 16s 68us/step - loss: 0.6169 - accuracy: 0.6643 - val_loss: 0.6153 - val_accuracy: 0.6660\n",
      "Epoch 17/30\n",
      "236940/236940 [==============================] - 16s 67us/step - loss: 0.6164 - accuracy: 0.6648 - val_loss: 0.6149 - val_accuracy: 0.6664\n",
      "Epoch 18/30\n",
      "236940/236940 [==============================] - 16s 70us/step - loss: 0.6160 - accuracy: 0.6645 - val_loss: 0.6145 - val_accuracy: 0.6675\n",
      "Epoch 19/30\n",
      "236940/236940 [==============================] - 16s 68us/step - loss: 0.6156 - accuracy: 0.6653 - val_loss: 0.6142 - val_accuracy: 0.6664\n",
      "Epoch 20/30\n",
      "236940/236940 [==============================] - 16s 68us/step - loss: 0.6154 - accuracy: 0.6649 - val_loss: 0.6139 - val_accuracy: 0.6675\n",
      "Epoch 21/30\n",
      "236940/236940 [==============================] - 16s 68us/step - loss: 0.6149 - accuracy: 0.6657 - val_loss: 0.6135 - val_accuracy: 0.6679\n",
      "Epoch 22/30\n",
      "236940/236940 [==============================] - 17s 70us/step - loss: 0.6149 - accuracy: 0.6664 - val_loss: 0.6133 - val_accuracy: 0.6696\n",
      "Epoch 23/30\n",
      "236940/236940 [==============================] - 16s 70us/step - loss: 0.6146 - accuracy: 0.6659 - val_loss: 0.6131 - val_accuracy: 0.6688\n",
      "Epoch 24/30\n",
      "236940/236940 [==============================] - 16s 68us/step - loss: 0.6145 - accuracy: 0.6661 - val_loss: 0.6128 - val_accuracy: 0.6695\n",
      "Epoch 25/30\n",
      "236940/236940 [==============================] - 16s 68us/step - loss: 0.6142 - accuracy: 0.6663 - val_loss: 0.6126 - val_accuracy: 0.6695\n",
      "Epoch 26/30\n",
      "236940/236940 [==============================] - 16s 68us/step - loss: 0.6139 - accuracy: 0.6664 - val_loss: 0.6124 - val_accuracy: 0.6699\n",
      "Epoch 27/30\n",
      "236940/236940 [==============================] - 16s 67us/step - loss: 0.6137 - accuracy: 0.6668 - val_loss: 0.6122 - val_accuracy: 0.6699\n",
      "Epoch 28/30\n",
      "236940/236940 [==============================] - 16s 67us/step - loss: 0.6134 - accuracy: 0.6671 - val_loss: 0.6120 - val_accuracy: 0.6700\n",
      "Epoch 29/30\n",
      "236940/236940 [==============================] - 16s 68us/step - loss: 0.6132 - accuracy: 0.6669 - val_loss: 0.6119 - val_accuracy: 0.6700\n",
      "Epoch 30/30\n",
      "236940/236940 [==============================] - 16s 66us/step - loss: 0.6132 - accuracy: 0.6668 - val_loss: 0.6117 - val_accuracy: 0.6700\n"
     ]
    }
   ],
   "source": [
    "model_hist = NN.fit(X_train, Y_train, batch_size=64, epochs=30, verbose=1, validation_split=0.2)"
   ]
  },
  {
   "cell_type": "markdown",
   "metadata": {},
   "source": [
    "### E. Linear regression<a name=\"linr\"></a>"
   ]
  },
  {
   "cell_type": "code",
   "execution_count": null,
   "metadata": {},
   "outputs": [],
   "source": []
  },
  {
   "cell_type": "markdown",
   "metadata": {},
   "source": [
    "## 4. Conclusion<a name=\"conclusion\"></a>"
   ]
  },
  {
   "cell_type": "markdown",
   "metadata": {},
   "source": [
    "asd\n"
   ]
  }
 ],
 "metadata": {
  "kernelspec": {
   "display_name": "Python 3",
   "language": "python",
   "name": "python3"
  },
  "language_info": {
   "codemirror_mode": {
    "name": "ipython",
    "version": 3
   },
   "file_extension": ".py",
   "mimetype": "text/x-python",
   "name": "python",
   "nbconvert_exporter": "python",
   "pygments_lexer": "ipython3",
   "version": "3.7.3"
  }
 },
 "nbformat": 4,
 "nbformat_minor": 2
}
